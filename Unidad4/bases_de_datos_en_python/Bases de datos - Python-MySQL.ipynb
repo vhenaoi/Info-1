{
 "cells": [
  {
   "cell_type": "markdown",
   "metadata": {},
   "source": [
    "# LIBRERÍA DE PYTHON PARA CONECTAR CON BD MYSQL\n",
    "\n",
    "Interfaz de <b>Python3</b> para <b>MySQL</b>.\n",
    "\n",
    "<b>mysql.connector</b> es una interfaz para conectar el popular servidor de base de datos <b>MySQL</b> con <b>Python3</b>.\n",
    "\n",
    "<img src=\"img/py-mysql.png\">\n",
    "\n",
    "La instalación de esta librería, se puede hacer con la descarga del instalador desde la página oficial de MySQL\n",
    "<a href=\"https://dev.mysql.com/downloads/connector/python/\" target=\"_blank\">https://dev.mysql.com/downloads/connector/python/</a>\n",
    "o a través de consola utilizando el método <b>pip</b>.\n",
    "\n",
    "<br>\n",
    "\n",
    "<img src=\"img/py-connector-mysql.png\">"
   ]
  },
  {
   "cell_type": "code",
   "execution_count": null,
   "metadata": {},
   "outputs": [],
   "source": []
  },
  {
   "cell_type": "markdown",
   "metadata": {},
   "source": [
    "#### Para la instalación del myqs-connector-python por consola, usamos la siguiente instrucción"
   ]
  },
  {
   "cell_type": "code",
   "execution_count": null,
   "metadata": {},
   "outputs": [],
   "source": [
    "!pip install mysql-connector-python"
   ]
  },
  {
   "cell_type": "markdown",
   "metadata": {},
   "source": [
    "## Probar la inslatación del $connector$\n",
    "De esta forma verificamos si las instalaciones de MySQL y el Conector quedaron bien."
   ]
  },
  {
   "cell_type": "code",
   "execution_count": null,
   "metadata": {},
   "outputs": [],
   "source": [
    "import mysql.connector"
   ]
  },
  {
   "cell_type": "markdown",
   "metadata": {},
   "source": [
    "## Conexión con el servidor.\n",
    "Pasamos las credenciales para fijar la conexión entre Python y el servidor de la Base de Datos en MySQL"
   ]
  },
  {
   "cell_type": "code",
   "execution_count": null,
   "metadata": {},
   "outputs": [],
   "source": [
    "import mysql.connector\n",
    "\n",
    "SERVER = 'localhost'\n",
    "USER = 'root'\n",
    "PASSWD = ''\n",
    "DB = 'info1grupo3'\n",
    "\n",
    "cnx = mysql.connector.connect(user=USER , password=PASSWD , host=SERVER , database=DB )\n",
    "\n",
    "cursor = cnx.cursor()\n"
   ]
  },
  {
   "cell_type": "markdown",
   "metadata": {},
   "source": [
    "## NOTA:\n",
    "El método $cursor()$ fija la conexión entre Python y el servidor de MySQL usando las credenciales enviadas con el método $connect()$"
   ]
  },
  {
   "cell_type": "code",
   "execution_count": null,
   "metadata": {},
   "outputs": [],
   "source": []
  },
  {
   "cell_type": "markdown",
   "metadata": {},
   "source": [
    "# CRUD\n",
    "Acrónimo de <b>Create</b>, <b>Read</b>, <b>Update</b> and <b>Delete</b>\n",
    "\n",
    "Es la operaciones básica para hacer querys en bases de datos, el objetivo es: \n",
    "1. <b>Create:</b> Insertar registros en la base de datos.\n",
    "2. <b>Read:</b> Leer información desde la base de datos.\n",
    "3. <b>Update:</b> Actualizar información ya existente en la base de datos.\n",
    "4. <b>Delete:</b> Eliminar registros de la base de datos."
   ]
  },
  {
   "cell_type": "markdown",
   "metadata": {},
   "source": [
    "## NOTA:\n",
    "Toda instrucción que se pasa a MySQL desde Python para hacer los query, se debe hacer con una cadena (string). <b><u>Por convención</u></b>, para la construcción de estas cadenas, las palabras reservadas de MySQL las vamos a poner en <u>mayúsculas</u> y el resto, como varialbles, datos, etc., las vamos a usar en <u>minúsculas</u>."
   ]
  },
  {
   "cell_type": "code",
   "execution_count": null,
   "metadata": {},
   "outputs": [],
   "source": []
  },
  {
   "cell_type": "markdown",
   "metadata": {},
   "source": [
    "# READ - Leer\n",
    "\n",
    "* Tiene varias formas de uso según los filtros, el ordenamiento de la información, el tipo de datos, etc. La palabra reservada de MySQL para hacer este query es $SELECT$.\n",
    "\n",
    "* Durante todo el proceso y en los diferentes query, vamos a estar utilizando la variable $cursor$ creada en la conexión con el servidor. Siempre se usará este vínculo para hacer las peticiones al servidor.\n",
    "\n",
    "* Todas las peticiones hechas tienen la forma Acción-Reacción, Python como cliente envía una petición (acción) y el sevidor devuelve una respuesta (reacción)."
   ]
  },
  {
   "cell_type": "code",
   "execution_count": null,
   "metadata": {},
   "outputs": [],
   "source": []
  },
  {
   "cell_type": "markdown",
   "metadata": {},
   "source": [
    "###  Traer TODA la información de la base de datos"
   ]
  },
  {
   "cell_type": "code",
   "execution_count": null,
   "metadata": {},
   "outputs": [],
   "source": [
    "sql = \"SELECT * FROM estudiantes\"\n",
    "\n",
    "# Luego de tener la línea de comandos del SQL (cadena) se debe enviar al servidor\n",
    "# para que la procese y devuelva una respeusta.\n",
    "cursor.execute(sql)\n",
    "\n",
    "# Luego que el servidor procesa la información de la cadena enviada y si todo\n",
    "# está bien, envía la respuesta. Es un arreglo que capturo con el método fetchall()\n",
    "# y este este retorna una lista de tuplas, donde cada tupla es un registro\n",
    "# de la base de datos, estos registros pueden ser cero, uno o varios, según\n",
    "# sea la condición que se pida en la instrucción de la cadena enviada.\n",
    "results = cursor.fetchall()\n",
    "\n",
    "results"
   ]
  },
  {
   "cell_type": "code",
   "execution_count": null,
   "metadata": {},
   "outputs": [],
   "source": []
  },
  {
   "cell_type": "markdown",
   "metadata": {},
   "source": [
    "### Filtrado, solo trae los registros que cumplen con la condición"
   ]
  },
  {
   "cell_type": "code",
   "execution_count": null,
   "metadata": {},
   "outputs": [],
   "source": [
    "condición = input('Documentos de id: ')\n",
    "#sql = \"SELECT * FROM estudiantes WHERE documento = '%s' \" % condición\n",
    "sql = f\"SELECT * FROM estudiantes WHERE documento = '{condición}' \"\n",
    "sql = \"SELECT * FROM estudiantes WHERE documento = '\" + str(condición)+ \"' \"\n",
    "# la VARIABLE es el nombre de la columna en la tabla por la cual quiero hacer el filtro.\n",
    "# la CONDICIÓN es el valor que se evalúa para traer los registros.\n",
    "\n",
    "# En la condición podemos utilizar los operadores >, <, >= , <= , =\n",
    "# Para el caso LIKE, se puede utilizar el comodín %...% , ...%, %... , _..., ..._\n",
    "\n",
    "# RECUERDE que la expresión que se almacena en sql es una cadena (string) y\n",
    "# se puede usar cualquier método de concatenación, como por ejemplo: + , % , .format() o f-string\n",
    "\n",
    "cursor.execute(sql)\n",
    "results = cursor.fetchall()\n",
    "results"
   ]
  },
  {
   "cell_type": "code",
   "execution_count": null,
   "metadata": {},
   "outputs": [],
   "source": []
  },
  {
   "cell_type": "code",
   "execution_count": null,
   "metadata": {},
   "outputs": [],
   "source": []
  },
  {
   "cell_type": "markdown",
   "metadata": {},
   "source": [
    "### Ordenar, se hace la petición al servidor, pero con una condición de ordenamiento"
   ]
  },
  {
   "cell_type": "code",
   "execution_count": null,
   "metadata": {},
   "outputs": [],
   "source": [
    "sql = \"SELECT * FROM estudiantes ORDER BY edad DESC\"\n",
    "# ASC : Orden ascendente\n",
    "# DESC : Orden descendente\n",
    "\n",
    "cursor.execute(sql)\n",
    "results = cursor.fetchall()\n",
    "results"
   ]
  },
  {
   "cell_type": "code",
   "execution_count": null,
   "metadata": {},
   "outputs": [],
   "source": []
  },
  {
   "cell_type": "markdown",
   "metadata": {},
   "source": [
    "### Filtro de variables, se pueden traer solo algunas variables (columnas) de una tabla"
   ]
  },
  {
   "cell_type": "code",
   "execution_count": null,
   "metadata": {},
   "outputs": [],
   "source": [
    "sql = \"SELECT edad , nombre , documento FROM estudiantes \"\n",
    "# col1, col3, etc. debe ser el nombre exacto de la columna de la tabla\n",
    "# Dichas columnas no tienen que ser en el orden que están en la tabla\n",
    "\n",
    "cursor.execute(sql)\n",
    "results = cursor.fetchall()\n",
    "results"
   ]
  },
  {
   "cell_type": "code",
   "execution_count": null,
   "metadata": {},
   "outputs": [],
   "source": [
    "sql = \"SELECT edad , nombre , documento FROM estudiantes WHERE edad > '30' ORDER BY nombre ASC\"\n",
    "# col1, col3, etc. debe ser el nombre exacto de la columna de la tabla\n",
    "# Dichas columnas no tienen que ser en el orden que están en la tabla\n",
    "\n",
    "cursor.execute(sql)\n",
    "results = cursor.fetchall()\n",
    "results"
   ]
  },
  {
   "cell_type": "code",
   "execution_count": null,
   "metadata": {},
   "outputs": [],
   "source": []
  },
  {
   "cell_type": "markdown",
   "metadata": {},
   "source": [
    "### Consultar información de varias tablas el mismo tiempo"
   ]
  },
  {
   "cell_type": "code",
   "execution_count": null,
   "metadata": {},
   "outputs": [],
   "source": [
    "cod= input('Ingrese el código: ')\n",
    "sql = f\"\"\"SELECT  estudiantes.nombre, estudiantes.apellido,estudiantes.carrera, \n",
    "        carreras.codigo , carreras.carrera \n",
    "         FROM  estudiantes ,carreras WHERE \n",
    "         estudiantes.carrera = {cod} and carreras.codigo = {cod}\"\"\"\n",
    "# varOK es el criterio de búsqueda, es decir, es la columna que tiene que coincidir \n",
    "# para que se haga la consulta.\n",
    "\n",
    "cursor.execute(sql)\n",
    "results = cursor.fetchall()\n",
    "results"
   ]
  },
  {
   "cell_type": "code",
   "execution_count": null,
   "metadata": {},
   "outputs": [],
   "source": [
    "### cod= input('Ingrese el código: ')\n",
    "sql = f\"\"\"SELECT  estudiantes.nombre, estudiantes.apellido,estudiantes.carrera, \n",
    "        carreras.codigo , carreras.carrera \n",
    "         FROM  estudiantes ,carreras WHERE \n",
    "         estudiantes.carrera =  carreras.codigo \"\"\"\n",
    "# varOK es el criterio de búsqueda, es decir, es la columna que tiene que coincidir \n",
    "# para que se haga la consulta.\n",
    "\n",
    "cursor.execute(sql)\n",
    "results = cursor.fetchall()\n",
    "results"
   ]
  },
  {
   "cell_type": "code",
   "execution_count": null,
   "metadata": {},
   "outputs": [],
   "source": []
  },
  {
   "cell_type": "code",
   "execution_count": null,
   "metadata": {},
   "outputs": [],
   "source": [
    "### cod= input('Ingrese el código: ')\n",
    "sql = 'select * from prueba'\n",
    "# varOK es el criterio de búsqueda, es decir, es la columna que tiene que coincidir \n",
    "# para que se haga la consulta.\n",
    "\n",
    "cursor.execute(sql)\n",
    "results = cursor.fetchall()\n",
    "j = 0\n",
    "for i in results:\n",
    "    j+=1\n",
    "    print(f'{j} - {i[1]} {i[2]} y tiene {i[3]} años de dad')"
   ]
  },
  {
   "cell_type": "code",
   "execution_count": null,
   "metadata": {},
   "outputs": [],
   "source": []
  },
  {
   "cell_type": "markdown",
   "metadata": {},
   "source": [
    "# CREATE - Insertar o agregar \n",
    "\n",
    "La palabra reservada de MySQL para hacer este query es $INSERT\\ INTO$.\n"
   ]
  },
  {
   "cell_type": "code",
   "execution_count": null,
   "metadata": {},
   "outputs": [],
   "source": [
    "nom = input('Nombre; ')\n",
    "ape = input('Apellido; ')\n",
    "edad = input('Edad; ')\n",
    "sql_insert = \"\"\"INSERT  INTO  prueba (id, nombre, apellido,edad)  \n",
    "                VALUES (%s,%s,%s,%s)\"\"\"\n",
    "\n",
    "cursor.execute(sql_insert,(None,nom, ape, edad)) \n",
    "cnx.commit()"
   ]
  },
  {
   "cell_type": "code",
   "execution_count": null,
   "metadata": {},
   "outputs": [],
   "source": []
  },
  {
   "cell_type": "markdown",
   "metadata": {},
   "source": [
    "# UPDATE - Modificar o Actualizar\n",
    "\n",
    "La palabra reservada de MySQL para hacer este query es $UPDATE\\ ...\\ SET$."
   ]
  },
  {
   "cell_type": "code",
   "execution_count": null,
   "metadata": {},
   "outputs": [],
   "source": [
    "sql='UPDATE prueba SET nombre=\"María\" WHERE id > 20 '\n",
    "\n",
    "cursor.execute(sql) \n",
    "cnx.commit()"
   ]
  },
  {
   "cell_type": "code",
   "execution_count": null,
   "metadata": {},
   "outputs": [],
   "source": []
  },
  {
   "cell_type": "markdown",
   "metadata": {},
   "source": [
    "# DELETE - Eliminar\n",
    "\n",
    "La palabra reservada de MySQL para hacer este query es $DELETE$."
   ]
  },
  {
   "cell_type": "code",
   "execution_count": null,
   "metadata": {},
   "outputs": [],
   "source": [
    "sql=\"DELETE FROM prueba WHERE edad >= 30\"\n",
    "cursor.execute(sql) #Ejecuta el comando SQL\n",
    "cnx.commit() #Confirma los cambios en la base de datos."
   ]
  },
  {
   "cell_type": "code",
   "execution_count": null,
   "metadata": {},
   "outputs": [],
   "source": []
  },
  {
   "cell_type": "markdown",
   "metadata": {},
   "source": [
    "# CIERRE DE LA CONEXIÓN\n",
    "Finalmente cuando se termina el proceso, se debe cerrar la conexión entre Python y MySQL"
   ]
  },
  {
   "cell_type": "code",
   "execution_count": null,
   "metadata": {},
   "outputs": [],
   "source": [
    "cnx.close()"
   ]
  },
  {
   "cell_type": "code",
   "execution_count": null,
   "metadata": {},
   "outputs": [],
   "source": []
  },
  {
   "cell_type": "markdown",
   "metadata": {},
   "source": [
    "# RESUMEN DE EJECUCIÓN\n",
    "\n",
    "1. Importo la librería\n",
    "2. Credenciales para conectar con el servidor\n",
    "3. Esteblecer la conexión\n",
    "4. Se hacer los query (CRUD)\n",
    "5. cerrar la conexión"
   ]
  },
  {
   "cell_type": "code",
   "execution_count": null,
   "metadata": {},
   "outputs": [],
   "source": []
  },
  {
   "cell_type": "markdown",
   "metadata": {},
   "source": [
    "# EJERCICIO CON BASES DE DATOS\n",
    "\n",
    "Desarrollo un algoritmo en Python que permita conectarse a base de datos _dimplomado_ y las tablas _salarios_, _cargo_, _facultad_ y _ciudad_. Hacer una aplicación CRUD con el siguiente menú:\n",
    "1. Ingresar empleado\n",
    "2. Consultar empleado\n",
    "3. Mostrar todos los empleados\n",
    "4. Actualizar registro de empleado\n",
    "5. Eliminar registro.\n",
    "6. Salir\n",
    "\n",
    "\n",
    "\n",
    "* En la consulta se debe preguntar el tipo del campo por el cuál desea hacer la búsqueda. Adicional, la consulta no debe ser el campo exacto, es decir, usar la sintaxis LIKE %...%\n",
    "* La consulta, se debe hacer el forma relacional, es decir, que la información de cargo, facultad y ciudad no sea el código, sino el texto que le corresponde a cada uno.\n",
    "* Para el caso de la actualización del registro, el query se debe hacer a través del id y preguntar que campo desea actualizar.\n",
    "* La eliminación del registros, se debe hacer a través del id.\n"
   ]
  },
  {
   "cell_type": "code",
   "execution_count": null,
   "metadata": {},
   "outputs": [],
   "source": []
  }
 ],
 "metadata": {
  "kernelspec": {
   "display_name": "Python 3",
   "language": "python",
   "name": "python3"
  },
  "language_info": {
   "codemirror_mode": {
    "name": "ipython",
    "version": 3
   },
   "file_extension": ".py",
   "mimetype": "text/x-python",
   "name": "python",
   "nbconvert_exporter": "python",
   "pygments_lexer": "ipython3",
   "version": "3.8.8"
  }
 },
 "nbformat": 4,
 "nbformat_minor": 4
}
