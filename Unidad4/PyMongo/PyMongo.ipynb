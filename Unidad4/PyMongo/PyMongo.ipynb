{
 "cells": [
  {
   "cell_type": "markdown",
   "metadata": {},
   "source": [
    "# PyMongo\n",
    "<br>\n",
    "<br>\n",
    "<br>\n",
    "\n",
    "<img src=\"img/logo_pymongo.png\">"
   ]
  },
  {
   "cell_type": "code",
   "execution_count": null,
   "metadata": {},
   "outputs": [],
   "source": []
  },
  {
   "attachments": {},
   "cell_type": "markdown",
   "metadata": {},
   "source": [
    "### Desde la página web oficial de MongoDB.\n",
    "PyMongo es el controlador (driver) ofiacial de Python para MongoDB. Le recomendamos usar este controlador para trabajar con MongoDB desde Python\n",
    "\n",
    "<a href=\"https://docs.mongodb.com/drivers/pymongo/\">mongoDB Web Site</a>"
   ]
  },
  {
   "cell_type": "markdown",
   "metadata": {},
   "source": [
    "<img src=\"img/webpage_pymongo.png\">"
   ]
  },
  {
   "cell_type": "code",
   "execution_count": null,
   "metadata": {},
   "outputs": [],
   "source": []
  },
  {
   "cell_type": "markdown",
   "metadata": {},
   "source": [
    "### Instalación de PyMongo\n",
    "$PyMongo$ es una paquete indexado en los paquetes de Python, por esto se peude instalar con el comando $pip$"
   ]
  },
  {
   "cell_type": "code",
   "execution_count": 1,
   "metadata": {},
   "outputs": [
    {
     "name": "stderr",
     "output_type": "stream",
     "text": [
      "C:\\Users\\Victoria\\AppData\\Local\\Programs\\Python\\Python310\\python.exe: can't open file 'd:\\\\Info-1\\\\Unidad4\\\\PyMongo\\\\install': [Errno 2] No such file or directory\n"
     ]
    }
   ],
   "source": [
    "!python install pymongo"
   ]
  },
  {
   "cell_type": "markdown",
   "metadata": {},
   "source": [
    "### Sa hace la importación de la librería y el método, clase o funciones a usar"
   ]
  },
  {
   "cell_type": "code",
   "execution_count": null,
   "metadata": {},
   "outputs": [],
   "source": [
    "from pymongo import MongoClient"
   ]
  },
  {
   "cell_type": "markdown",
   "metadata": {},
   "source": [
    "### Primer paso\n",
    "Crear un objeto $MongoClient$ para correr la instalacia de $mongod$ y establecer la conexión con el servidor"
   ]
  },
  {
   "cell_type": "markdown",
   "metadata": {},
   "source": [
    "Se puede hacer de dos formas.\n",
    "1. Usando los argumento del método."
   ]
  },
  {
   "cell_type": "code",
   "execution_count": null,
   "metadata": {},
   "outputs": [],
   "source": [
    "client = MongoClient('localhost', 27017)"
   ]
  },
  {
   "cell_type": "markdown",
   "metadata": {},
   "source": [
    "o dos, usando la URI de MongoDB"
   ]
  },
  {
   "cell_type": "code",
   "execution_count": null,
   "metadata": {},
   "outputs": [],
   "source": [
    "client = MongoClient('mongodb://localhost:27017/')"
   ]
  },
  {
   "cell_type": "markdown",
   "metadata": {},
   "source": [
    "La variable $client$ hará de puente entre el cliente y el servidor"
   ]
  },
  {
   "cell_type": "code",
   "execution_count": null,
   "metadata": {},
   "outputs": [],
   "source": [
    "db = client.prueba"
   ]
  },
  {
   "cell_type": "markdown",
   "metadata": {},
   "source": [
    "Dado el caso que el nombre de la base de datos tenga un nombre con guión medio o espacios, se puede usar el estido de indexación de diccionarios en python"
   ]
  },
  {
   "cell_type": "code",
   "execution_count": null,
   "metadata": {},
   "outputs": [],
   "source": [
    "db2 = client['bd-prueba']"
   ]
  },
  {
   "cell_type": "markdown",
   "metadata": {},
   "source": [
    "### Insertando con $insert\\_one()$"
   ]
  },
  {
   "cell_type": "code",
   "execution_count": null,
   "metadata": {},
   "outputs": [],
   "source": [
    "estudiante = {\n",
    "    \"_id\" : 1,\n",
    "    \"nombre\" : \"Pedro Fernández\",\n",
    "    \"universidad\" : \"UdeA\",\n",
    "    \"carrera\" : \"Bioingeniería\",\n",
    "    \"semestre\" : \"2021-2\"\n",
    "}\n",
    "db2['bd-prueba'].insert_one(estudiante)"
   ]
  },
  {
   "cell_type": "markdown",
   "metadata": {},
   "source": [
    "Visualizando los datos"
   ]
  },
  {
   "cell_type": "code",
   "execution_count": null,
   "metadata": {},
   "outputs": [],
   "source": [
    "for i in db2['bd-prueba'].find():\n",
    "    print(i)"
   ]
  },
  {
   "cell_type": "code",
   "execution_count": null,
   "metadata": {},
   "outputs": [],
   "source": [
    "for i in db.prueba.find():\n",
    "    print(i)"
   ]
  },
  {
   "cell_type": "markdown",
   "metadata": {},
   "source": [
    "### Insertando con $insert\\_many()$"
   ]
  },
  {
   "cell_type": "code",
   "execution_count": null,
   "metadata": {},
   "outputs": [],
   "source": [
    "estudiante = [{\n",
    "    \"_id\" : 2,\n",
    "    \"nombre\" : \"Maria Camila Ortiz\",\n",
    "    \"universidad\" : \"UdeA\",\n",
    "    \"carrera\" : \"Ingeniería Industrial\",\n",
    "    \"semestre\" : \"2021-2\"\n",
    "},\n",
    "{\n",
    "    \"_id\" : 3,\n",
    "    \"nombre\" : \"Mateo Martínez\",\n",
    "    \"universidad\" : \"UdeA\",\n",
    "    \"carrera\" : \"Sociología\",\n",
    "    \"semestre\" : \"2021-2\"\n",
    "}]\n",
    "db2['bd-prueba'].insert_many(estudiante)"
   ]
  },
  {
   "cell_type": "markdown",
   "metadata": {},
   "source": [
    "Visualizando los datos"
   ]
  },
  {
   "cell_type": "code",
   "execution_count": null,
   "metadata": {},
   "outputs": [],
   "source": [
    "for i in db2['bd-prueba'].find():\n",
    "    print(i)"
   ]
  },
  {
   "cell_type": "markdown",
   "metadata": {},
   "source": [
    "Insertando un documento sin $\"\\_id\"$"
   ]
  },
  {
   "cell_type": "code",
   "execution_count": null,
   "metadata": {},
   "outputs": [],
   "source": [
    "estudiante = {\n",
    "    \"nombre\" : \"Laura María Mesa\",\n",
    "    \"universidad\" : \"UdeA\",\n",
    "    \"carrera\" : \"Trabajo social\",\n",
    "    \"semestre\" : \"2021-2\"\n",
    "}\n",
    "db2['bd-prueba'].insert_one(estudiante)"
   ]
  },
  {
   "cell_type": "code",
   "execution_count": null,
   "metadata": {},
   "outputs": [],
   "source": [
    "for i in db2['bd-prueba'].find():\n",
    "    print(i)"
   ]
  },
  {
   "cell_type": "code",
   "execution_count": null,
   "metadata": {},
   "outputs": [],
   "source": []
  },
  {
   "cell_type": "markdown",
   "metadata": {},
   "source": [
    "## Volviendo a la base de datos anterior $db.prueba()$"
   ]
  },
  {
   "cell_type": "code",
   "execution_count": null,
   "metadata": {},
   "outputs": [],
   "source": [
    "estudiante = [{\n",
    "    \"_id\" : 2,\n",
    "    \"name\" : \"Maria Camila Ortiz\",\n",
    "    \"universidad\" : \"UdeA\",\n",
    "    \"carrera\" : \"Ingeniería Industrial\",\n",
    "    \"semestre\" : \"2021-2\"\n",
    "},\n",
    "{\n",
    "    \"_id\" : 3,\n",
    "    \"name\" : \"Mateo Martínez\",\n",
    "    'age': 44.0,\n",
    "    \"universidad\" : \"UdeA\",\n",
    "    \"carrera\" : \"Sociología\",\n",
    "    \"semestre\" : \"2021-2\"\n",
    "},\n",
    "{\n",
    "    \"_id\" : 4,\n",
    "    \"name\" : \"Manuela Beltrán\",\n",
    "    \"universidad\" : \"UdeA\",\n",
    "    \"carrera\" : \"Ingeniería Eléctrica\",\n",
    "    'age': 31.0,\n",
    "    \"semestre\" : \"2021-2\"\n",
    "},\n",
    "{\n",
    "    \"_id\" : 5,\n",
    "    \"name\" : \"Mauricio Ortiz\",\n",
    "    \"universidad\" : \"UdeA\",\n",
    "    \"carrera\" : \"Idiomas\",\n",
    "    \"semestre\" : \"2021-2\",\n",
    "    'age': 36.0\n",
    "},\n",
    "{\n",
    "    \"_id\" : 6,\n",
    "    \"name\" : \"Karla Buitrago\",\n",
    "    \"universidad\" : \"UdeA\",\n",
    "    \"carrera\" : \"Ingeniería Química\",\n",
    "    'age': 19.0,\n",
    "    \"semestre\" : \"2021-2\"\n",
    "},\n",
    "{\n",
    "    \"_id\" : 7,\n",
    "    \"name\" : \"Juana Marcela Oquendo\",\n",
    "    \"universidad\" : \"UdeA\",\n",
    "    \"carrera\" : \"Filosofía\",\n",
    "    \"semestre\" : \"2021-2\",\n",
    "    'age': 18.0\n",
    "}]\n",
    "db.prueba.insert_many(estudiante)"
   ]
  },
  {
   "cell_type": "markdown",
   "metadata": {},
   "source": [
    "### Buscar todos los documentos $find()$"
   ]
  },
  {
   "cell_type": "code",
   "execution_count": null,
   "metadata": {},
   "outputs": [],
   "source": [
    "for i in db.prueba.find():\n",
    "    print(i)"
   ]
  },
  {
   "cell_type": "code",
   "execution_count": null,
   "metadata": {},
   "outputs": [],
   "source": [
    "for i in db.prueba.find({\"_id\":3}):\n",
    "    print(i)"
   ]
  },
  {
   "cell_type": "markdown",
   "metadata": {},
   "source": [
    "### Buscar todos los documentos $find(\\{filtro\\})$"
   ]
  },
  {
   "cell_type": "code",
   "execution_count": null,
   "metadata": {},
   "outputs": [],
   "source": [
    "for i in db.prueba.find({\"_id\":{\"$gt\":5}}):\n",
    "    print(i)"
   ]
  },
  {
   "cell_type": "markdown",
   "metadata": {},
   "source": [
    "### Utilizando $find()$ con proyección $find(\\{\\} , \\{proyección\\})$\n",
    "\n",
    "En la proyección se pone $1$ si se quiere mostrar el campo o $0$ si se quiere excluir. Siempre usando la estructura $key:value$, donde el $value$ tomará los valor $1$ o $0$"
   ]
  },
  {
   "cell_type": "code",
   "execution_count": null,
   "metadata": {},
   "outputs": [],
   "source": [
    "for i in db.prueba.find({} , {\"name\":1}):\n",
    "    print(i)"
   ]
  },
  {
   "cell_type": "code",
   "execution_count": null,
   "metadata": {},
   "outputs": [],
   "source": [
    "for i in db.prueba.find({} , {\"name\":0}):\n",
    "    print(i)"
   ]
  },
  {
   "cell_type": "markdown",
   "metadata": {},
   "source": [
    "### Combinando $filtro$ y $proyección$ en el método $find()$"
   ]
  },
  {
   "cell_type": "code",
   "execution_count": null,
   "metadata": {},
   "outputs": [],
   "source": [
    "for i in db.prueba.find({\"_id\":{\"$gt\":5}} , {\"name\":1}):\n",
    "    print(i)"
   ]
  },
  {
   "cell_type": "code",
   "execution_count": null,
   "metadata": {},
   "outputs": [],
   "source": [
    "for i in db.prueba.find({} , {\"name\":1 , \"profession\":1}):\n",
    "    print(i)"
   ]
  },
  {
   "cell_type": "code",
   "execution_count": null,
   "metadata": {},
   "outputs": [],
   "source": []
  },
  {
   "cell_type": "markdown",
   "metadata": {},
   "source": [
    "## Funciones de agregación"
   ]
  },
  {
   "cell_type": "markdown",
   "metadata": {},
   "source": [
    "### $group()$\n",
    "permite agrupar elementos y realizar operaciones sobre cada uno de los grupos"
   ]
  },
  {
   "cell_type": "markdown",
   "metadata": {},
   "source": [
    "* $\\$sum$: suma (o incrementa)\n",
    "* $\\$avg$ : calcula la media\n",
    "* $\\$min$: mínimo de los valores\n",
    "* $\\$max$: máximo"
   ]
  },
  {
   "cell_type": "code",
   "execution_count": null,
   "metadata": {},
   "outputs": [],
   "source": []
  },
  {
   "cell_type": "code",
   "execution_count": null,
   "metadata": {},
   "outputs": [],
   "source": [
    "estudiante = [{\n",
    "    \"_id\" : 7,\n",
    "    \"nombre\" : \"Mario Cuartas\",\n",
    "    \"universidad\" : \"UdeA\",\n",
    "    \"carrera\" : \"Ingeniería Industrial\",\n",
    "    \"semestre\" : \"2021-2\",\n",
    "    \"edad\" : 23,\n",
    "    \"sexo\" : \"M\"\n",
    "},\n",
    "{\n",
    "    \"_id\" : 8,\n",
    "    \"nombre\" : \"James Lugo\",\n",
    "    \"universidad\" : \"UdeA\",\n",
    "    \"carrera\" : \"Sociología\",\n",
    "    \"semestre\" : \"2021-2\",\n",
    "    \"edad\" : 42,\n",
    "    \"sexo\" : \"H\"\n",
    "},\n",
    "{\n",
    "    \"_id\" : 9,\n",
    "    \"nombre\" : \"Gonzalo Arango\",\n",
    "    \"universidad\" : \"UdeA\",\n",
    "    \"carrera\" : \"Pedagogía Infantial\",\n",
    "    \"semestre\" : \"2021-2\",\n",
    "    \"edad\" : 35,\n",
    "    \"sexo\" : \"M\"\n",
    "}]\n",
    "db2['bd-prueba'].insert_many(estudiante)"
   ]
  },
  {
   "cell_type": "code",
   "execution_count": null,
   "metadata": {},
   "outputs": [],
   "source": [
    "for i in db2['bd-prueba'].find():\n",
    "    print(i)"
   ]
  },
  {
   "cell_type": "code",
   "execution_count": null,
   "metadata": {},
   "outputs": [],
   "source": [
    "a = db2['bd-prueba'].aggregate([\n",
    "    {\n",
    "        \"$group\" : {\n",
    "            \"_id\" : {\"_id\":\"$sexo\"},\n",
    "            \"media\" : {\"$avg\":\"$edad\" }\n",
    "            \n",
    "        }\n",
    "    }\n",
    "])"
   ]
  },
  {
   "cell_type": "code",
   "execution_count": null,
   "metadata": {},
   "outputs": [],
   "source": [
    "for agregados in a:\n",
    "    print(agregados)"
   ]
  },
  {
   "cell_type": "code",
   "execution_count": null,
   "metadata": {},
   "outputs": [],
   "source": [
    "a = db2['bd-prueba'].aggregate([\n",
    "    {\n",
    "        \"$group\" : {\n",
    "            \"_id\" : {\"sexo\":\"$sexo\"},\n",
    "            \"max\" : {\"$max\":\"$edad\" },\n",
    "            \"min\" : {\"$min\":\"$edad\" },\n",
    "            \n",
    "        }\n",
    "    }\n",
    "])"
   ]
  },
  {
   "cell_type": "code",
   "execution_count": null,
   "metadata": {},
   "outputs": [],
   "source": [
    "for agregados in a:\n",
    "    print(agregados)"
   ]
  }
 ],
 "metadata": {
  "kernelspec": {
   "display_name": "Python 3",
   "language": "python",
   "name": "python3"
  },
  "language_info": {
   "codemirror_mode": {
    "name": "ipython",
    "version": 3
   },
   "file_extension": ".py",
   "mimetype": "text/x-python",
   "name": "python",
   "nbconvert_exporter": "python",
   "pygments_lexer": "ipython3",
   "version": "3.10.9"
  }
 },
 "nbformat": 4,
 "nbformat_minor": 4
}
