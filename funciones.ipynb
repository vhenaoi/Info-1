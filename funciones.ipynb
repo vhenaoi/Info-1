{
 "cells": [
  {
   "attachments": {},
   "cell_type": "markdown",
   "metadata": {},
   "source": [
    "# Tuplas "
   ]
  },
  {
   "cell_type": "code",
   "execution_count": 12,
   "metadata": {},
   "outputs": [
    {
     "name": "stdout",
     "output_type": "stream",
     "text": [
      "((1, 2, 3, 4, 5), ('Bioingenieros', 'Udea', '2022', 9, 8, 7))\n",
      "Bioingenieros\n"
     ]
    }
   ],
   "source": [
    "tupla1 = 1, 2, 3, 4, 5\n",
    "tupla2 = ('Bioingenieros', 'Udea', '2022', 9, 8, 7)\n",
    "tupla3 = tupla1,tupla2\n",
    "print (tupla3)\n",
    "print (tupla3[1][0])"
   ]
  },
  {
   "cell_type": "code",
   "execution_count": 2,
   "metadata": {},
   "outputs": [
    {
     "name": "stdout",
     "output_type": "stream",
     "text": [
      "2\n",
      "3\n",
      "1\n"
     ]
    }
   ],
   "source": [
    "tupla1 = 1, 5, 2, 3 ,4, 5\n",
    "tupla2 = ('Bioingenieros', 'Udea', '2022', 9, 'Udea', 8, 7, 'Udea')\n",
    "print (tupla1.count(5))\n",
    "print (tupla2.count('Udea'))\n",
    "print (tupla1.index(5))"
   ]
  },
  {
   "cell_type": "code",
   "execution_count": 3,
   "metadata": {},
   "outputs": [
    {
     "ename": "AttributeError",
     "evalue": "'tuple' object has no attribute 'append'",
     "output_type": "error",
     "traceback": [
      "\u001b[1;31m---------------------------------------------------------------------------\u001b[0m",
      "\u001b[1;31mAttributeError\u001b[0m                            Traceback (most recent call last)",
      "Cell \u001b[1;32mIn[3], line 1\u001b[0m\n\u001b[1;32m----> 1\u001b[0m tupla2\u001b[39m.\u001b[39;49mappend(\u001b[39m'\u001b[39m\u001b[39mBio\u001b[39m\u001b[39m'\u001b[39m)\n\u001b[0;32m      2\u001b[0m tupla1[\u001b[39m0\u001b[39m] \u001b[39m=\u001b[39m \u001b[39m\"\u001b[39m\u001b[39mHola mundo\u001b[39m\u001b[39m\"\u001b[39m\n",
      "\u001b[1;31mAttributeError\u001b[0m: 'tuple' object has no attribute 'append'"
     ]
    }
   ],
   "source": [
    "tupla2.append('Bio')\n",
    "tupla1[0] = \"Hola mundo\""
   ]
  },
  {
   "cell_type": "code",
   "execution_count": 5,
   "metadata": {},
   "outputs": [
    {
     "name": "stdout",
     "output_type": "stream",
     "text": [
      "((9, 8, 7), ('Bioingenieros', 'Udea', '2022'))\n",
      "(9, 8, 7)\n",
      "('Bioingenieros', 'Udea', '2022')\n",
      "9\n",
      "8\n",
      "7\n"
     ]
    }
   ],
   "source": [
    "tupla1 = 9,8,7\n",
    "tupla2 = ('Bioingenieros', 'Udea', '2022')\n",
    "tupla3 = tupla1,tupla2\n",
    "print (tupla3)\n",
    "X,Y = tupla3\n",
    "print (X)\n",
    "print (Y)\n",
    "a,b,c = X\n",
    "print (a)\n",
    "print (b)\n",
    "print (c)"
   ]
  },
  {
   "cell_type": "code",
   "execution_count": 11,
   "metadata": {},
   "outputs": [
    {
     "name": "stdout",
     "output_type": "stream",
     "text": [
      "1\n",
      "[2, 3, 4]\n"
     ]
    }
   ],
   "source": [
    "a,*_ = (1,2,3,4)\n",
    "print(a)\n",
    "print(_)\n"
   ]
  },
  {
   "cell_type": "code",
   "execution_count": 15,
   "metadata": {},
   "outputs": [
    {
     "name": "stdout",
     "output_type": "stream",
     "text": [
      "9\n",
      "[0, 7]\n"
     ]
    }
   ],
   "source": [
    "a,*_ = [9,0,7]\n",
    "print(a)\n",
    "print(_)"
   ]
  },
  {
   "cell_type": "code",
   "execution_count": 16,
   "metadata": {},
   "outputs": [
    {
     "name": "stdout",
     "output_type": "stream",
     "text": [
      "[1, 7]\n"
     ]
    }
   ],
   "source": [
    "_[0] = 1\n",
    "print(_)"
   ]
  },
  {
   "attachments": {},
   "cell_type": "markdown",
   "metadata": {},
   "source": [
    "# Funciones"
   ]
  },
  {
   "cell_type": "code",
   "execution_count": 3,
   "metadata": {},
   "outputs": [
    {
     "name": "stdout",
     "output_type": "stream",
     "text": [
      "Hola\n",
      "Bioingenieros\n",
      "UdeA\n"
     ]
    }
   ],
   "source": [
    "def mi_func():\n",
    "    print (\"Hola\")\n",
    "    print (\"Bioingenieros\")\n",
    "    print (\"UdeA\")\n",
    "mi_func()"
   ]
  },
  {
   "cell_type": "code",
   "execution_count": 4,
   "metadata": {},
   "outputs": [
    {
     "name": "stdout",
     "output_type": "stream",
     "text": [
      "Hola\n",
      "Bioingenieros\n",
      "UdeA\n"
     ]
    }
   ],
   "source": [
    "def func():\n",
    "    mi_func()\n",
    "\n",
    "func()\n",
    "\n"
   ]
  },
  {
   "cell_type": "code",
   "execution_count": 5,
   "metadata": {},
   "outputs": [
    {
     "name": "stdout",
     "output_type": "stream",
     "text": [
      "Hola!!!!\n",
      "Bioingenieros!!!!\n"
     ]
    }
   ],
   "source": [
    "def imprimir_algo(palabra):\n",
    "      print (palabra + \"!!!!\")\n",
    "\n",
    "imprimir_algo(\"Hola\")\n",
    "imprimir_algo(\"Bioingenieros\")"
   ]
  },
  {
   "cell_type": "code",
   "execution_count": 6,
   "metadata": {},
   "outputs": [
    {
     "name": "stdout",
     "output_type": "stream",
     "text": [
      "algo!!!!\n"
     ]
    }
   ],
   "source": [
    "var = str ( input(\"Ingrese algo: \" ) )\n",
    "imprimir_algo(var)"
   ]
  },
  {
   "cell_type": "code",
   "execution_count": 8,
   "metadata": {},
   "outputs": [
    {
     "name": "stdout",
     "output_type": "stream",
     "text": [
      "6\n"
     ]
    }
   ],
   "source": [
    "def imprimir_mult(x):\n",
    "     print(2*x)\n",
    "\n",
    "imprimir_mult(3)"
   ]
  },
  {
   "cell_type": "code",
   "execution_count": 10,
   "metadata": {},
   "outputs": [
    {
     "name": "stdout",
     "output_type": "stream",
     "text": [
      "3\n"
     ]
    }
   ],
   "source": [
    "def imprimir_suma(a,b):\n",
    "    print (a+b)\n",
    "\n",
    "x = int(input(\"Ingrese el #1: \" )) \n",
    "y = int(input(\"Ingrese el #2: \" )) \n",
    "imprimir_suma(x,y)"
   ]
  },
  {
   "cell_type": "code",
   "execution_count": 2,
   "metadata": {},
   "outputs": [
    {
     "name": "stdout",
     "output_type": "stream",
     "text": [
      "8\n"
     ]
    },
    {
     "ename": "NameError",
     "evalue": "name 'variable' is not defined",
     "output_type": "error",
     "traceback": [
      "\u001b[1;31m---------------------------------------------------------------------------\u001b[0m",
      "\u001b[1;31mNameError\u001b[0m                                 Traceback (most recent call last)",
      "Cell \u001b[1;32mIn[2], line 6\u001b[0m\n\u001b[0;32m      3\u001b[0m      \u001b[39mprint\u001b[39m (variable)\n\u001b[0;32m      5\u001b[0m funcion(\u001b[39m7\u001b[39m)\n\u001b[1;32m----> 6\u001b[0m \u001b[39mprint\u001b[39m(variable) \n",
      "\u001b[1;31mNameError\u001b[0m: name 'variable' is not defined"
     ]
    }
   ],
   "source": [
    "def funcion(variable):\n",
    "     variable+=1\n",
    "     print (variable)\n",
    "\n",
    "funcion(7)\n",
    "print(variable) "
   ]
  },
  {
   "cell_type": "code",
   "execution_count": 3,
   "metadata": {},
   "outputs": [
    {
     "name": "stdout",
     "output_type": "stream",
     "text": [
      "0\n",
      "25\n",
      "100\n"
     ]
    }
   ],
   "source": [
    "def mi_func(x=0):\n",
    "    print (x * x)\n",
    "mi_func()\n",
    "mi_func(5)\n",
    "mi_func(10)"
   ]
  },
  {
   "cell_type": "code",
   "execution_count": 11,
   "metadata": {},
   "outputs": [
    {
     "name": "stdout",
     "output_type": "stream",
     "text": [
      "No tiene argumento\n",
      "5\n"
     ]
    }
   ],
   "source": [
    "def otra_func(x=\"No tiene argumento\"):\n",
    "    print (x)\n",
    "\n",
    "otra_func()\n",
    "otra_func(5)"
   ]
  },
  {
   "cell_type": "code",
   "execution_count": 13,
   "metadata": {},
   "outputs": [
    {
     "name": "stdout",
     "output_type": "stream",
     "text": [
      "El número mayor es: \n"
     ]
    },
    {
     "data": {
      "text/plain": [
       "7"
      ]
     },
     "execution_count": 13,
     "metadata": {},
     "output_type": "execute_result"
    }
   ],
   "source": [
    "def maximo(x,y):\n",
    "     if x > y:\n",
    "          print (\"El número mayor es: \")\n",
    "          return x\n",
    "     elif y > x:\n",
    "           print (\"El número mayor es: \")\n",
    "           return y\n",
    "     else:\n",
    "        print (\"Los números ingresados son iguales\")\n",
    "        return x,y\n",
    "maximo(4,7)"
   ]
  },
  {
   "cell_type": "code",
   "execution_count": 15,
   "metadata": {},
   "outputs": [
    {
     "name": "stdout",
     "output_type": "stream",
     "text": [
      "Los números ingresados son iguales\n",
      "(1, 1)\n"
     ]
    }
   ],
   "source": [
    "z = maximo(int(input(\"#1: \")),int(input(\"#2: \")))\n",
    "print (z)"
   ]
  },
  {
   "cell_type": "code",
   "execution_count": 16,
   "metadata": {},
   "outputs": [
    {
     "name": "stdout",
     "output_type": "stream",
     "text": [
      "Los números ingresados son iguales\n"
     ]
    },
    {
     "data": {
      "text/plain": [
       "(1, 1)"
      ]
     },
     "execution_count": 16,
     "metadata": {},
     "output_type": "execute_result"
    }
   ],
   "source": [
    "maximo(int(input(\"#1: \")),int(input(\"#2: \")))\n"
   ]
  },
  {
   "cell_type": "code",
   "execution_count": 17,
   "metadata": {},
   "outputs": [
    {
     "name": "stdout",
     "output_type": "stream",
     "text": [
      "1\n"
     ]
    }
   ],
   "source": [
    "uno,uno = z\n",
    "print(uno)"
   ]
  },
  {
   "cell_type": "code",
   "execution_count": 6,
   "metadata": {},
   "outputs": [
    {
     "name": "stdout",
     "output_type": "stream",
     "text": [
      "30\n"
     ]
    }
   ],
   "source": [
    "def suma(x,y):\n",
    "     return x + y\n",
    " \n",
    "def otra_func(func,x,y):\n",
    "     return func(func(x,y),func(x,y))\n",
    "\n",
    "a=5\n",
    "b=10\n",
    "print (otra_func(suma,a,b))"
   ]
  },
  {
   "cell_type": "code",
   "execution_count": null,
   "metadata": {},
   "outputs": [],
   "source": [
    "def prueba (x,y):\n",
    "       if (x<y):\n",
    "            return \"{0} es menor que {1}\".format(x,y)\n",
    "       else:\n",
    "             return \"{0} es mayor o igual que {1}\".format(x,y)\n",
    "\n",
    "a = int(input('#1: '))\n",
    "b = int(input('#2: '))\n",
    "r = prueba(a,b)\n",
    "print(r)"
   ]
  },
  {
   "cell_type": "code",
   "execution_count": null,
   "metadata": {},
   "outputs": [],
   "source": [
    "def str_mas_corto(x,y):\n",
    "        if len(x) < len(y):\n",
    "                print(x)         \n",
    "        elif len(y) < len(x):\n",
    "                print(y)\n",
    "        else:\n",
    "               print(\"Las longitudes son iguales\")"
   ]
  },
  {
   "cell_type": "code",
   "execution_count": 18,
   "metadata": {},
   "outputs": [
    {
     "name": "stdout",
     "output_type": "stream",
     "text": [
      "9\n"
     ]
    }
   ],
   "source": [
    "def sumar(x,y):\n",
    "    total = x + y\n",
    "    return total\n",
    "    print (\"Fin de la función\")\n",
    "\n",
    "print(sumar(4,5))"
   ]
  },
  {
   "cell_type": "code",
   "execution_count": 21,
   "metadata": {},
   "outputs": [
    {
     "name": "stdout",
     "output_type": "stream",
     "text": [
      "49\n"
     ]
    }
   ],
   "source": [
    "def square(x):\n",
    "     return x * x \n",
    "\n",
    "def test(func,x):\n",
    "     print(func(x))\n",
    "\n",
    "\n",
    "test(square,7)"
   ]
  },
  {
   "cell_type": "code",
   "execution_count": 27,
   "metadata": {},
   "outputs": [],
   "source": [
    "def hola(alguien):\n",
    "    ''' Imprime por pantalla un saludo, dirigido a la persona que se indica por parámetro. '''\n",
    "    print (\"Hola {0} !\".format(alguien))\n",
    "    print (\"Estoy programando en Python.\")"
   ]
  },
  {
   "cell_type": "code",
   "execution_count": 28,
   "metadata": {},
   "outputs": [
    {
     "name": "stdout",
     "output_type": "stream",
     "text": [
      "Help on function hola in module __main__:\n",
      "\n",
      "hola(alguien)\n",
      "    Imprime por pantalla un saludo, dirigido a la persona que se indica por parámetro.\n",
      "\n"
     ]
    }
   ],
   "source": [
    "help(hola)"
   ]
  },
  {
   "cell_type": "code",
   "execution_count": 29,
   "metadata": {},
   "outputs": [
    {
     "name": "stdout",
     "output_type": "stream",
     "text": [
      "Hola alguien !\n",
      "Estoy programando en Python.\n"
     ]
    }
   ],
   "source": [
    "hola('alguien')"
   ]
  }
 ],
 "metadata": {
  "kernelspec": {
   "display_name": "Python 3",
   "language": "python",
   "name": "python3"
  },
  "language_info": {
   "codemirror_mode": {
    "name": "ipython",
    "version": 3
   },
   "file_extension": ".py",
   "mimetype": "text/x-python",
   "name": "python",
   "nbconvert_exporter": "python",
   "pygments_lexer": "ipython3",
   "version": "3.9.13"
  },
  "orig_nbformat": 4
 },
 "nbformat": 4,
 "nbformat_minor": 2
}
