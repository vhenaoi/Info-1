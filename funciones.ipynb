{
 "cells": [
  {
   "attachments": {},
   "cell_type": "markdown",
   "metadata": {},
   "source": [
    "# Tuplas "
   ]
  },
  {
   "cell_type": "code",
   "execution_count": 12,
   "metadata": {},
   "outputs": [
    {
     "name": "stdout",
     "output_type": "stream",
     "text": [
      "((1, 2, 3, 4, 5), ('Bioingenieros', 'Udea', '2022', 9, 8, 7))\n",
      "Bioingenieros\n"
     ]
    }
   ],
   "source": [
    "tupla1 = 1, 2, 3, 4, 5\n",
    "tupla2 = ('Bioingenieros', 'Udea', '2022', 9, 8, 7)\n",
    "tupla3 = tupla1,tupla2\n",
    "print (tupla3)\n",
    "print (tupla3[1][0])"
   ]
  },
  {
   "cell_type": "code",
   "execution_count": 13,
   "metadata": {},
   "outputs": [
    {
     "name": "stdout",
     "output_type": "stream",
     "text": [
      "2\n",
      "3\n",
      "1\n"
     ]
    },
    {
     "ename": "AttributeError",
     "evalue": "'tuple' object has no attribute 'append'",
     "output_type": "error",
     "traceback": [
      "\u001b[1;31m---------------------------------------------------------------------------\u001b[0m",
      "\u001b[1;31mAttributeError\u001b[0m                            Traceback (most recent call last)",
      "Cell \u001b[1;32mIn[13], line 6\u001b[0m\n\u001b[0;32m      4\u001b[0m \u001b[39mprint\u001b[39m (tupla2\u001b[39m.\u001b[39mcount(\u001b[39m'\u001b[39m\u001b[39mUdea\u001b[39m\u001b[39m'\u001b[39m))\n\u001b[0;32m      5\u001b[0m \u001b[39mprint\u001b[39m (tupla1\u001b[39m.\u001b[39mindex(\u001b[39m5\u001b[39m))\n\u001b[1;32m----> 6\u001b[0m tupla2\u001b[39m.\u001b[39;49mappend(\u001b[39m'\u001b[39m\u001b[39mBio\u001b[39m\u001b[39m'\u001b[39m)\n\u001b[0;32m      7\u001b[0m \u001b[39mprint\u001b[39m (tupla2)\n",
      "\u001b[1;31mAttributeError\u001b[0m: 'tuple' object has no attribute 'append'"
     ]
    }
   ],
   "source": [
    "tupla1 = 1, 5, 2, 3 ,4, 5\n",
    "tupla2 = ('Bioingenieros', 'Udea', '2022', 9, 'Udea', 8, 7, 'Udea')\n",
    "print (tupla1.count(5))\n",
    "print (tupla2.count('Udea'))\n",
    "print (tupla1.index(5))\n",
    "tupla2.append('Bio')\n",
    "print (tupla2)"
   ]
  },
  {
   "cell_type": "code",
   "execution_count": null,
   "metadata": {},
   "outputs": [
    {
     "name": "stdout",
     "output_type": "stream",
     "text": [
      "((9, 8, 7), ('Bioingenieros', 'Udea', '2022'))\n",
      "(9, 8, 7)\n",
      "('Bioingenieros', 'Udea', '2022')\n",
      "9\n",
      "8\n",
      "7\n"
     ]
    }
   ],
   "source": [
    "tupla1 = 9,8,7\n",
    "tupla2 = ('Bioingenieros', 'Udea', '2022')\n",
    "tupla3 = tupla1,tupla2\n",
    "print (tupla3)\n",
    "X,Y = tupla3\n",
    "print (X)\n",
    "print (Y)\n",
    "a,b,c = X\n",
    "print (a)\n",
    "print (b)\n",
    "print (c)"
   ]
  },
  {
   "attachments": {},
   "cell_type": "markdown",
   "metadata": {},
   "source": [
    "# Funciones"
   ]
  },
  {
   "cell_type": "code",
   "execution_count": 14,
   "metadata": {},
   "outputs": [
    {
     "name": "stdout",
     "output_type": "stream",
     "text": [
      "Hola\n",
      "Bioingenieros\n",
      "UdeA\n"
     ]
    }
   ],
   "source": [
    "mi_func()\n",
    "def mi_func():\n",
    "    print (\"Hola\")\n",
    "    print (\"Bioingenieros\")\n",
    "    print (\"UdeA\")\n",
    "\n"
   ]
  },
  {
   "cell_type": "code",
   "execution_count": 15,
   "metadata": {},
   "outputs": [
    {
     "name": "stdout",
     "output_type": "stream",
     "text": [
      "Hola\n",
      "Bioingenieros\n",
      "UdeA\n"
     ]
    }
   ],
   "source": [
    "mi_func()\n",
    "def mi_func():\n",
    "    print (\"Hola\")\n",
    "    print (\"Bioingenieros\")\n",
    "    print (\"UdeA\")\n",
    "\n"
   ]
  },
  {
   "cell_type": "code",
   "execution_count": 1,
   "metadata": {},
   "outputs": [
    {
     "name": "stdout",
     "output_type": "stream",
     "text": [
      "Hola!!!!\n",
      "Bioingenieros!!!!\n",
      "!!!!\n"
     ]
    }
   ],
   "source": [
    "def imprimir_algo(palabra):\n",
    "      print (palabra + \"!!!!\")\n",
    "\n",
    "imprimir_algo(\"Hola\")\n",
    "imprimir_algo(\"Bioingenieros\")\n",
    "var = str ( input(\"Ingrese algo: \" ) )\n",
    "imprimir_algo(var)"
   ]
  },
  {
   "cell_type": "code",
   "execution_count": null,
   "metadata": {},
   "outputs": [],
   "source": [
    "def imprimir_suma(a,b):\n",
    "    print (a+b)\n",
    "    x = int(input(\"Ingrese el #1: \" )) \n",
    "    y = int(input(\"Ingrese el #2: \" )) \n",
    "\n",
    "imprimir_suma(x,y)"
   ]
  },
  {
   "cell_type": "code",
   "execution_count": 2,
   "metadata": {},
   "outputs": [
    {
     "name": "stdout",
     "output_type": "stream",
     "text": [
      "8\n"
     ]
    },
    {
     "ename": "NameError",
     "evalue": "name 'variable' is not defined",
     "output_type": "error",
     "traceback": [
      "\u001b[1;31m---------------------------------------------------------------------------\u001b[0m",
      "\u001b[1;31mNameError\u001b[0m                                 Traceback (most recent call last)",
      "Cell \u001b[1;32mIn[2], line 6\u001b[0m\n\u001b[0;32m      3\u001b[0m      \u001b[39mprint\u001b[39m (variable)\n\u001b[0;32m      5\u001b[0m funcion(\u001b[39m7\u001b[39m)\n\u001b[1;32m----> 6\u001b[0m \u001b[39mprint\u001b[39m(variable) \n",
      "\u001b[1;31mNameError\u001b[0m: name 'variable' is not defined"
     ]
    }
   ],
   "source": [
    "def funcion(variable):\n",
    "     variable+=1\n",
    "     print (variable)\n",
    "\n",
    "funcion(7)\n",
    "print(variable) "
   ]
  },
  {
   "cell_type": "code",
   "execution_count": 3,
   "metadata": {},
   "outputs": [
    {
     "name": "stdout",
     "output_type": "stream",
     "text": [
      "0\n",
      "25\n",
      "100\n"
     ]
    }
   ],
   "source": [
    "def mi_func(x=0):\n",
    "    print (x * x)\n",
    "mi_func()\n",
    "mi_func(5)\n",
    "mi_func(10)"
   ]
  },
  {
   "cell_type": "code",
   "execution_count": 4,
   "metadata": {},
   "outputs": [
    {
     "ename": "SyntaxError",
     "evalue": "invalid character '”' (U+201D) (1647725523.py, line 1)",
     "output_type": "error",
     "traceback": [
      "\u001b[1;36m  Cell \u001b[1;32mIn[4], line 1\u001b[1;36m\u001b[0m\n\u001b[1;33m    def otra_func(x=”No tiene argumento”):\u001b[0m\n\u001b[1;37m                    ^\u001b[0m\n\u001b[1;31mSyntaxError\u001b[0m\u001b[1;31m:\u001b[0m invalid character '”' (U+201D)\n"
     ]
    }
   ],
   "source": [
    "def otra_func(x=”No tiene argumento”):\n",
    "    print (x)\n",
    "\n",
    "otra_func()\n",
    "otra_func(5)"
   ]
  },
  {
   "cell_type": "code",
   "execution_count": 5,
   "metadata": {},
   "outputs": [
    {
     "name": "stdout",
     "output_type": "stream",
     "text": [
      "El número mayor es: \n"
     ]
    },
    {
     "data": {
      "text/plain": [
       "7"
      ]
     },
     "execution_count": 5,
     "metadata": {},
     "output_type": "execute_result"
    }
   ],
   "source": [
    "def maximo(x,y):\n",
    "     if x > y:\n",
    "          print (\"El número mayor es: \")\n",
    "          return x\n",
    "     elif y > x:\n",
    "           print (\"El número mayor es: \")\n",
    "           return y\n",
    "     else:\n",
    "        print (\"Los números ingresados son iguales\")\n",
    "        return x,y\n",
    "maximo(4,7)"
   ]
  },
  {
   "cell_type": "code",
   "execution_count": 7,
   "metadata": {},
   "outputs": [
    {
     "name": "stdout",
     "output_type": "stream",
     "text": [
      "El número mayor es: \n",
      "12\n"
     ]
    }
   ],
   "source": [
    "z = maximo(int(input(\"#1: \")),int(input(\"#2: \")))\n",
    "print (z)"
   ]
  },
  {
   "cell_type": "code",
   "execution_count": 6,
   "metadata": {},
   "outputs": [
    {
     "name": "stdout",
     "output_type": "stream",
     "text": [
      "30\n"
     ]
    }
   ],
   "source": [
    "def suma(x,y):\n",
    "     return x + y\n",
    " \n",
    "def otra_func(func,x,y):\n",
    "     return func(func(x,y),func(x,y))\n",
    "\n",
    "a=5\n",
    "b=10\n",
    "print (otra_func(suma,a,b))"
   ]
  }
 ],
 "metadata": {
  "kernelspec": {
   "display_name": "Python 3",
   "language": "python",
   "name": "python3"
  },
  "language_info": {
   "codemirror_mode": {
    "name": "ipython",
    "version": 3
   },
   "file_extension": ".py",
   "mimetype": "text/x-python",
   "name": "python",
   "nbconvert_exporter": "python",
   "pygments_lexer": "ipython3",
   "version": "3.10.9"
  },
  "orig_nbformat": 4
 },
 "nbformat": 4,
 "nbformat_minor": 2
}
