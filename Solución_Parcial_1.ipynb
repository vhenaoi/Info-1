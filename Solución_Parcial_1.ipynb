{
  "cells": [
    {
      "attachments": {},
      "cell_type": "markdown",
      "metadata": {
        "id": "DQCQFLgIgUSx"
      },
      "source": [
        "\n",
        "<p><img alt=\"udeA logo\" height=\"120px\" src=\"https://github.com/freddyduitama/images/blob/master/logo.png?raw=true\" align=\"left\" hspace=\"10px\" vspace=\"0px\" style=\"width:107px;height:152px;\"></p>\n",
        "\n",
        "# <center> <font color='0B5345'>INFORMATICA I - EVALUACIÓN 1</font> </center>\n",
        "\n"
      ]
    },
    {
      "attachments": {},
      "cell_type": "markdown",
      "metadata": {
        "id": "nWEW6jW0DYeb"
      },
      "source": [
        "La presente evaluación ha sido diseñada para ser resuelta de forma individual.\n",
        "\n",
        "Crear una calculadora sencilla en Python, que permita:\n",
        "1. Escoger una de las cuatro operaciones aritméticas básicas e imprimir el resultado\n",
        "2. Almacenar las operaciones realizadas\n",
        "3. Eliminar la última operación realizada si el usuario lo desea, sea en suma, en resta, en división o en multiplicación\n",
        "4. Al imprimir el resultado también debe imprimir la fecha y hora en la que se realizó la operación y el nombre del usuario que realizo la operación. \n",
        "\n",
        "El menú debe ser como se muestra a continuación:\n",
        "\n",
        "1. Suma\n",
        "2. Resta\n",
        "3. Multiplicación\n",
        "4. División\n",
        "5. Ver la cantidad de operaciones realizadas\n",
        "6. Eliminar una operación de la memoria\n",
        "7. Ver el total de las operaciones realizadas\n",
        "8. Salir\n",
        "\n",
        "Condiciones: \n",
        "* Solo se puede salir si el usuario ingresa la opción Salir\n",
        "* No puede utilizar librerías diferentes a las vistas clase\n",
        "* No puede utilizar funciones propias\n",
        "* Las operaciones se deben poder realizar con flotantes\n",
        "* La fecha y hora no debe ser ingresada por el usuario\n",
        "* Se debe guardar la cantidad de operaciones realizadas por el usuario en una lista, especificando cada una de ellas.\n",
        "\n",
        "Recursos:\n",
        "* Puede utilizar las diapositivas y scripts utilizados en el curso.\n",
        "* Puede realizar búsquedas sencillas en internet, pero no se puede tratar de buscar el ejercicio completo en internet.\n",
        "\n",
        "Nota: No se permite interactuar con los compañeros de clase o con una persona externa a la clase.\n",
        "\n"
      ]
    },
    {
      "attachments": {},
      "cell_type": "markdown",
      "metadata": {
        "id": "DXSpx62zS9qC"
      },
      "source": [
        "1. (5%) Especifique las variables entrada y salida del código y el tipo de cada una de ellas. "
      ]
    },
    {
      "cell_type": "markdown",
      "metadata": {},
      "source": []
    },
    {
      "attachments": {},
      "cell_type": "markdown",
      "metadata": {},
      "source": [
        "2. (10%) Elaboración e impresión del menú"
      ]
    },
    {
      "attachments": {},
      "cell_type": "markdown",
      "metadata": {
        "id": "q3RBgfu5S9qC"
      },
      "source": [
        "3. (10%) Elaboración de las 4 operaciones. "
      ]
    },
    {
      "attachments": {},
      "cell_type": "markdown",
      "metadata": {},
      "source": [
        "4. (10%) Almacenar la cantidad de operaciones realizada"
      ]
    },
    {
      "attachments": {},
      "cell_type": "markdown",
      "metadata": {
        "id": "UZqiwHeAS9qD"
      },
      "source": [
        "5. (10%) Eliminar una operacion en memoria. "
      ]
    },
    {
      "attachments": {},
      "cell_type": "markdown",
      "metadata": {},
      "source": [
        "6. (5%) Ver las operaciones realizadas"
      ]
    },
    {
      "attachments": {},
      "cell_type": "markdown",
      "metadata": {},
      "source": [
        "7. (5%) Ver el total de operaciones realizadas"
      ]
    },
    {
      "attachments": {},
      "cell_type": "markdown",
      "metadata": {
        "id": "HkLF6s1eS9qE"
      },
      "source": [
        "8. (10%) Imprimir resultado con nombre de usuario, fecha y hora"
      ]
    },
    {
      "attachments": {},
      "cell_type": "markdown",
      "metadata": {
        "id": "I2wCIDCyS9qE"
      },
      "source": [
        "9. (5%) Salir solo al presionar la opción salir"
      ]
    },
    {
      "attachments": {},
      "cell_type": "markdown",
      "metadata": {},
      "source": [
        "10. (20%) Entregar el código funcional sin errores, es decir que se ejecute correctamente"
      ]
    },
    {
      "attachments": {},
      "cell_type": "markdown",
      "metadata": {},
      "source": [
        "11. (10%) Realizar correctamente las validaciones de las variables"
      ]
    },
    {
      "cell_type": "code",
      "execution_count": 1,
      "metadata": {},
      "outputs": [
        {
          "name": "stdout",
          "output_type": "stream",
          "text": [
            "Menú:\n",
            "1. Suma\n",
            "2. Resta\n",
            "3. Multiplicación\n",
            "4. División\n",
            "5. Ver operaciones realizadas\n",
            "6. Eliminar la operación en memoria\n",
            "7. Ver el total de las operaciones realizadas\n",
            "8. Salir\n",
            "Bienvenido a la Suma\n",
            "Operacion realizada por Estudiante el 2023-03-15 18:49:12.940716\n",
            "Suma: 1 + 1 = 2\n",
            "Bienvenido a la Resta\n",
            "Operacion realizada por Estudiante el 2023-03-15 18:49:15.887787\n",
            "Resta: 1 - 1 = 0\n",
            "Bienvenido a la División\n",
            "Operacion realizada por Estudiante el 2023-03-15 18:49:19.738309\n",
            "División: 1 / 1 = 1.0\n",
            "Bienvenido a la Multiplicación\n",
            "Operacion realizada por Estudiante el 2023-03-15 18:49:26.060834\n",
            "Multiplicación: 1 * 1 = 1\n",
            "Las operaciones realizadas hasta el momento son:\n",
            "1 Suma(s), 1 Resta(s), 1 Division(es), 1 Multiplicacion(es).\n",
            "Se elimino una operación de resta\n",
            "La cantidad de operaciones realizadas fue: 3\n",
            "Programa finalizado\n"
          ]
        }
      ],
      "source": [
        "import datetime\n",
        "suma = []\n",
        "resta = []\n",
        "multiplicacion = []\n",
        "division = []\n",
        "operaciones = []\n",
        "nombre = str(input('Ingrese su nombre: '))\n",
        "print('Menú:\\n1. Suma\\n2. Resta\\n3. Multiplicación\\n4. División\\n5. Ver operaciones realizadas\\n6. Eliminar la operación en memoria\\n7. Ver el total de las operaciones realizadas\\n8. Salir')\n",
        "while True:\n",
        "    try:\n",
        "        operaciones=[suma,resta,division,multiplicacion]\n",
        "        opcion = int(input('Ingrese la opcion del menú que quiere realizar: '))\n",
        "        if opcion == 1:\n",
        "            print('Bienvenido a la Suma')\n",
        "            while True:\n",
        "                n1 = int(input('Ingrese el número 1:'))\n",
        "                n2 = int(input('Ingrese el número 2:'))\n",
        "                try:\n",
        "                    s = n1+n2\n",
        "                    break\n",
        "                except:\n",
        "                    print('No se puede hacer la suma, vuelva a intentarlo') \n",
        "                    continue\n",
        "            time = str(datetime.datetime.now())\n",
        "            print(f'Operacion realizada por {nombre} el {time}\\nSuma: {n1} + {n2} = {s}')\n",
        "            suma.append(s)\n",
        "        elif opcion == 2:\n",
        "            print('Bienvenido a la Resta')\n",
        "            while True:\n",
        "                n1 = int(input('Ingrese el número 1:'))\n",
        "                n2 = int(input('Ingrese el número 2:'))\n",
        "                try:\n",
        "                    r = n1-n2\n",
        "                    break\n",
        "                except:\n",
        "                    print('No se puede hacer la resta, vuelva a intentarlo') \n",
        "                    continue\n",
        "            time = str(datetime.datetime.now())\n",
        "            print(f'Operacion realizada por {nombre} el {time}\\nResta: {n1} - {n2} = {r}')\n",
        "            resta.append(r)\n",
        "        elif opcion == 3:\n",
        "            print('Bienvenido a la División')\n",
        "            while True:\n",
        "                n1 = int(input('Ingrese el número 1:'))\n",
        "                n2 = int(input('Ingrese el número 2:'))\n",
        "                try:\n",
        "                    d = n1/n2\n",
        "                    break\n",
        "                except:\n",
        "                    print('No se puede hacer una división por cero o por un str, vuelva a intentarlo')       \n",
        "                    continue\n",
        "            time = str(datetime.datetime.now())\n",
        "            print(f'Operacion realizada por {nombre} el {time}\\nDivisión: {n1} / {n2} = {d}')\n",
        "            division.append(d)\n",
        "        elif opcion == 4:\n",
        "            print('Bienvenido a la Multiplicación')\n",
        "            while True:\n",
        "                n1 = int(input('Ingrese el número 1:'))\n",
        "                n2 = int(input('Ingrese el número 2:'))\n",
        "                try:\n",
        "                    m = n1*n2\n",
        "                    break\n",
        "                except:\n",
        "                    print('No se puede hacer la multiplicación, vuelva a intentarlo') \n",
        "                    continue\n",
        "            time = str(datetime.datetime.now())\n",
        "            print(f'Operacion realizada por {nombre} el {time}\\nMultiplicación: {n1} * {n2} = {m}')\n",
        "            multiplicacion.append(m)\n",
        "        elif opcion == 5:\n",
        "            print('Las operaciones realizadas hasta el momento son:')\n",
        "            print(str(len(operaciones[0]))+' Suma(s),',str(len(operaciones[1]))+' Resta(s),',str(len(operaciones[2]))+' Division(es),',str(len(operaciones[3]))+' Multiplicacion(es).')\n",
        "        elif opcion == 6:\n",
        "            eliminar = int(input('Desea eliminar la ultima operación de:\\n1. Suma\\n2. Resta\\n3. División\\n4. Multiplicación\\n5.Regresar al menú'))\n",
        "            if eliminar == 1:\n",
        "                suma.pop(-1)\n",
        "                print('Se elimino una operación de suma')\n",
        "            elif eliminar == 2:\n",
        "                resta.pop(-1)\n",
        "                print('Se elimino una operación de resta')\n",
        "            elif eliminar == 3:\n",
        "                division.pop(-1)\n",
        "                print('Se elimino una operación de división')\n",
        "            elif eliminar == 4:\n",
        "                multiplicacion.pop(-1)\n",
        "                print('Se elimino una operación de multiplicación')\n",
        "            elif eliminar == 5:\n",
        "                print('No se elimino ninguna operación')\n",
        "                continue\n",
        "        elif opcion == 7:\n",
        "            print('La cantidad de operaciones realizadas fue: '+str(len(operaciones[0])+len(operaciones[1])+len(operaciones[2])+len(operaciones[3])))\n",
        "        elif opcion == 8:\n",
        "            print('Programa finalizado')\n",
        "            break\n",
        "        else:\n",
        "            print('Ingrese una opción valida')\n",
        "    except:\n",
        "        print('Ingrese una opción valida') \n",
        "        continue\n",
        "\n"
      ]
    },
    {
      "cell_type": "code",
      "execution_count": 1,
      "metadata": {},
      "outputs": [
        {
          "name": "stdout",
          "output_type": "stream",
          "text": [
            "True\n",
            "a\n",
            "e\n",
            "i\n",
            "o\n",
            "u\n"
          ]
        }
      ],
      "source": [
        "lista = ['a','e','i','o','u']\n",
        "if 'i' in lista:\n",
        "    print('True')\n",
        "for i in lista:\n",
        "    print(i)"
      ]
    },
    {
      "attachments": {},
      "cell_type": "markdown",
      "metadata": {},
      "source": [
        "_____ ____ :\n",
        "\n",
        "    x = input('Ingrese un valor entero')\n",
        "\n",
        "    y = input('Ingrese otro valor entero')\n",
        "\n",
        "    ___  :\n",
        "\n",
        "        dividiendo = int(x)\n",
        "\n",
        "        divisor = int(y)\n",
        "\n",
        "        solucion = dividiendo/divisor\n",
        "\n",
        "        ​ _____\n",
        "\n",
        "    ______​  :\n",
        "\n",
        "        print(\"x e y deben poder convertirse a enteros \")\n",
        "\n",
        "        ________"
      ]
    },
    {
      "cell_type": "code",
      "execution_count": 1,
      "metadata": {},
      "outputs": [
        {
          "name": "stdout",
          "output_type": "stream",
          "text": [
            "Total pagado 966279.6 -1.568757007813474\n"
          ]
        }
      ],
      "source": [
        "# hipoteca.py\n",
        "saldo = 500000.0\n",
        "tasa = 0.05\n",
        "pago_mensual = 2684.11\n",
        "total_pagado = 0.0\n",
        "while saldo > 0:\n",
        "    saldo = saldo * (1+tasa/12) - pago_mensual\n",
        "    total_pagado = total_pagado + pago_mensual\n",
        "print('Total pagado', round(total_pagado, 2),saldo)"
      ]
    },
    {
      "cell_type": "code",
      "execution_count": 12,
      "metadata": {},
      "outputs": [
        {
          "name": "stdout",
          "output_type": "stream",
          "text": [
            "[0, 1, 2, 3]\n"
          ]
        }
      ],
      "source": [
        "myList = []\n",
        "i = 0\n",
        "\n",
        "while len(myList) < 4 :\n",
        "    myList.append(i)\n",
        "    i += 1\n",
        "  \n",
        "print(myList)"
      ]
    },
    {
      "cell_type": "code",
      "execution_count": 6,
      "metadata": {},
      "outputs": [
        {
          "name": "stdout",
          "output_type": "stream",
          "text": [
            "-1\n"
          ]
        }
      ],
      "source": [
        "G = int(input('Enter a number: '))\n",
        "f = -1\n",
        "h = 0\n",
        "while G > h:\n",
        "    f=int(input('Enter a number: '))\n",
        "    if f%2 == 0:\n",
        "        G = G - 1\n",
        "        print(G)\n",
        "print(f)"
      ]
    },
    {
      "cell_type": "code",
      "execution_count": null,
      "metadata": {},
      "outputs": [],
      "source": [
        "R = int(input('Enter a number: '))\n",
        "y = 0\n",
        "while y < (R*2):\n",
        "    a=0\n",
        "    print('primero')\n",
        "    while a< R:\n",
        "        a = a + 1\n",
        "        print('segundo')\n",
        "    y = y +1\n",
        "print(y,a)"
      ]
    },
    {
      "cell_type": "code",
      "execution_count": 12,
      "metadata": {},
      "outputs": [],
      "source": [
        "fecha = ['21/03/2023']"
      ]
    },
    {
      "cell_type": "code",
      "execution_count": 16,
      "metadata": {},
      "outputs": [
        {
          "name": "stdout",
          "output_type": "stream",
          "text": [
            "Hoy es 21 del mes 03 del año 2023\n"
          ]
        }
      ],
      "source": [
        "print(f'Hoy es {fecha[0][:2]} del mes {fecha[0][3:5]} del año {fecha[0][6:10]}')"
      ]
    },
    {
      "cell_type": "code",
      "execution_count": null,
      "metadata": {},
      "outputs": [],
      "source": [
        "nombres = ['Rosita','Manuel','Luciana']"
      ]
    },
    {
      "cell_type": "code",
      "execution_count": 4,
      "metadata": {},
      "outputs": [],
      "source": [
        "frutas = 'Manzana,Naranja,Mandarina,Banana,Kiwi'"
      ]
    },
    {
      "cell_type": "code",
      "execution_count": 5,
      "metadata": {},
      "outputs": [
        {
          "data": {
            "text/plain": [
              "'M'"
            ]
          },
          "execution_count": 5,
          "metadata": {},
          "output_type": "execute_result"
        }
      ],
      "source": [
        "frutas[0]"
      ]
    },
    {
      "cell_type": "code",
      "execution_count": 6,
      "metadata": {},
      "outputs": [
        {
          "data": {
            "text/plain": [
              "'a'"
            ]
          },
          "execution_count": 6,
          "metadata": {},
          "output_type": "execute_result"
        }
      ],
      "source": [
        "frutas[1]"
      ]
    },
    {
      "cell_type": "code",
      "execution_count": 7,
      "metadata": {},
      "outputs": [
        {
          "data": {
            "text/plain": [
              "'n'"
            ]
          },
          "execution_count": 7,
          "metadata": {},
          "output_type": "execute_result"
        }
      ],
      "source": [
        "frutas[2]"
      ]
    },
    {
      "cell_type": "code",
      "execution_count": 8,
      "metadata": {},
      "outputs": [
        {
          "data": {
            "text/plain": [
              "'i'"
            ]
          },
          "execution_count": 8,
          "metadata": {},
          "output_type": "execute_result"
        }
      ],
      "source": [
        "frutas[-1]"
      ]
    },
    {
      "cell_type": "code",
      "execution_count": 9,
      "metadata": {},
      "outputs": [
        {
          "data": {
            "text/plain": [
              "'w'"
            ]
          },
          "execution_count": 9,
          "metadata": {},
          "output_type": "execute_result"
        }
      ],
      "source": [
        "frutas[-2]"
      ]
    },
    {
      "cell_type": "code",
      "execution_count": 11,
      "metadata": {},
      "outputs": [
        {
          "name": "stdout",
          "output_type": "stream",
          "text": [
            "['Rosita', 'Manuel', 'Iratxe', 'Luciana']\n",
            "['Iratxe', 'Rosita', 'Manuel', 'Iratxe', 'Luciana']\n",
            "5\n"
          ]
        }
      ],
      "source": [
        "nombres = ['Rosita','Manuel','Luciana']\n",
        "nombres.insert(2,'Iratxe')\n",
        "print(nombres)\n",
        "nombres.insert(0,'Iratxe')\n",
        "print(nombres)\n",
        "print(len(nombres))\n"
      ]
    },
    {
      "cell_type": "code",
      "execution_count": 13,
      "metadata": {},
      "outputs": [
        {
          "name": "stdout",
          "output_type": "stream",
          "text": [
            "Hoy es 21 del mes 03 del año 2023\n"
          ]
        }
      ],
      "source": [
        "list=['21','03','2023'] \n",
        "print('Hoy es',''.join(list[0]),'del mes',''.join(list[1]),'del año',''.join(list[2]))"
      ]
    },
    {
      "cell_type": "code",
      "execution_count": 14,
      "metadata": {},
      "outputs": [
        {
          "name": "stdout",
          "output_type": "stream",
          "text": [
            "Hoy es 21 del mes 03 del año 2023.\n"
          ]
        }
      ],
      "source": [
        "fecha=['21/03/2023'] \n",
        "print(\"Hoy es {} del mes {} del año {}.\".format(*fecha[0].split('/')))"
      ]
    },
    {
      "cell_type": "code",
      "execution_count": 15,
      "metadata": {},
      "outputs": [
        {
          "name": "stdout",
          "output_type": "stream",
          "text": [
            "Hoy es {:2} del mes {3:5} del año {6:}\n"
          ]
        },
        {
          "ename": "AttributeError",
          "evalue": "'NoneType' object has no attribute 'format'",
          "output_type": "error",
          "traceback": [
            "\u001b[1;31m---------------------------------------------------------------------------\u001b[0m",
            "\u001b[1;31mAttributeError\u001b[0m                            Traceback (most recent call last)",
            "Cell \u001b[1;32mIn[15], line 1\u001b[0m\n\u001b[1;32m----> 1\u001b[0m \u001b[39mprint\u001b[39;49m(\u001b[39m\"\u001b[39;49m\u001b[39mHoy es \u001b[39;49m\u001b[39m{:2}\u001b[39;49;00m\u001b[39m del mes \u001b[39;49m\u001b[39m{3:5}\u001b[39;49;00m\u001b[39m del año \u001b[39;49m\u001b[39m{6:}\u001b[39;49;00m\u001b[39m\"\u001b[39;49m)\u001b[39m.\u001b[39;49mformat(fecha)\n",
            "\u001b[1;31mAttributeError\u001b[0m: 'NoneType' object has no attribute 'format'"
          ]
        }
      ],
      "source": [
        "print(\"Hoy es {:2} del mes {3:5} del año {6:}\").format(fecha)"
      ]
    }
  ],
  "metadata": {
    "colab": {
      "provenance": []
    },
    "kernelspec": {
      "display_name": "Python 3",
      "name": "python3"
    },
    "language_info": {
      "codemirror_mode": {
        "name": "ipython",
        "version": 3
      },
      "file_extension": ".py",
      "mimetype": "text/x-python",
      "name": "python",
      "nbconvert_exporter": "python",
      "pygments_lexer": "ipython3",
      "version": "3.9.13"
    }
  },
  "nbformat": 4,
  "nbformat_minor": 0
}
