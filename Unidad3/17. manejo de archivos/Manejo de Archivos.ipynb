{
 "cells": [
  {
   "cell_type": "markdown",
   "metadata": {},
   "source": [
    "## Manejo de archivos: CSV y JSON"
   ]
  },
  {
   "cell_type": "markdown",
   "metadata": {},
   "source": [
    "### CSV -  Comma Separated Values\n",
    "\n",
    "El formato CSV requiere que cada elemento de nuestro conjunto se presente en una línea. Dentro de esa línea, cada uno de los atributos del elemento debe estar separado por un único separador, que habitualmente es una coma, y seguir siempre el mismo orden. Además, la primera línea del fichero, a la que llamaremos cabecera, no contiene datos de ningún elemento, sino información de los atributos.\n",
    "\n",
    "Por ejemplo, guardar las notas cualitativas de un curso en formato CSV\n",
    "\n",
    "$Nombre$, $Lengua$, $Física$, $Química$, $Gimnasia$<br>\n",
    "Alicia Alonso, Notable, Notable, Aprobado, Bien<br>\n",
    "Bruno Bermejo, Aprobado, Bien, Bien, Suspenso<br>\n",
    "\n",
    "En el caso anterior es fácil la separación y visualziación de los datos con este formato. Pero ¿y si las notas fueran cuantitativas y requirieran un separador flotante y que este fuera la coma (4,5)?\n",
    "El formato del fichero no es capaz de distinguir entre la coma del flotante y la coma que separa los distintos atributos, y podría pensar que hay dos notas: 4 y 5.\n",
    "\n",
    "Podemos solucionar este problema de dos maneras. <b>En primer lugar</b>, es posible crear un valor único encerrándolo entre comillas, por lo que tendríamos:\n",
    "\n",
    "$Nombre$, $Lengua$, $Física$, $Química$, $Gimnasia$<br>\n",
    "\"Alicia Alonso\", \"3,7\", \"4,0\", \"2,7\", \"3,3\"<br>\n",
    "\"Bruno Bermejo\", \"2,7\", \"3,3\", \"3,2\", \"2,4\"<br>\n",
    "\n",
    "En este caso, entendemos que el atributo es un único valor de tipo cadena de texto ($str$) y por tanto no debe partirse.\n",
    "\n",
    "<b>La segunda opción</b> consiste en cambiar la coma, separando los valores por otro símbolo que tengamos la seguridad no aparece en el resto del fichero, como un punto o una arroba. Esta opción es más arriesgada si no conocemos bien el fichero, por lo que es recomendable usar las comillas.\n"
   ]
  },
  {
   "cell_type": "code",
   "execution_count": null,
   "metadata": {},
   "outputs": [],
   "source": []
  },
  {
   "cell_type": "markdown",
   "metadata": {},
   "source": [
    "## Manejo de CSV con Python\n",
    "\n",
    "- Estándar intenacional <a href=\"https://datatracker.ietf.org/doc/html/rfc4180.html\" target=\"_blank\">RFC 4180</a>\n",
    "- <a href=\"https://www.python.org/dev/peps/pep-0305/\" target=\"_blank\">PEP 305</a> - API de archivo CSV. La Propuesta de Mejora de Python (PEP, por sus siglas en inglés) que propone esta adición a Python.<br>\n",
    "<a href=\"https://www.python.org/dev/peps/\" target=\"_blank\">PEP: Python Enhancement Proposal.</a>"
   ]
  },
  {
   "cell_type": "markdown",
   "metadata": {},
   "source": [
    "### Importación del módulo"
   ]
  },
  {
   "cell_type": "code",
   "execution_count": null,
   "metadata": {},
   "outputs": [],
   "source": [
    "import csv"
   ]
  },
  {
   "cell_type": "markdown",
   "metadata": {},
   "source": [
    "### Método $reader()$"
   ]
  },
  {
   "cell_type": "code",
   "execution_count": null,
   "metadata": {},
   "outputs": [],
   "source": [
    "file = open('Casos_positivos_de_COVID-19_en_Colombia_Antioquia.csv' , encoding='utf8')\n",
    "content = csv.reader(file , delimiter=',')\n",
    "for row in content:\n",
    "    print(row)\n",
    "file.close()"
   ]
  },
  {
   "cell_type": "markdown",
   "metadata": {},
   "source": [
    "#### Número de líneas en el archivo leñido"
   ]
  },
  {
   "cell_type": "code",
   "execution_count": null,
   "metadata": {},
   "outputs": [],
   "source": [
    "content.line_num"
   ]
  },
  {
   "cell_type": "markdown",
   "metadata": {},
   "source": [
    "#### Se peude utilizar el método $with$ para leer el archivo"
   ]
  },
  {
   "cell_type": "code",
   "execution_count": null,
   "metadata": {},
   "outputs": [],
   "source": [
    "with open('Casos_positivos_de_COVID-19_en_Colombia_Antioquia.csv', encoding='utf8') as csvfile:\n",
    "    content = csv.reader(csvfile, delimiter=',')\n",
    "    for row in content:\n",
    "        print(row)\n"
   ]
  },
  {
   "cell_type": "markdown",
   "metadata": {},
   "source": [
    "#### Miremos solo algunas líneas del archivo"
   ]
  },
  {
   "cell_type": "code",
   "execution_count": null,
   "metadata": {},
   "outputs": [],
   "source": [
    "with open('Casos_positivos_de_COVID-19_en_Colombia_Antioquia.csv' , encoding='utf8') as csvfile:\n",
    "    content = csv.reader(csvfile, delimiter=',' , quotechar='\"')\n",
    "    i = 1\n",
    "    for row in content:\n",
    "        print(row)\n",
    "        if i==3:\n",
    "            break\n",
    "        i+=1"
   ]
  },
  {
   "cell_type": "markdown",
   "metadata": {},
   "source": [
    "#### Tratemos de darle un vistazo con otras herramientas"
   ]
  },
  {
   "cell_type": "code",
   "execution_count": null,
   "metadata": {},
   "outputs": [],
   "source": [
    "with open('Casos_positivos_de_COVID-19_en_Colombia_Antioquia.csv' , encoding='utf8') as csvfile:\n",
    "    content = csv.reader(csvfile, delimiter=',')\n",
    "    i = 1\n",
    "    for row in content:\n",
    "        if i==1:\n",
    "            header = row\n",
    "        elif i==2:\n",
    "            break\n",
    "        i+=1\n",
    "dic = dict(zip(header , row))\n",
    "dic"
   ]
  },
  {
   "cell_type": "markdown",
   "metadata": {},
   "source": [
    "### Método $writer()$"
   ]
  },
  {
   "cell_type": "code",
   "execution_count": null,
   "metadata": {},
   "outputs": [],
   "source": [
    "file = open('archivo_csv.csv', 'w', encoding='utf-16')\n",
    "nombres_campos = ['Nombre', 'Apellidos']\n",
    "writer = csv.DictWriter(file, fieldnames=nombres_campos)\n",
    "\n",
    "writer.writeheader()\n",
    "writer.writerow({'Nombre': 'Carlos Andrés', 'Apellidos': 'Gutierrez Medina'})\n",
    "writer.writerow({'Nombre': 'Maria Cristina', 'Apellidos': 'Marín Ortiz'})\n",
    "writer.writerow({'Nombre': 'Nancy Cecilia', 'Apellidos': 'Cortes Ramos'})\n",
    "file.close()"
   ]
  },
  {
   "cell_type": "markdown",
   "metadata": {},
   "source": [
    "#### También se puede usar el método $with$ para escribir un archivo"
   ]
  },
  {
   "cell_type": "code",
   "execution_count": null,
   "metadata": {},
   "outputs": [],
   "source": [
    "with open('archivo_csv.csv', 'w', encoding='utf-16') as csvfile:\n",
    "    fieldnames = ['Nombre', 'Apellidos']\n",
    "    writer = csv.DictWriter(csvfile, fieldnames=fieldnames)\n",
    "\n",
    "    writer.writeheader()\n",
    "    writer.writerow({'Nombre': 'Andrés Felipe', 'Apellidos': 'Contreras'})\n",
    "    writer.writerow({'Nombre': 'Isabel Cristina', 'Apellidos': 'Bohorquez'})\n",
    "    writer.writerow({'Nombre': 'Marcela', 'Apellidos': 'Roqueme Mira'})\n"
   ]
  },
  {
   "cell_type": "markdown",
   "metadata": {},
   "source": [
    "#### NOTA:\n",
    "Se debe tener en cuenta que el uso del modo de apertura $'w'$ crear el archivo desde cero, es decir, si existe, este es reemplazado por el archivo nuevo con la información nueva."
   ]
  },
  {
   "cell_type": "markdown",
   "metadata": {},
   "source": [
    "#### Se puede usar entonces el modo de apertura $'a'$ del los archivos con la función $open()$"
   ]
  },
  {
   "cell_type": "code",
   "execution_count": null,
   "metadata": {},
   "outputs": [],
   "source": [
    "csvfile = open('archivo_csv.csv', 'a' , encoding='utf-16')\n",
    "writer = csv.DictWriter(csvfile, fieldnames=fieldnames)\n",
    "writer.writerow({'Nombre': 'Karla', 'Apellidos': 'Martínez Ladino'})\n",
    "csvfile.close()"
   ]
  },
  {
   "cell_type": "code",
   "execution_count": null,
   "metadata": {},
   "outputs": [],
   "source": []
  },
  {
   "cell_type": "code",
   "execution_count": null,
   "metadata": {},
   "outputs": [],
   "source": []
  },
  {
   "cell_type": "code",
   "execution_count": null,
   "metadata": {},
   "outputs": [],
   "source": []
  },
  {
   "cell_type": "markdown",
   "metadata": {},
   "source": [
    "# $JSON$\n",
    "\n",
    "Es un formato de texto sencillo para el intercambio de datos. Se trata de un subconjunto de la notación literal de objetos de JavaScript. Debido a su amplia utilización, JSON es un formato de texto que es completamente independiente del lenguaje pero utiliza convenciones que son ampliamente conocidos por los programadores de la familia de lenguajes C, incluyendo C, C++, C#, Java, JavaScript, Perl, Python, y muchos otros. Estas propiedades hacen que JSON sea un lenguaje ideal para el intercambio de datos.\n",
    "\n",
    "<a href=\"https://www.json.org/json-es.html\" target=\"_blank\">Link de documentación JSON</a>\n",
    "\n",
    "\n",
    "<a href=\"https://www.datos.gov.co/resource/qasc-uuup.json?orden=100\" target=\"_blank\">Ejemplo de JSON en la web</a>"
   ]
  },
  {
   "cell_type": "code",
   "execution_count": null,
   "metadata": {},
   "outputs": [],
   "source": [
    "# 20210908181728\n",
    "# https://www.datos.gov.co/resource/qasc-uuup.json?orden=100\n",
    "\n",
    "[\n",
    "  {\n",
    "    \"orden\": \"100\",\n",
    "    \"departamento\": \"antioquia\",\n",
    "    \"municipio\": \"medellin\",\n",
    "    \"fecha\": \"2021-05-28T00:00:00.000\",\n",
    "    \"mes\": \"mayo\",\n",
    "    \"dia\": \"viernes\",\n",
    "    \"_1era_dosis\": \"4547\",\n",
    "    \"_2da_dosis\": \"398\",\n",
    "    \"total_aplicada\": \"4945\",\n",
    "    \"astrazeneca\": \"0\",\n",
    "    \"pfizer\": \"2563\",\n",
    "    \"sinovac\": \"2382\",\n",
    "    \"astrazeneca_1era_dosis\": \"0\",\n",
    "    \"pfizer_1era_dosis\": \"2171\",\n",
    "    \"sinovac_1era_dosis\": \"2376\",\n",
    "    \"astrazeneca_2da_dosis\": \"0\",\n",
    "    \"pfizer_2da_dosis\": \"392\",\n",
    "    \"sinovac_2da_dosis\": \"6\"\n",
    "  }\n",
    "]"
   ]
  },
  {
   "cell_type": "markdown",
   "metadata": {},
   "source": [
    "#### Se hace la importación del módulo $JSON$"
   ]
  },
  {
   "cell_type": "code",
   "execution_count": null,
   "metadata": {},
   "outputs": [],
   "source": [
    "import json"
   ]
  },
  {
   "cell_type": "markdown",
   "metadata": {},
   "source": [
    "#### Lectura de archivos $JSON$ con la función $load()$"
   ]
  },
  {
   "cell_type": "code",
   "execution_count": null,
   "metadata": {},
   "outputs": [],
   "source": [
    "with open('Casos_positivos_de_COVID-19_en_Colombia_Antioquia.json' , encoding='utf8' ) as file:\n",
    "    data = json.load(file)\n",
    "    print(data)"
   ]
  },
  {
   "cell_type": "markdown",
   "metadata": {},
   "source": [
    "#### Se pueden ver todo registros por separado línea a línea"
   ]
  },
  {
   "cell_type": "code",
   "execution_count": null,
   "metadata": {},
   "outputs": [],
   "source": [
    "with open('Casos_positivos_de_COVID-19_en_Colombia_Antioquia.json' , encoding='utf8') as file:\n",
    "    data = json.load(file)\n",
    "\n",
    "    for data_ in data:\n",
    "        for patient in data[data_]:\n",
    "            print(patient)\n",
    "            print('')"
   ]
  },
  {
   "cell_type": "markdown",
   "metadata": {},
   "source": [
    "#### Miremos los datos de un solo paciente."
   ]
  },
  {
   "cell_type": "code",
   "execution_count": null,
   "metadata": {},
   "outputs": [],
   "source": [
    "patient"
   ]
  },
  {
   "cell_type": "code",
   "execution_count": null,
   "metadata": {},
   "outputs": [],
   "source": [
    "patient[20]"
   ]
  },
  {
   "cell_type": "markdown",
   "metadata": {},
   "source": [
    "#### Extrayendo algunos datos."
   ]
  },
  {
   "cell_type": "code",
   "execution_count": null,
   "metadata": {},
   "outputs": [],
   "source": [
    "with open('Casos_positivos_de_COVID-19_en_Colombia_Antioquia.json' , encoding='utf8') as file:\n",
    "    data = json.load(file)\n",
    "\n",
    "    for data_ in data:\n",
    "        for patient in data[data_]:\n",
    "            try:\n",
    "                print(f\"Sexo: {patient[17]} - Edad: {patient[15]} - Estado: {patient[20]}\")\n",
    "            except IndexError :\n",
    "                continue\n"
   ]
  },
  {
   "cell_type": "markdown",
   "metadata": {},
   "source": [
    "#### Escribiendo archivos $JSON$ con la función $dump()"
   ]
  },
  {
   "cell_type": "code",
   "execution_count": null,
   "metadata": {},
   "outputs": [],
   "source": [
    "import json\n",
    "\n",
    "data = {}\n",
    "data['clients'] = []\n",
    "\n",
    "data['clients'].append({\n",
    "    'nombre': 'Carlos Andrés',\n",
    "    'apellidos': 'Gutierrez Medina',\n",
    "    'edad': 27})\n",
    "\n",
    "data['clients'].append({\n",
    "    'nombre': 'Maria Cristina',\n",
    "    'apellidos': 'Marín Ortiz',\n",
    "    'edad': 31})\n",
    "\n",
    "data['clients'].append({\n",
    "    'nombre': 'Nancy Cecilia',\n",
    "    'apellidos': 'Cortes Ramos',\n",
    "    'edad': 36})\n",
    "\n",
    "with open('data.json', 'w') as file:\n",
    "    json.dump(data, file, indent=4)"
   ]
  }
 ],
 "metadata": {
  "kernelspec": {
   "display_name": "Python 3",
   "language": "python",
   "name": "python3"
  },
  "language_info": {
   "codemirror_mode": {
    "name": "ipython",
    "version": 3
   },
   "file_extension": ".py",
   "mimetype": "text/x-python",
   "name": "python",
   "nbconvert_exporter": "python",
   "pygments_lexer": "ipython3",
   "version": "3.8.8"
  }
 },
 "nbformat": 4,
 "nbformat_minor": 4
}
