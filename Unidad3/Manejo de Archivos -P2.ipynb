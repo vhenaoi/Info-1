{
 "cells": [
  {
   "cell_type": "markdown",
   "id": "c0c77b69",
   "metadata": {},
   "source": [
    "# Manejo de archivos"
   ]
  },
  {
   "cell_type": "markdown",
   "id": "ed04340e",
   "metadata": {},
   "source": [
    "En todas las opciones de archivos vistos, se usa el método $open(\"nombre\\_archivo\" , \"modo\" , \"codificación\")$\n",
    "#### Modos de apertura de los archivos\n",
    "\n",
    "##### 1. Lectura : \"r\" (Valor por defecto)\n",
    "##### 2. Escritura : \"w\" \n",
    "##### 3. Agregar o anexar : \"a\"\n",
    "\n",
    "\n",
    "Este método $open()$ retornan la metadata del archivo para $leer$ su contenido o $escribir$ algún contenido en este."
   ]
  },
  {
   "cell_type": "markdown",
   "id": "434e660a",
   "metadata": {},
   "source": [
    "## Archivos de texto - $txt$"
   ]
  },
  {
   "cell_type": "code",
   "execution_count": 4,
   "id": "65781ec5",
   "metadata": {},
   "outputs": [
    {
     "data": {
      "text/plain": [
       "<_io.TextIOWrapper name='D:\\\\Info-1\\\\Unidad3\\\\archivo_python.txt' mode='r' encoding='utf8'>"
      ]
     },
     "execution_count": 4,
     "metadata": {},
     "output_type": "execute_result"
    }
   ],
   "source": [
    "file = open(r'D:\\Info-1\\Unidad3\\archivo_python.txt' , encoding='utf8')\n",
    "file"
   ]
  },
  {
   "cell_type": "markdown",
   "id": "defb4183",
   "metadata": {},
   "source": [
    "#### Método de lectura de txt $read()$"
   ]
  },
  {
   "cell_type": "code",
   "execution_count": 5,
   "id": "b2120a62",
   "metadata": {},
   "outputs": [
    {
     "data": {
      "text/plain": [
       "'Hola Mundo'"
      ]
     },
     "execution_count": 5,
     "metadata": {},
     "output_type": "execute_result"
    }
   ],
   "source": [
    "contenido = file.read()\n",
    "contenido"
   ]
  },
  {
   "cell_type": "code",
   "execution_count": 4,
   "id": "7d9e6236",
   "metadata": {},
   "outputs": [
    {
     "name": "stdout",
     "output_type": "stream",
     "text": [
      "|Pedro Pablo|Paterniana Paez|39|M|Sura|\n",
      "|Magdalena|Mejía Preciado|47|F|Coomeva|\n",
      "|Gloria Marcela|Loaiza Lopera|29|F|Salud Capital|\n",
      "|Juan Fernando|Caicedo Macías|25|M|Sura|\n",
      "|Maria Cecilia|Vásquez Ramírez|63|F|SISBEN|\n",
      "|Ana María|Sánchez Mendez|19|F|Salud Total|\n",
      "|John Alejandro|Pulgarín Rojas|22|M|SISBEN|\n"
     ]
    }
   ],
   "source": [
    "print(contenido)"
   ]
  },
  {
   "cell_type": "markdown",
   "id": "9922e7c9",
   "metadata": {},
   "source": [
    "#### Los archivo se debe cerrar"
   ]
  },
  {
   "cell_type": "code",
   "execution_count": 5,
   "id": "61616b10",
   "metadata": {},
   "outputs": [],
   "source": [
    "file.close()"
   ]
  },
  {
   "cell_type": "markdown",
   "id": "43efefaf",
   "metadata": {},
   "source": [
    "#### Método de lectura de txt $readlines()$"
   ]
  },
  {
   "cell_type": "code",
   "execution_count": 6,
   "id": "0a33b6fe",
   "metadata": {},
   "outputs": [
    {
     "name": "stdout",
     "output_type": "stream",
     "text": [
      "['|Pedro Pablo|Paterniana Paez|39|M|Sura|\\n', '|Magdalena|Mejía Preciado|47|F|Coomeva|\\n', '|Gloria Marcela|Loaiza Lopera|29|F|Salud Capital|\\n', '|Juan Fernando|Caicedo Macías|25|M|Sura|\\n', '|Maria Cecilia|Vásquez Ramírez|63|F|SISBEN|\\n', '|Ana María|Sánchez Mendez|19|F|Salud Total|\\n', '|John Alejandro|Pulgarín Rojas|22|M|SISBEN|']\n"
     ]
    }
   ],
   "source": [
    "file = open(\"archivo_txt.txt\" , encoding='utf8')\n",
    "contenido = file.readlines()\n",
    "print(contenido)\n",
    "file.close()"
   ]
  },
  {
   "cell_type": "markdown",
   "id": "763e0531",
   "metadata": {},
   "source": [
    "#### Se puede meter el contenido del readlines a un ciclo FOR"
   ]
  },
  {
   "cell_type": "code",
   "execution_count": 7,
   "id": "ee7c3a02",
   "metadata": {},
   "outputs": [
    {
     "name": "stdout",
     "output_type": "stream",
     "text": [
      "|Pedro Pablo|Paterniana Paez|39|M|Sura|\n",
      "\n",
      "|Magdalena|Mejía Preciado|47|F|Coomeva|\n",
      "\n",
      "|Gloria Marcela|Loaiza Lopera|29|F|Salud Capital|\n",
      "\n",
      "|Juan Fernando|Caicedo Macías|25|M|Sura|\n",
      "\n",
      "|Maria Cecilia|Vásquez Ramírez|63|F|SISBEN|\n",
      "\n",
      "|Ana María|Sánchez Mendez|19|F|Salud Total|\n",
      "\n",
      "|John Alejandro|Pulgarín Rojas|22|M|SISBEN|\n"
     ]
    }
   ],
   "source": [
    "file = open(\"archivo_txt.txt\" , encoding='utf8')\n",
    "contenido = file.readlines()\n",
    "for line in contenido:\n",
    "    print(line)\n",
    "file.close()"
   ]
  },
  {
   "cell_type": "code",
   "execution_count": 8,
   "id": "f791d746",
   "metadata": {},
   "outputs": [
    {
     "data": {
      "text/plain": [
       "'Pulgarín Rojas'"
      ]
     },
     "execution_count": 8,
     "metadata": {},
     "output_type": "execute_result"
    }
   ],
   "source": [
    "'|John Alejandro^Pulgarín Rojas|22|M|SISBEN|'.split('|')[1].split('^')[1]"
   ]
  },
  {
   "cell_type": "markdown",
   "id": "0f829983",
   "metadata": {},
   "source": [
    "#### Se pueden usar métodos de cadenas para sacar la información de los archivos"
   ]
  },
  {
   "cell_type": "code",
   "execution_count": 21,
   "id": "a2283f1b",
   "metadata": {},
   "outputs": [
    {
     "name": "stdout",
     "output_type": "stream",
     "text": [
      "['', 'Pedro Pablo', 'Paterniana Paez', '39', 'M', 'Sura', '\\n']\n",
      "['', 'Magdalena', 'Mejía Preciado', '47', 'F', 'Coomeva', '\\n']\n",
      "['', 'Gloria Marcela', 'Loaiza Lopera', '29', 'F', 'Salud Capital', '\\n']\n",
      "['', 'Juan Fernando', 'Caicedo Macías', '25', 'M', 'Sura', '\\n']\n",
      "['', 'Maria Cecilia', 'Vásquez Ramírez', '63', 'F', 'SISBEN', '\\n']\n",
      "['', 'Ana María', 'Sánchez Mendez', '19', 'F', 'Salud Total', '\\n']\n",
      "['', 'John Alejandro', 'Pulgarín Rojas', '22', 'M', 'SISBEN', '']\n"
     ]
    }
   ],
   "source": [
    "file = open(\"archivo_txt.txt\" , encoding='utf8')\n",
    "contenido = file.readlines()\n",
    "for line in contenido:\n",
    "    p = line.split('|')\n",
    "    print(p)\n",
    "file.close()"
   ]
  },
  {
   "cell_type": "markdown",
   "id": "dfcb2249",
   "metadata": {},
   "source": [
    "### Ejercicio\n",
    "Sacar el promedio de las edades y contar cuántos pacientes son hombre y cuántos mujeres"
   ]
  },
  {
   "cell_type": "code",
   "execution_count": 25,
   "id": "2612d98d",
   "metadata": {},
   "outputs": [
    {
     "name": "stdout",
     "output_type": "stream",
     "text": [
      "FEMENINO:  4\n",
      "MASCULINO:  3\n",
      "PROMEDIO DE EDADES:  34.857142857142854\n"
     ]
    }
   ],
   "source": [
    "f = 0\n",
    "m = 0\n",
    "edad = 0\n",
    "file = open(\"archivo_txt.txt\" , encoding='utf8')\n",
    "contenido = file.readlines()\n",
    "for line in contenido:\n",
    "    p = line.split('|')\n",
    "    if p[4]== 'M':\n",
    "        m+=1\n",
    "    else:\n",
    "        f+=1\n",
    "    edad = edad + int(p[3])\n",
    "file.close()\n",
    "\n",
    "print('FEMENINO: ', f)\n",
    "print('MASCULINO: ', m)\n",
    "print('PROMEDIO DE EDADES: ' , edad/len(contenido))"
   ]
  },
  {
   "cell_type": "code",
   "execution_count": 26,
   "id": "27e1d126",
   "metadata": {},
   "outputs": [
    {
     "name": "stdout",
     "output_type": "stream",
     "text": [
      "Help on built-in function open in module io:\n",
      "\n",
      "open(file, mode='r', buffering=-1, encoding=None, errors=None, newline=None, closefd=True, opener=None)\n",
      "    Open file and return a stream.  Raise OSError upon failure.\n",
      "    \n",
      "    file is either a text or byte string giving the name (and the path\n",
      "    if the file isn't in the current working directory) of the file to\n",
      "    be opened or an integer file descriptor of the file to be\n",
      "    wrapped. (If a file descriptor is given, it is closed when the\n",
      "    returned I/O object is closed, unless closefd is set to False.)\n",
      "    \n",
      "    mode is an optional string that specifies the mode in which the file\n",
      "    is opened. It defaults to 'r' which means open for reading in text\n",
      "    mode.  Other common values are 'w' for writing (truncating the file if\n",
      "    it already exists), 'x' for creating and writing to a new file, and\n",
      "    'a' for appending (which on some Unix systems, means that all writes\n",
      "    append to the end of the file regardless of the current seek position).\n",
      "    In text mode, if encoding is not specified the encoding used is platform\n",
      "    dependent: locale.getpreferredencoding(False) is called to get the\n",
      "    current locale encoding. (For reading and writing raw bytes use binary\n",
      "    mode and leave encoding unspecified.) The available modes are:\n",
      "    \n",
      "    ========= ===============================================================\n",
      "    Character Meaning\n",
      "    --------- ---------------------------------------------------------------\n",
      "    'r'       open for reading (default)\n",
      "    'w'       open for writing, truncating the file first\n",
      "    'x'       create a new file and open it for writing\n",
      "    'a'       open for writing, appending to the end of the file if it exists\n",
      "    'b'       binary mode\n",
      "    't'       text mode (default)\n",
      "    '+'       open a disk file for updating (reading and writing)\n",
      "    'U'       universal newline mode (deprecated)\n",
      "    ========= ===============================================================\n",
      "    \n",
      "    The default mode is 'rt' (open for reading text). For binary random\n",
      "    access, the mode 'w+b' opens and truncates the file to 0 bytes, while\n",
      "    'r+b' opens the file without truncation. The 'x' mode implies 'w' and\n",
      "    raises an `FileExistsError` if the file already exists.\n",
      "    \n",
      "    Python distinguishes between files opened in binary and text modes,\n",
      "    even when the underlying operating system doesn't. Files opened in\n",
      "    binary mode (appending 'b' to the mode argument) return contents as\n",
      "    bytes objects without any decoding. In text mode (the default, or when\n",
      "    't' is appended to the mode argument), the contents of the file are\n",
      "    returned as strings, the bytes having been first decoded using a\n",
      "    platform-dependent encoding or using the specified encoding if given.\n",
      "    \n",
      "    'U' mode is deprecated and will raise an exception in future versions\n",
      "    of Python.  It has no effect in Python 3.  Use newline to control\n",
      "    universal newlines mode.\n",
      "    \n",
      "    buffering is an optional integer used to set the buffering policy.\n",
      "    Pass 0 to switch buffering off (only allowed in binary mode), 1 to select\n",
      "    line buffering (only usable in text mode), and an integer > 1 to indicate\n",
      "    the size of a fixed-size chunk buffer.  When no buffering argument is\n",
      "    given, the default buffering policy works as follows:\n",
      "    \n",
      "    * Binary files are buffered in fixed-size chunks; the size of the buffer\n",
      "      is chosen using a heuristic trying to determine the underlying device's\n",
      "      \"block size\" and falling back on `io.DEFAULT_BUFFER_SIZE`.\n",
      "      On many systems, the buffer will typically be 4096 or 8192 bytes long.\n",
      "    \n",
      "    * \"Interactive\" text files (files for which isatty() returns True)\n",
      "      use line buffering.  Other text files use the policy described above\n",
      "      for binary files.\n",
      "    \n",
      "    encoding is the name of the encoding used to decode or encode the\n",
      "    file. This should only be used in text mode. The default encoding is\n",
      "    platform dependent, but any encoding supported by Python can be\n",
      "    passed.  See the codecs module for the list of supported encodings.\n",
      "    \n",
      "    errors is an optional string that specifies how encoding errors are to\n",
      "    be handled---this argument should not be used in binary mode. Pass\n",
      "    'strict' to raise a ValueError exception if there is an encoding error\n",
      "    (the default of None has the same effect), or pass 'ignore' to ignore\n",
      "    errors. (Note that ignoring encoding errors can lead to data loss.)\n",
      "    See the documentation for codecs.register or run 'help(codecs.Codec)'\n",
      "    for a list of the permitted encoding error strings.\n",
      "    \n",
      "    newline controls how universal newlines works (it only applies to text\n",
      "    mode). It can be None, '', '\\n', '\\r', and '\\r\\n'.  It works as\n",
      "    follows:\n",
      "    \n",
      "    * On input, if newline is None, universal newlines mode is\n",
      "      enabled. Lines in the input can end in '\\n', '\\r', or '\\r\\n', and\n",
      "      these are translated into '\\n' before being returned to the\n",
      "      caller. If it is '', universal newline mode is enabled, but line\n",
      "      endings are returned to the caller untranslated. If it has any of\n",
      "      the other legal values, input lines are only terminated by the given\n",
      "      string, and the line ending is returned to the caller untranslated.\n",
      "    \n",
      "    * On output, if newline is None, any '\\n' characters written are\n",
      "      translated to the system default line separator, os.linesep. If\n",
      "      newline is '' or '\\n', no translation takes place. If newline is any\n",
      "      of the other legal values, any '\\n' characters written are translated\n",
      "      to the given string.\n",
      "    \n",
      "    If closefd is False, the underlying file descriptor will be kept open\n",
      "    when the file is closed. This does not work when a file name is given\n",
      "    and must be True in that case.\n",
      "    \n",
      "    A custom opener can be used by passing a callable as *opener*. The\n",
      "    underlying file descriptor for the file object is then obtained by\n",
      "    calling *opener* with (*file*, *flags*). *opener* must return an open\n",
      "    file descriptor (passing os.open as *opener* results in functionality\n",
      "    similar to passing None).\n",
      "    \n",
      "    open() returns a file object whose type depends on the mode, and\n",
      "    through which the standard file operations such as reading and writing\n",
      "    are performed. When open() is used to open a file in a text mode ('w',\n",
      "    'r', 'wt', 'rt', etc.), it returns a TextIOWrapper. When used to open\n",
      "    a file in a binary mode, the returned class varies: in read binary\n",
      "    mode, it returns a BufferedReader; in write binary and append binary\n",
      "    modes, it returns a BufferedWriter, and in read/write mode, it returns\n",
      "    a BufferedRandom.\n",
      "    \n",
      "    It is also possible to use a string or bytearray as a file for both\n",
      "    reading and writing. For strings StringIO can be used like a file\n",
      "    opened in a text mode, and for bytes a BytesIO can be used like a file\n",
      "    opened in a binary mode.\n",
      "\n"
     ]
    }
   ],
   "source": [
    "help(open)"
   ]
  },
  {
   "cell_type": "markdown",
   "id": "43467b61",
   "metadata": {},
   "source": [
    "#### Método de escritura de txt $write()$"
   ]
  },
  {
   "cell_type": "code",
   "execution_count": 9,
   "id": "b1f5aff7",
   "metadata": {},
   "outputs": [
    {
     "name": "stdout",
     "output_type": "stream",
     "text": [
      " - INGRESE LA INFORMACIÓN DEL PACIENTE - \n"
     ]
    }
   ],
   "source": [
    "## USANDO EL MODO \"W\"\n",
    "\n",
    "print(' - INGRESE LA INFORMACIÓN DEL PACIENTE - ')\n",
    "name = input('Nombre: ')\n",
    "lastname = input('Apellidos: ')\n",
    "age = input('Edad: ')\n",
    "sex = input('M: Masculino o F: Femenino')\n",
    "sex = sex.upper()\n",
    "eps = input('Nombre de la EPS: ')\n",
    "\n",
    "file = open(\"base_de_datos_txt.txt\"  , encoding='utf8' , mode='w')\n",
    "content = f\"|{name}|{lastname}|{age}|{sex}|{eps}|\\n\"\n",
    "file.write(content)\n",
    "file.close()"
   ]
  },
  {
   "cell_type": "code",
   "execution_count": 1,
   "id": "6d16b68f",
   "metadata": {},
   "outputs": [
    {
     "name": "stdout",
     "output_type": "stream",
     "text": [
      " - INGRESE LA INFORMACIÓN DEL PACIENTE - \n",
      " - INGRESE LA INFORMACIÓN DEL PACIENTE - \n",
      " - INGRESE LA INFORMACIÓN DEL PACIENTE - \n"
     ]
    }
   ],
   "source": [
    "## USANDO EL MODO \"A\"\n",
    "for i in range(3):\n",
    "    print(' - INGRESE LA INFORMACIÓN DEL PACIENTE - ')\n",
    "    name = input('Nombre: ')\n",
    "    lastname = input('Apellidos: ')\n",
    "    age = input('Edad: ')\n",
    "    sex = input('M: Masculino o F: Femenino')\n",
    "    sex = sex.upper()\n",
    "    eps = input('Nombre de la EPS: ')\n",
    "\n",
    "    file = open(\"base_de_datos_txt.txt\" , mode='a' , encoding='utf8')\n",
    "    content = f\"|{name}|{lastname}|{age}|{sex}|{eps}|\\n\"\n",
    "    file.write(content)\n",
    "    file.close()"
   ]
  },
  {
   "cell_type": "markdown",
   "id": "d102a15c",
   "metadata": {},
   "source": [
    "## Archivos Separados por comas - $csv$"
   ]
  },
  {
   "cell_type": "markdown",
   "id": "013cd639",
   "metadata": {},
   "source": [
    "#### Método de lectura de csv $reader()$"
   ]
  },
  {
   "cell_type": "code",
   "execution_count": 34,
   "id": "6eae6a70",
   "metadata": {},
   "outputs": [
    {
     "name": "stdout",
     "output_type": "stream",
     "text": [
      "39\n",
      "47\n",
      "29\n",
      "25\n",
      "63\n",
      "19\n",
      "22\n"
     ]
    }
   ],
   "source": [
    "# Se debe importar y usar el módulo csv\n",
    "import csv\n",
    "\n",
    "file = open(\"archivo_csv.csv\" ,'r', encoding='utf8')\n",
    "contenido = csv.reader(file , delimiter=',')\n",
    "for line in contenido:\n",
    "    try:\n",
    "        e = int(line[2])\n",
    "        print(e)\n",
    "    except ValueError:\n",
    "        continue\n",
    "file.close()"
   ]
  },
  {
   "cell_type": "code",
   "execution_count": 30,
   "id": "c8f02cdf",
   "metadata": {},
   "outputs": [
    {
     "name": "stdout",
     "output_type": "stream",
     "text": [
      "nombre,apellidos,edad,género,eps\n",
      "Pedro Pablo,Paterniana Paez,39,M,Sura\n",
      "Magdalena,Mejía Preciado,47,F,Coomeva\n",
      "Gloria Marcela,Loaiza Lopera,29,F,Salud Capital\n",
      "Juan Fernando,Caicedo Macías,25,M,Sura\n",
      "Maria Cecilia,Vásquez Ramírez,63,F,SISBEN\n",
      "Ana María,Sánchez Mendez,19,F,Salud Total\n",
      "John Alejandro,Pulgarín Rojas,22,M,SISBEN\n"
     ]
    }
   ],
   "source": [
    "\n",
    "file = open(\"archivo_csv.csv\" , encoding='utf8')\n",
    "contenido = file.read()\n",
    "print(contenido)"
   ]
  },
  {
   "cell_type": "code",
   "execution_count": 31,
   "id": "567c335a",
   "metadata": {},
   "outputs": [
    {
     "data": {
      "text/plain": [
       "'nombre,apellidos,edad,género,eps\\nPedro Pablo,Paterniana Paez,39,M,Sura\\nMagdalena,Mejía Preciado,47,F,Coomeva\\nGloria Marcela,Loaiza Lopera,29,F,Salud Capital\\nJuan Fernando,Caicedo Macías,25,M,Sura\\nMaria Cecilia,Vásquez Ramírez,63,F,SISBEN\\nAna María,Sánchez Mendez,19,F,Salud Total\\nJohn Alejandro,Pulgarín Rojas,22,M,SISBEN'"
      ]
     },
     "execution_count": 31,
     "metadata": {},
     "output_type": "execute_result"
    }
   ],
   "source": [
    "contenido"
   ]
  },
  {
   "cell_type": "markdown",
   "id": "0e3df329",
   "metadata": {},
   "source": [
    "#### Método de escritura de csv $writer()$"
   ]
  },
  {
   "cell_type": "code",
   "execution_count": 36,
   "id": "05c56f20",
   "metadata": {},
   "outputs": [
    {
     "name": "stdout",
     "output_type": "stream",
     "text": [
      " - INGRESE LA INFORMACIÓN DEL PACIENTE - \n",
      "Nombre: Juan \n",
      "Apellidos: De Arco\n",
      "Edad: 17\n",
      "M: Masculino o F: Femeninof\n",
      "Nombre de la EPS: Coomeva\n"
     ]
    }
   ],
   "source": [
    "## USANDO EL MODO \"W\"\n",
    "\n",
    "print(' - INGRESE LA INFORMACIÓN DEL PACIENTE - ')\n",
    "name = input('Nombre: ')\n",
    "lastname = input('Apellidos: ')\n",
    "age = input('Edad: ')\n",
    "sex = input('M: Masculino o F: Femenino')\n",
    "sex = sex.upper()\n",
    "eps = input('Nombre de la EPS: ')\n",
    "\n",
    "content = [name,lastname,age,sex,eps]\n",
    "\n",
    "file = open(\"archivo_csv_writer.csv\" , mode='w' , encoding='utf8' , newline='')\n",
    "contenido = csv.writer(file , delimiter=',' )\n",
    "contenido.writerow(['nombre', 'apellidos', 'edad', 'género', 'eps'])\n",
    "contenido.writerow(content)\n",
    "file.close()"
   ]
  },
  {
   "cell_type": "code",
   "execution_count": 37,
   "id": "91d327f2",
   "metadata": {},
   "outputs": [
    {
     "name": "stdout",
     "output_type": "stream",
     "text": [
      "Help on built-in function open in module io:\n",
      "\n",
      "open(file, mode='r', buffering=-1, encoding=None, errors=None, newline=None, closefd=True, opener=None)\n",
      "    Open file and return a stream.  Raise OSError upon failure.\n",
      "    \n",
      "    file is either a text or byte string giving the name (and the path\n",
      "    if the file isn't in the current working directory) of the file to\n",
      "    be opened or an integer file descriptor of the file to be\n",
      "    wrapped. (If a file descriptor is given, it is closed when the\n",
      "    returned I/O object is closed, unless closefd is set to False.)\n",
      "    \n",
      "    mode is an optional string that specifies the mode in which the file\n",
      "    is opened. It defaults to 'r' which means open for reading in text\n",
      "    mode.  Other common values are 'w' for writing (truncating the file if\n",
      "    it already exists), 'x' for creating and writing to a new file, and\n",
      "    'a' for appending (which on some Unix systems, means that all writes\n",
      "    append to the end of the file regardless of the current seek position).\n",
      "    In text mode, if encoding is not specified the encoding used is platform\n",
      "    dependent: locale.getpreferredencoding(False) is called to get the\n",
      "    current locale encoding. (For reading and writing raw bytes use binary\n",
      "    mode and leave encoding unspecified.) The available modes are:\n",
      "    \n",
      "    ========= ===============================================================\n",
      "    Character Meaning\n",
      "    --------- ---------------------------------------------------------------\n",
      "    'r'       open for reading (default)\n",
      "    'w'       open for writing, truncating the file first\n",
      "    'x'       create a new file and open it for writing\n",
      "    'a'       open for writing, appending to the end of the file if it exists\n",
      "    'b'       binary mode\n",
      "    't'       text mode (default)\n",
      "    '+'       open a disk file for updating (reading and writing)\n",
      "    'U'       universal newline mode (deprecated)\n",
      "    ========= ===============================================================\n",
      "    \n",
      "    The default mode is 'rt' (open for reading text). For binary random\n",
      "    access, the mode 'w+b' opens and truncates the file to 0 bytes, while\n",
      "    'r+b' opens the file without truncation. The 'x' mode implies 'w' and\n",
      "    raises an `FileExistsError` if the file already exists.\n",
      "    \n",
      "    Python distinguishes between files opened in binary and text modes,\n",
      "    even when the underlying operating system doesn't. Files opened in\n",
      "    binary mode (appending 'b' to the mode argument) return contents as\n",
      "    bytes objects without any decoding. In text mode (the default, or when\n",
      "    't' is appended to the mode argument), the contents of the file are\n",
      "    returned as strings, the bytes having been first decoded using a\n",
      "    platform-dependent encoding or using the specified encoding if given.\n",
      "    \n",
      "    'U' mode is deprecated and will raise an exception in future versions\n",
      "    of Python.  It has no effect in Python 3.  Use newline to control\n",
      "    universal newlines mode.\n",
      "    \n",
      "    buffering is an optional integer used to set the buffering policy.\n",
      "    Pass 0 to switch buffering off (only allowed in binary mode), 1 to select\n",
      "    line buffering (only usable in text mode), and an integer > 1 to indicate\n",
      "    the size of a fixed-size chunk buffer.  When no buffering argument is\n",
      "    given, the default buffering policy works as follows:\n",
      "    \n",
      "    * Binary files are buffered in fixed-size chunks; the size of the buffer\n",
      "      is chosen using a heuristic trying to determine the underlying device's\n",
      "      \"block size\" and falling back on `io.DEFAULT_BUFFER_SIZE`.\n",
      "      On many systems, the buffer will typically be 4096 or 8192 bytes long.\n",
      "    \n",
      "    * \"Interactive\" text files (files for which isatty() returns True)\n",
      "      use line buffering.  Other text files use the policy described above\n",
      "      for binary files.\n",
      "    \n",
      "    encoding is the name of the encoding used to decode or encode the\n",
      "    file. This should only be used in text mode. The default encoding is\n",
      "    platform dependent, but any encoding supported by Python can be\n",
      "    passed.  See the codecs module for the list of supported encodings.\n",
      "    \n",
      "    errors is an optional string that specifies how encoding errors are to\n",
      "    be handled---this argument should not be used in binary mode. Pass\n",
      "    'strict' to raise a ValueError exception if there is an encoding error\n",
      "    (the default of None has the same effect), or pass 'ignore' to ignore\n",
      "    errors. (Note that ignoring encoding errors can lead to data loss.)\n",
      "    See the documentation for codecs.register or run 'help(codecs.Codec)'\n",
      "    for a list of the permitted encoding error strings.\n",
      "    \n",
      "    newline controls how universal newlines works (it only applies to text\n",
      "    mode). It can be None, '', '\\n', '\\r', and '\\r\\n'.  It works as\n",
      "    follows:\n",
      "    \n",
      "    * On input, if newline is None, universal newlines mode is\n",
      "      enabled. Lines in the input can end in '\\n', '\\r', or '\\r\\n', and\n",
      "      these are translated into '\\n' before being returned to the\n",
      "      caller. If it is '', universal newline mode is enabled, but line\n",
      "      endings are returned to the caller untranslated. If it has any of\n",
      "      the other legal values, input lines are only terminated by the given\n",
      "      string, and the line ending is returned to the caller untranslated.\n",
      "    \n",
      "    * On output, if newline is None, any '\\n' characters written are\n",
      "      translated to the system default line separator, os.linesep. If\n",
      "      newline is '' or '\\n', no translation takes place. If newline is any\n",
      "      of the other legal values, any '\\n' characters written are translated\n",
      "      to the given string.\n",
      "    \n",
      "    If closefd is False, the underlying file descriptor will be kept open\n",
      "    when the file is closed. This does not work when a file name is given\n",
      "    and must be True in that case.\n",
      "    \n",
      "    A custom opener can be used by passing a callable as *opener*. The\n",
      "    underlying file descriptor for the file object is then obtained by\n",
      "    calling *opener* with (*file*, *flags*). *opener* must return an open\n",
      "    file descriptor (passing os.open as *opener* results in functionality\n",
      "    similar to passing None).\n",
      "    \n",
      "    open() returns a file object whose type depends on the mode, and\n",
      "    through which the standard file operations such as reading and writing\n",
      "    are performed. When open() is used to open a file in a text mode ('w',\n",
      "    'r', 'wt', 'rt', etc.), it returns a TextIOWrapper. When used to open\n",
      "    a file in a binary mode, the returned class varies: in read binary\n",
      "    mode, it returns a BufferedReader; in write binary and append binary\n",
      "    modes, it returns a BufferedWriter, and in read/write mode, it returns\n",
      "    a BufferedRandom.\n",
      "    \n",
      "    It is also possible to use a string or bytearray as a file for both\n",
      "    reading and writing. For strings StringIO can be used like a file\n",
      "    opened in a text mode, and for bytes a BytesIO can be used like a file\n",
      "    opened in a binary mode.\n",
      "\n"
     ]
    }
   ],
   "source": [
    "help(open)"
   ]
  },
  {
   "cell_type": "code",
   "execution_count": 43,
   "id": "e63cfc7b",
   "metadata": {},
   "outputs": [
    {
     "name": "stdout",
     "output_type": "stream",
     "text": [
      "m \t m\n"
     ]
    }
   ],
   "source": [
    "print('m \\t m')"
   ]
  },
  {
   "cell_type": "code",
   "execution_count": 44,
   "id": "e2f2a14a",
   "metadata": {},
   "outputs": [
    {
     "name": "stdout",
     "output_type": "stream",
     "text": [
      " - INGRESE LA INFORMACIÓN DEL PACIENTE - \n",
      "Nombre: Juan CAmilo\n",
      "Apellidos: Montoya\n",
      "Edad: 23\n",
      "M: Masculino o F: Femeninom\n",
      "Nombre de la EPS: IPS\n"
     ]
    }
   ],
   "source": [
    "## USANDO EL MODO \"A\"\n",
    "\n",
    "print(' - INGRESE LA INFORMACIÓN DEL PACIENTE - ')\n",
    "name = input('Nombre: ')\n",
    "lastname = input('Apellidos: ')\n",
    "age = input('Edad: ')\n",
    "sex = input('M: Masculino o F: Femenino')\n",
    "sex = sex.upper()\n",
    "eps = input('Nombre de la EPS: ')\n",
    "\n",
    "content = [name,lastname,age,sex,eps]\n",
    "\n",
    "file = open(\"archivo_csv_writer.csv\" , mode='a' , encoding='utf8' , newline='')\n",
    "contenido = csv.writer(file , delimiter=',' )\n",
    "contenido.writerow(content)\n",
    "file.close()"
   ]
  },
  {
   "cell_type": "markdown",
   "id": "6dd6cdbc",
   "metadata": {},
   "source": [
    "## Archivos JavaScript Object Notation - $json$\n"
   ]
  },
  {
   "cell_type": "markdown",
   "id": "53853fb1",
   "metadata": {},
   "source": [
    "#### Método de lectura de json $load()$"
   ]
  },
  {
   "cell_type": "code",
   "execution_count": 45,
   "id": "2c7919bf",
   "metadata": {},
   "outputs": [
    {
     "name": "stdout",
     "output_type": "stream",
     "text": [
      "[{'name': 'Pedro Pablo', 'lastname': 'Pérez Perea', 'age': 39, 'sex': 'M', 'eps': 'Sura'}, {'name': 'Magdalena', 'lastname': 'Mejía Preciado', 'age': 47, 'sex': 'F', 'eps': 'Coomeva'}, {'name': 'Gloria Marcela', 'lastname': 'Loaiza Lopera', 'age': 29, 'sex': 'F', 'eps': 'Salud Capital'}, {'name': 'Juan Fernando', 'lastname': 'Caicedo Macías', 'age': 25, 'sex': 'M', 'eps': 'Sura'}, {'name': 'Maria Cecilia', 'lastname': 'Vásquez Ramírez', 'age': 63, 'sex': 'F', 'eps': 'SISBEN'}, {'name': 'Ana María', 'lastname': 'Sánchez Mendez', 'age': 19, 'sex': 'F', 'eps': 'Salud Total'}, {'name': 'John Alejandro', 'lastname': 'Pulgarín Rojas', 'age': 22, 'sex': 'M', 'eps': 'SISBEN'}]\n"
     ]
    }
   ],
   "source": [
    "## Se debe importar y usar el módulo json\n",
    "import json\n",
    "\n",
    "file = open('archivo_json.json' , encoding='utf8')\n",
    "data = json.load(file)\n",
    "print(data)"
   ]
  },
  {
   "cell_type": "code",
   "execution_count": 48,
   "id": "2357662c",
   "metadata": {},
   "outputs": [
    {
     "name": "stdout",
     "output_type": "stream",
     "text": [
      "{'name': 'Pedro Pablo', 'lastname': 'Pérez Perea', 'age': 39, 'sex': 'M', 'eps': 'Sura'}\n",
      "{'name': 'Magdalena', 'lastname': 'Mejía Preciado', 'age': 47, 'sex': 'F', 'eps': 'Coomeva'}\n",
      "{'name': 'Gloria Marcela', 'lastname': 'Loaiza Lopera', 'age': 29, 'sex': 'F', 'eps': 'Salud Capital'}\n",
      "{'name': 'Juan Fernando', 'lastname': 'Caicedo Macías', 'age': 25, 'sex': 'M', 'eps': 'Sura'}\n",
      "{'name': 'Maria Cecilia', 'lastname': 'Vásquez Ramírez', 'age': 63, 'sex': 'F', 'eps': 'SISBEN'}\n",
      "{'name': 'Ana María', 'lastname': 'Sánchez Mendez', 'age': 19, 'sex': 'F', 'eps': 'Salud Total'}\n",
      "{'name': 'John Alejandro', 'lastname': 'Pulgarín Rojas', 'age': 22, 'sex': 'M', 'eps': 'SISBEN'}\n"
     ]
    }
   ],
   "source": [
    "file = open('archivo_json.json' , encoding='utf8')\n",
    "data = json.load(file)\n",
    "for patient in data:\n",
    "    print(patient)"
   ]
  },
  {
   "cell_type": "code",
   "execution_count": 50,
   "id": "0791d493",
   "metadata": {
    "scrolled": true
   },
   "outputs": [
    {
     "data": {
      "text/plain": [
       "['[\\n',\n",
       " '\\t{\\n',\n",
       " '\\t\\t\"name\" : \"Pedro Pablo\",\\n',\n",
       " '\\t\\t\"lastname\" : \"Pérez Perea\",\\n',\n",
       " '\\t\\t\"age\" : 39,\\n',\n",
       " '\\t\\t\"sex\" : \"M\",\\n',\n",
       " '\\t\\t\"eps\" : \"Sura\"\\n',\n",
       " '\\t},\\n',\n",
       " '\\t{\\n',\n",
       " '\\t\\t\"name\" : \"Magdalena\",\\n',\n",
       " '\\t\\t\"lastname\" : \"Mejía Preciado\",\\n',\n",
       " '\\t\\t\"age\" : 47,\\n',\n",
       " '\\t\\t\"sex\" : \"F\",\\n',\n",
       " '\\t\\t\"eps\" : \"Coomeva\"\\n',\n",
       " '\\t},\\n',\n",
       " '\\t{\\n',\n",
       " '\\t\\t\"name\" : \"Gloria Marcela\",\\n',\n",
       " '\\t\\t\"lastname\" : \"Loaiza Lopera\",\\n',\n",
       " '\\t\\t\"age\" : 29,\\n',\n",
       " '\\t\\t\"sex\" : \"F\",\\n',\n",
       " '\\t\\t\"eps\" : \"Salud Capital\"\\n',\n",
       " '\\t},\\n',\n",
       " '\\t{\\n',\n",
       " '\\t\\t\"name\" : \"Juan Fernando\",\\n',\n",
       " '\\t\\t\"lastname\" : \"Caicedo Macías\",\\n',\n",
       " '\\t\\t\"age\" : 25,\\n',\n",
       " '\\t\\t\"sex\" : \"M\",\\n',\n",
       " '\\t\\t\"eps\" : \"Sura\"\\n',\n",
       " '\\t},\\n',\n",
       " '\\t{\\n',\n",
       " '\\t\\t\"name\" : \"Maria Cecilia\",\\n',\n",
       " '\\t\\t\"lastname\" : \"Vásquez Ramírez\",\\n',\n",
       " '\\t\\t\"age\" : 63,\\n',\n",
       " '\\t\\t\"sex\" : \"F\",\\n',\n",
       " '\\t\\t\"eps\" : \"SISBEN\"\\n',\n",
       " '\\t},\\n',\n",
       " '\\t{\\n',\n",
       " '\\t\\t\"name\" : \"Ana María\",\\n',\n",
       " '\\t\\t\"lastname\" : \"Sánchez Mendez\",\\n',\n",
       " '\\t\\t\"age\" : 19,\\n',\n",
       " '\\t\\t\"sex\" : \"F\",\\n',\n",
       " '\\t\\t\"eps\" : \"Salud Total\"\\n',\n",
       " '\\t},\\n',\n",
       " '\\t{\\n',\n",
       " '\\t\\t\"name\" : \"John Alejandro\",\\n',\n",
       " '\\t\\t\"lastname\" : \"Pulgarín Rojas\",\\n',\n",
       " '\\t\\t\"age\" : 22,\\n',\n",
       " '\\t\\t\"sex\" : \"M\",\\n',\n",
       " '\\t\\t\"eps\" : \"SISBEN\"\\n',\n",
       " '\\t}\\n',\n",
       " '\\t\\n',\n",
       " ']']"
      ]
     },
     "execution_count": 50,
     "metadata": {},
     "output_type": "execute_result"
    }
   ],
   "source": [
    "file = open('archivo_json.json' , encoding='utf8')\n",
    "data = file.readlines()\n",
    "data"
   ]
  },
  {
   "cell_type": "markdown",
   "id": "c36e1695",
   "metadata": {},
   "source": [
    "#### Método de escritura de json $dump()$"
   ]
  },
  {
   "cell_type": "code",
   "execution_count": null,
   "id": "585ee495",
   "metadata": {},
   "outputs": [],
   "source": [
    "## USANDO EL MODO \"W\"\n",
    "data = {}\n",
    "data['71369852'] = {\n",
    "    'nombre': 'Carlos Andrés',\n",
    "    'apellidos': 'Gutierrez Medina',\n",
    "    'edad': 27}\n",
    "\n",
    "with open('data.json', mode='w' , encoding='utf8') as file:\n",
    "    json.dump(data, file, indent=4 , ensure_ascii= False)"
   ]
  },
  {
   "cell_type": "code",
   "execution_count": null,
   "id": "fefb7945",
   "metadata": {},
   "outputs": [],
   "source": [
    "## USANDO EL MODO \"A\"\n",
    "data.clear()\n",
    "data['1025369874'] = {\n",
    "    'nombre': 'Nancy Cecilia',\n",
    "    'apellidos': 'Cortes Ramos',\n",
    "    'edad': 36}\n",
    "\n",
    "file = open('archivo_json.json' , encoding='utf8')\n",
    "data = json.load(file)\n",
    "\n",
    "with open('data.json', 'a', encoding='utf8') as file:\n",
    "    json.dump(data, file, indent=4 , ensure_ascii= False)"
   ]
  },
  {
   "cell_type": "markdown",
   "id": "b8c6cd8f",
   "metadata": {},
   "source": [
    "## Leer varios archivos de una carpeta"
   ]
  },
  {
   "cell_type": "code",
   "execution_count": null,
   "id": "8662f9b3",
   "metadata": {},
   "outputs": [],
   "source": [
    "import os\n",
    "\n",
    "files = os.listdir('activos')\n",
    "files"
   ]
  },
  {
   "cell_type": "markdown",
   "id": "ea871b7e",
   "metadata": {},
   "source": [
    "# Ejercicio de clase\n",
    "\n",
    "Obtener la información de los archivos de activos que están almacenados en la carpeta <b>activos</b>, extraer la información y almacenarla en un solo archivo <b>csv</b>, donde los encabezados sean los mismo."
   ]
  }
 ],
 "metadata": {
  "kernelspec": {
   "display_name": "Python 3",
   "language": "python",
   "name": "python3"
  },
  "language_info": {
   "codemirror_mode": {
    "name": "ipython",
    "version": 3
   },
   "file_extension": ".py",
   "mimetype": "text/x-python",
   "name": "python",
   "nbconvert_exporter": "python",
   "pygments_lexer": "ipython3",
   "version": "3.10.9"
  }
 },
 "nbformat": 4,
 "nbformat_minor": 5
}
