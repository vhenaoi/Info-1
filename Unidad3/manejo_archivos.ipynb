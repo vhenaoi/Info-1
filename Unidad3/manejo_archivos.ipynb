{
 "cells": [
  {
   "attachments": {},
   "cell_type": "markdown",
   "metadata": {},
   "source": [
    "# MANEJO DE ARCHIVOS"
   ]
  },
  {
   "attachments": {},
   "cell_type": "markdown",
   "metadata": {},
   "source": [
    "En todas las opciones de archivos vistos, se usa el método $open(\"nombre\\_archivo\" , \"modo\" , \"codificación\")$\n",
    "#### Modos de apertura de los archivos\n",
    "\n",
    "##### 1. Lectura : \"r\" (Valor por defecto)\n",
    "##### 2. Escritura : \"w\" \n",
    "##### 3. Agregar o anexar : \"a\"\n",
    "\n",
    "\n",
    "Este método $open()$ retornan la metadata del archivo para $leer$ su contenido o $escribir$ algún contenido en este."
   ]
  },
  {
   "cell_type": "code",
   "execution_count": 2,
   "metadata": {},
   "outputs": [],
   "source": [
    "file = open(\"archivo_python.txt\",\"w\")\n",
    "# Hacer algo con el archivo\n",
    "file.close()\n",
    "with open(\"archivo_python.txt\",\"w\") as file:\n",
    "    file.write(\"Hola Mundo\")"
   ]
  },
  {
   "cell_type": "code",
   "execution_count": 3,
   "metadata": {},
   "outputs": [
    {
     "name": "stdout",
     "output_type": "stream",
     "text": [
      "Hola Mundo\n"
     ]
    }
   ],
   "source": [
    "archivo = open(\"archivo_python.txt\",\"r\")\n",
    "contenido = archivo.read()\n",
    "print (contenido)\n",
    "archivo.close()"
   ]
  },
  {
   "cell_type": "code",
   "execution_count": 4,
   "metadata": {},
   "outputs": [
    {
     "name": "stdout",
     "output_type": "stream",
     "text": [
      "Hola Mundo\n",
      "Re-leyendo\n",
      "\n",
      "Fin de programa\n"
     ]
    }
   ],
   "source": [
    "archivo = open(\"archivo_python.txt\",\"r\")\n",
    "contenido1=archivo.read()\n",
    "contenido2=archivo.read()\n",
    "print (contenido1)\n",
    "print (\"Re-leyendo\")\n",
    "print (contenido2)\n",
    "print (\"Fin de programa\")\n",
    "archivo.close()"
   ]
  },
  {
   "cell_type": "code",
   "execution_count": 7,
   "metadata": {},
   "outputs": [
    {
     "name": "stdout",
     "output_type": "stream",
     "text": [
      "\n"
     ]
    }
   ],
   "source": [
    "print (contenido2)"
   ]
  },
  {
   "cell_type": "code",
   "execution_count": 8,
   "metadata": {},
   "outputs": [
    {
     "name": "stdout",
     "output_type": "stream",
     "text": [
      "['Hola Mundo']\n"
     ]
    }
   ],
   "source": [
    "archivo = open(\"archivo_python.txt\",\"r\")\n",
    "print (archivo.readlines())\n",
    "archivo.close()\n"
   ]
  },
  {
   "cell_type": "code",
   "execution_count": 12,
   "metadata": {},
   "outputs": [
    {
     "name": "stdout",
     "output_type": "stream",
     "text": [
      "Hola Mundo\n",
      "10\n"
     ]
    }
   ],
   "source": [
    "archivo=open(\"archivo_python.txt\",\"r\")\n",
    "cadena=archivo.read()\n",
    "print(cadena)\n",
    "print(len(cadena))\n",
    "archivo.close()"
   ]
  },
  {
   "cell_type": "code",
   "execution_count": 17,
   "metadata": {},
   "outputs": [
    {
     "name": "stdout",
     "output_type": "stream",
     "text": [
      "Hola Mundo\n"
     ]
    }
   ],
   "source": [
    "archivo = open(\"archivo_python.txt\",\"r\")\n",
    "lineas = archivo.readlines()\n",
    "for linea in lineas:\n",
    " print (linea)\n",
    "archivo.close()"
   ]
  },
  {
   "cell_type": "code",
   "execution_count": 18,
   "metadata": {},
   "outputs": [
    {
     "name": "stdout",
     "output_type": "stream",
     "text": [
      "Contenido nuevo\n"
     ]
    }
   ],
   "source": [
    "archivo = open(\"archivo_python2.txt\",\"w\")\n",
    "archivo.write(\"Contenido nuevo\")\n",
    "archivo.close()\n",
    "archivo = open(\"archivo_python2.txt\",\"r\")\n",
    "print(archivo.read())\n",
    "archivo.close() "
   ]
  },
  {
   "cell_type": "code",
   "execution_count": 21,
   "metadata": {},
   "outputs": [
    {
     "name": "stdout",
     "output_type": "stream",
     "text": [
      "---Lectura inicial del contenido del archivo---\n",
      "Texto nuevo para el contenido\n",
      "Fin de lectura\n",
      "\n",
      "--- Lectura con el nuevo contenido del archivo---\n",
      "Texto nuevo para el contenido\n",
      "Fin de lectura\n"
     ]
    }
   ],
   "source": [
    "archivo = open(\"archivo_python.txt\",\"r\")\n",
    "print (\"---Lectura inicial del contenido del archivo---\")\n",
    "print (archivo.read())\n",
    "print (\"Fin de lectura\\n\")\n",
    "archivo.close()\n",
    "archivo = open(\"archivo_python.txt\",\"w\")\n",
    "archivo.write(\"Texto nuevo para el contenido\")\n",
    "archivo.close()\n",
    "archivo = open(\"archivo_python.txt\",\"r\")\n",
    "print (\"--- Lectura con el nuevo contenido del archivo---\")\n",
    "print (archivo.read())\n",
    "print (\"Fin de lectura\")\n",
    "archivo.close()"
   ]
  },
  {
   "cell_type": "code",
   "execution_count": 22,
   "metadata": {},
   "outputs": [
    {
     "name": "stdout",
     "output_type": "stream",
     "text": [
      "Hola Mundo!\n"
     ]
    }
   ],
   "source": [
    "msg = \"Hola Mundo!\"\n",
    "archivo = open(\"archivo_python.txt\",\"w\")\n",
    "archivo.write(msg)\n",
    "archivo.close()\n",
    "archivo = open(\"archivo_python.txt\",\"r\")\n",
    "print (archivo.read())\n",
    "archivo.close()"
   ]
  },
  {
   "attachments": {},
   "cell_type": "markdown",
   "metadata": {},
   "source": [
    "## Actividad"
   ]
  },
  {
   "cell_type": "code",
   "execution_count": 67,
   "metadata": {},
   "outputs": [
    {
     "name": "stdout",
     "output_type": "stream",
     "text": [
      "Hola soy Veronica, mucho gusto\n"
     ]
    }
   ],
   "source": [
    "# Punto 1\n",
    "actividad = open(\"actividad.txt\",\"r\")\n",
    "print(actividad.read())\n",
    "actividad.close()"
   ]
  },
  {
   "cell_type": "code",
   "execution_count": 68,
   "metadata": {},
   "outputs": [],
   "source": [
    "# Punto 2\n",
    "actividad = open(\"actividad.txt\",\"w\")\n",
    "actividad.write(\"Hola soy Veronica\")\n",
    "actividad.close()\n"
   ]
  },
  {
   "cell_type": "code",
   "execution_count": 69,
   "metadata": {},
   "outputs": [
    {
     "name": "stdout",
     "output_type": "stream",
     "text": [
      "Hola soy Veronica\n"
     ]
    }
   ],
   "source": [
    "actividad = open(\"actividad.txt\",\"r\")\n",
    "print(actividad.read())\n",
    "actividad.close()"
   ]
  },
  {
   "cell_type": "code",
   "execution_count": 70,
   "metadata": {},
   "outputs": [],
   "source": [
    "# Punto 3\n",
    "actividad = open(\"actividad.txt\",\"a\")\n",
    "actividad.write(\", mucho gusto\")\n",
    "actividad.close()"
   ]
  },
  {
   "cell_type": "code",
   "execution_count": 71,
   "metadata": {},
   "outputs": [
    {
     "name": "stdout",
     "output_type": "stream",
     "text": [
      "Hola soy Veronica, mucho gusto\n"
     ]
    }
   ],
   "source": [
    "actividad = open(\"actividad.txt\",\"r\")\n",
    "print(actividad.read())\n",
    "actividad.close()"
   ]
  },
  {
   "cell_type": "code",
   "execution_count": 72,
   "metadata": {},
   "outputs": [],
   "source": [
    "# Punto 4\n",
    "actividad = open(\"nuevaactividad.txt\",\"a\")\n",
    "actividad.write(\"Hola soy nuevo\")\n",
    "actividad.close()"
   ]
  },
  {
   "cell_type": "code",
   "execution_count": null,
   "metadata": {},
   "outputs": [],
   "source": [
    "r\"E:\\Academico\\Universidad\\Cursos\\Repositorios\\Info-1\\Unidad3\\archivo_python.txt\"\n",
    "r\"Info-1\\Unidad3\\actividad.txt\""
   ]
  }
 ],
 "metadata": {
  "kernelspec": {
   "display_name": "Python 3",
   "language": "python",
   "name": "python3"
  },
  "language_info": {
   "codemirror_mode": {
    "name": "ipython",
    "version": 3
   },
   "file_extension": ".py",
   "mimetype": "text/x-python",
   "name": "python",
   "nbconvert_exporter": "python",
   "pygments_lexer": "ipython3",
   "version": "3.9.13"
  },
  "orig_nbformat": 4
 },
 "nbformat": 4,
 "nbformat_minor": 2
}
