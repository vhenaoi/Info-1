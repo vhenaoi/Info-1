{
 "cells": [
  {
   "attachments": {},
   "cell_type": "markdown",
   "metadata": {},
   "source": [
    "# Ejercicios"
   ]
  },
  {
   "attachments": {},
   "cell_type": "markdown",
   "metadata": {},
   "source": [
    "1. Definir los parámetros necesarios para calcular el área  y  perímetro de un cuadrado, rectángulo y círculo. Imprimir el resultado del área y perímetro de cada uno. "
   ]
  },
  {
   "cell_type": "code",
   "execution_count": 4,
   "metadata": {},
   "outputs": [
    {
     "name": "stdout",
     "output_type": "stream",
     "text": [
      "El area del cuadrado es de 4 y su perimetro es de 8\n"
     ]
    }
   ],
   "source": [
    "#Cuadrado\n",
    "\n",
    "# Entradas\n",
    "l = int(input('Ingrese la longitud del lado del cuadrado: '))\n",
    "\n",
    "# Operaciones\n",
    "area = str(l**2)\n",
    "perimetro =str( 4*l)\n",
    "\n",
    "# Salidas\n",
    "print('El area del cuadrado es de '+ area + \" y su perimetro es de \" + perimetro)"
   ]
  },
  {
   "cell_type": "code",
   "execution_count": 5,
   "metadata": {},
   "outputs": [
    {
     "name": "stdout",
     "output_type": "stream",
     "text": [
      "El area del cuadrado es de 4 y su perimetro es de 8\n"
     ]
    }
   ],
   "source": [
    "l = int(input('Ingrese la longitud del lado del cuadrado: '))\n",
    "\n",
    "area = l**2\n",
    "perimetro = 4*l\n",
    "\n",
    "print('El area del cuadrado es de %s y su perimetro es de %s' % (area,perimetro))"
   ]
  },
  {
   "cell_type": "code",
   "execution_count": 9,
   "metadata": {},
   "outputs": [
    {
     "name": "stdout",
     "output_type": "stream",
     "text": [
      "El area del rectangulo es 6 y el permitero es 10\n"
     ]
    }
   ],
   "source": [
    "# Rectangulo\n",
    "\n",
    "#Entradas\n",
    "\n",
    "largo = int(input('Ingrese el largo del rectangulo: '))\n",
    "ancho = int(input('Ingrese el ancho del rectangulo: '))\n",
    "\n",
    "#Operaciones\n",
    "\n",
    "area = largo*ancho\n",
    "perimetro = 2*largo + 2*ancho\n",
    "\n",
    "#Salidad\n",
    "\n",
    "print(f'El area del rectangulo es {area} y el permitero es {perimetro}')"
   ]
  },
  {
   "cell_type": "code",
   "execution_count": 30,
   "metadata": {},
   "outputs": [
    {
     "name": "stdout",
     "output_type": "stream",
     "text": [
      "El area del circulo es 28.27 y el perimetro es 18.85\n",
      "El area del circulo es 28.27 y el perimetro es 18.85\n"
     ]
    }
   ],
   "source": [
    "# Circulo\n",
    "import numpy as np\n",
    "\n",
    "#Entradas\n",
    "radio = int(input('Ingrese el radio del circulo: '))\n",
    "pi = np.pi\n",
    "\n",
    "#Operaciones\n",
    "area =  pi*(radio**2)\n",
    "perimetro = 2*pi*radio\n",
    "\n",
    "#Salidad\n",
    "print('El area del circulo es {1:.2f} y el perimetro es {0:.2f}'.format(perimetro,area))\n",
    "print('El area del circulo es %.2f y el perimetro es %.2f' % (area,perimetro))"
   ]
  },
  {
   "attachments": {},
   "cell_type": "markdown",
   "metadata": {},
   "source": [
    "2. Calcular el sueldo de un empleado basándose en la cantidad de horas que trabaja y el valor de cada hora que trabaja.  "
   ]
  },
  {
   "cell_type": "code",
   "execution_count": 13,
   "metadata": {},
   "outputs": [
    {
     "name": "stdout",
     "output_type": "stream",
     "text": [
      "El empleado gana 960000 pesos por 48 horas de trabajo\n"
     ]
    }
   ],
   "source": [
    "#Entradas\n",
    "\n",
    "horas = int(input('Ingrese el número de horas que trabajó: '))\n",
    "valor = int(input('Ingrese el valor pagado por hora: '))\n",
    "\n",
    "#Operaciones\n",
    "sueldo = horas*valor\n",
    "\n",
    "#Salida\n",
    "print('El empleado gana %d pesos por %d horas de trabajo' % (sueldo,horas))\n"
   ]
  },
  {
   "attachments": {},
   "cell_type": "markdown",
   "metadata": {},
   "source": [
    "2.1 Luego diseñe un algoritmo que permita cuantificar el valor del salario si se incrementa un 10%, 15% y 32%."
   ]
  },
  {
   "cell_type": "code",
   "execution_count": 16,
   "metadata": {},
   "outputs": [
    {
     "name": "stdout",
     "output_type": "stream",
     "text": [
      "El empleado gana 440000 pesos por 80 horas de trabajo, con un incremento del 10%\n"
     ]
    }
   ],
   "source": [
    "horas = int(input('Ingrese el número de horas que trabajó: '))\n",
    "valor = int(input('Ingrese el valor pagado por hora: '))\n",
    "incremento=int(input(\"Ingrese el porcentaje de incremento: \"))\n",
    "\n",
    "#Operaciones\n",
    "sueldo = horas*valor\n",
    "sueldoincrementado= sueldo+(sueldo/100*incremento)\n",
    "print('El empleado gana %d pesos por %d horas de trabajo, con un incremento del %d%%' % (sueldoincrementado,horas,incremento))"
   ]
  },
  {
   "attachments": {},
   "cell_type": "markdown",
   "metadata": {},
   "source": [
    "3. Escribir un programa que cargue 4 números, sumarlos y calcular su promedio. Nota: los números de tipo flotante, solo admite dos decimales"
   ]
  },
  {
   "cell_type": "code",
   "execution_count": 21,
   "metadata": {},
   "outputs": [
    {
     "name": "stdout",
     "output_type": "stream",
     "text": [
      "Suma: 45.10\n",
      "Promedio: 11.28\n"
     ]
    }
   ],
   "source": [
    "num1 = float(input(\"Ingrese el número 1: \"))\n",
    "num2 = float(input(\"Ingrese el número 2: \"))\n",
    "num3 = float(input(\"Ingrese el número 3: \"))\n",
    "num4 = float(input(\"Ingrese el número 4: \"))\n",
    "sum = num1 + num2 + num3 + num4\n",
    "\n",
    "print(\"Suma: %.2f\" % sum)\n",
    "sum /= 4\n",
    "print(\"Promedio: %.2f\" % sum)\n"
   ]
  },
  {
   "attachments": {},
   "cell_type": "markdown",
   "metadata": {},
   "source": [
    "4. Una persona promedio por cada paso avanza 45 centímetros. Dado el número de pasos, determinar cuántos kilómetros, metros y centímetros avanza una persona."
   ]
  },
  {
   "cell_type": "code",
   "execution_count": 23,
   "metadata": {},
   "outputs": [
    {
     "name": "stdout",
     "output_type": "stream",
     "text": [
      "Distancia en metros 4.5m\n",
      "Distancia en kilometros 0.0045km\n"
     ]
    }
   ],
   "source": [
    "#entradas\n",
    "\n",
    "pasos = int(input('Ingrese el número de pasos dados'))\n",
    "cm = int(45)\n",
    "\n",
    "#operación\n",
    "\n",
    "distancia = pasos*cm\n",
    "distancia/= 100\n",
    "print('Distancia en metros ' + str(distancia)+'m')\n",
    "\n",
    "distancia/= 1000\n",
    "print('Distancia en kilometros ' + str(distancia)+'km')\n",
    "\n",
    "\n",
    "\n",
    "\n",
    "\n",
    "\n",
    "\n",
    "\n",
    "\n"
   ]
  }
 ],
 "metadata": {
  "kernelspec": {
   "display_name": "Python 3",
   "language": "python",
   "name": "python3"
  },
  "language_info": {
   "codemirror_mode": {
    "name": "ipython",
    "version": 3
   },
   "file_extension": ".py",
   "mimetype": "text/x-python",
   "name": "python",
   "nbconvert_exporter": "python",
   "pygments_lexer": "ipython3",
   "version": "3.9.13"
  },
  "orig_nbformat": 4,
  "vscode": {
   "interpreter": {
    "hash": "24b34aafbd53adba058252c385dd0e7e3899fe22cfe46aa7b7cf3b02665efd00"
   }
  }
 },
 "nbformat": 4,
 "nbformat_minor": 2
}
