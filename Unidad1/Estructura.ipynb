{
 "cells": [
  {
   "attachments": {},
   "cell_type": "markdown",
   "metadata": {},
   "source": [
    "1. Definir los parámetros necesarios para calcular el área  y  perímetro de un cuadrado, rectángulo y círculo. Imprimir el resultado del área y perímetro de cada uno. "
   ]
  },
  {
   "cell_type": "code",
   "execution_count": 2,
   "metadata": {},
   "outputs": [],
   "source": [
    "import numpy as np"
   ]
  },
  {
   "cell_type": "code",
   "execution_count": 12,
   "metadata": {},
   "outputs": [
    {
     "name": "stdout",
     "output_type": "stream",
     "text": [
      "El área del circulo es: 12.57 y el perímetro es: 12.57\n"
     ]
    }
   ],
   "source": [
    "#Circulo\n",
    "\n",
    "#Área y Perímetro\n",
    "pi = np.pi\n",
    "r = int(input('Para conocer el área y el perímetro, ingrese el radio del circulo: '))\n",
    "a = pi*(r**2)\n",
    "p = 2*pi*r\n",
    "print('El área del circulo es: %.2f y el perímetro es: %.2f' % (a,p))\n"
   ]
  },
  {
   "cell_type": "code",
   "execution_count": 8,
   "metadata": {},
   "outputs": [
    {
     "name": "stdout",
     "output_type": "stream",
     "text": [
      "El área del cuadrado es: 25.00 y el perímetro es: 20.00\n"
     ]
    }
   ],
   "source": [
    "#Cuadrado\n",
    "\n",
    "#Área y Perímetro\n",
    "l = int(input('Para conocer el área y el perímetro, ingrese la longitud de uno de los lados del cuadrado: '))\n",
    "a = l**2\n",
    "p = l*4\n",
    "print('El área del cuadrado es: %.2f y el perímetro es: %.2f' % (a,p))"
   ]
  },
  {
   "cell_type": "code",
   "execution_count": 9,
   "metadata": {},
   "outputs": [
    {
     "name": "stdout",
     "output_type": "stream",
     "text": [
      "El área del cuadrado es: 30.00 y el perímetro es: 22.00\n"
     ]
    }
   ],
   "source": [
    "#Rectangulo\n",
    "\n",
    "#Área y Perímetro\n",
    "l1 = int(input('Para conocer el área y el perímetro, ingrese la longitud del ancho del rectangulo: '))\n",
    "l2 = int(input('Para conocer el área y el perímetro, ingrese la longitud del largo del rectangulo: '))\n",
    "a = l1*l2\n",
    "p = 2*l1 + 2*l2\n",
    "print('El área del cuadrado es: %.2f y el perímetro es: %.2f' % (a,p))\n"
   ]
  },
  {
   "attachments": {},
   "cell_type": "markdown",
   "metadata": {},
   "source": [
    "2. Calcular el sueldo de un empleado basándose en la cantidad de horas que trabaja y el valor de cada hora que trabaja. Luego diseñe un algoritmo que permita cuantificar el valor del salario si se incrementa un 10%, 15% y 32%. "
   ]
  },
  {
   "cell_type": "code",
   "execution_count": 11,
   "metadata": {},
   "outputs": [
    {
     "name": "stdout",
     "output_type": "stream",
     "text": [
      "El sueldo de este trabajador es de: 100000\n"
     ]
    }
   ],
   "source": [
    "#Sueldo\n",
    "\n",
    "horas = int(input('Ingrese el número de horas que trabaja: '))\n",
    "valor = int(input('Ingrese el valor que le pagan por horas de trabajo: '))\n",
    "\n",
    "sueldo = horas*valor\n",
    "\n",
    "print('El sueldo del empleado es de: %d pesos' % (sueldo)) "
   ]
  },
  {
   "cell_type": "code",
   "execution_count": 24,
   "metadata": {},
   "outputs": [
    {
     "name": "stdout",
     "output_type": "stream",
     "text": [
      "El sueldo del empleado es de: 960000 pesos\n",
      "El nuevo sueldo del empleado es de: 1104000 pesos, gracias al incremento del 15%, equivalente a 144000 pesos\n"
     ]
    }
   ],
   "source": [
    "#Sueldo\n",
    "\n",
    "horas = int(input('Ingrese el número de horas que trabaja: '))\n",
    "valor = int(input('Ingrese el valor que le pagan por horas de trabajo: '))\n",
    "\n",
    "sueldo = horas*valor\n",
    "\n",
    "print('El sueldo del empleado es de: %d pesos' % (sueldo)) \n",
    "\n",
    "#Incremento\n",
    "porcentaje = int(input('El incremento de este empleado será del: '))\n",
    "incremento = sueldo*(porcentaje/100)\n",
    "sueldo += incremento\n",
    "\n",
    "print('El nuevo sueldo del empleado es de: %d pesos, gracias al incremento del %d%%, equivalente a %d pesos' % (sueldo,porcentaje,incremento)) "
   ]
  },
  {
   "attachments": {},
   "cell_type": "markdown",
   "metadata": {},
   "source": [
    "3. Escribir un programa que cargue 4 números, sumarlos y calcular su promedio. Nota: los números de tipo flotante, solo admite dos decimales.  "
   ]
  },
  {
   "cell_type": "code",
   "execution_count": 27,
   "metadata": {},
   "outputs": [
    {
     "name": "stdout",
     "output_type": "stream",
     "text": [
      "Usted ingreso los números: \n",
      "12.00\n",
      "15.30\n",
      "157.22\n",
      "6.00\n"
     ]
    }
   ],
   "source": [
    "num1 = float(input('Ingrese el número 1: '))\n",
    "num2 = float(input('Ingrese el número 2: '))\n",
    "num3 = float(input('Ingrese el número 3: '))\n",
    "num4 = float(input('Ingrese el número 4: '))\n",
    "\n",
    "print('Usted ingreso los números: \\n%.2f\\n%.2f\\n%.2f\\n%.2f' % (num1,num2,num3,num4))"
   ]
  },
  {
   "attachments": {},
   "cell_type": "markdown",
   "metadata": {},
   "source": [
    "4. Una persona promedio por cada paso avanza 45 centímetros. Dado el número de pasos, determinar cuántos kilómetros, metros y centímetros avanza una persona."
   ]
  },
  {
   "cell_type": "code",
   "execution_count": 31,
   "metadata": {},
   "outputs": [
    {
     "name": "stdout",
     "output_type": "stream",
     "text": [
      "Esta persona avanzó: 450000 centimetros, 4500 metros y 4.50 kilometros\n"
     ]
    }
   ],
   "source": [
    "avanza = 45 #centímetros que avanza\n",
    "pasos = int(input('El número de pasos de esta persona fueron: '))\n",
    "avanza *= pasos\n",
    "cm = avanza\n",
    "m = avanza/100\n",
    "km = m/1000\n",
    "\n",
    "print('Esta persona avanzó: %d centimetros, %d metros y %.2f kilometros' % (cm,m,km))\n"
   ]
  },
  {
   "attachments": {},
   "cell_type": "markdown",
   "metadata": {},
   "source": [
    "5. Diseñe un algoritmo que transforme datos en grados a radianes, y viceversa. "
   ]
  },
  {
   "cell_type": "code",
   "execution_count": 38,
   "metadata": {},
   "outputs": [
    {
     "name": "stdout",
     "output_type": "stream",
     "text": [
      "1 grado es igual a 0.02 radianes\n"
     ]
    }
   ],
   "source": [
    "grados = float(input('Ingrese los grados que quiere convertir en radianes: '))\n",
    "radianes = grados*pi/180\n",
    "\n",
    "if grados != 1:\n",
    "    print('%.2f grados son iguales a %.2f radianes' % (grados,radianes))\n",
    "else:\n",
    "    print('%d grado es igual a %.2f radianes' % (grados,radianes))"
   ]
  },
  {
   "cell_type": "code",
   "execution_count": 39,
   "metadata": {},
   "outputs": [
    {
     "name": "stdout",
     "output_type": "stream",
     "text": [
      "0.02 radianes son iguales a 1.15 grados\n"
     ]
    }
   ],
   "source": [
    "radianes = float(input('Ingrese los radianes que quiere convertir en grados: '))\n",
    "grados = radianes*180/pi\n",
    "\n",
    "if radianes != 1:\n",
    "    print('%.2f radianes son iguales a %.2f grados' % (radianes,grados))\n",
    "else:\n",
    "    print('%.2f radián es igual a %.2f grados' % (radianes,grados))"
   ]
  },
  {
   "attachments": {},
   "cell_type": "markdown",
   "metadata": {},
   "source": [
    "6. Diseñe un algoritmo que permita transformar grados Celsius, a Kelvin y Fahrenheit."
   ]
  },
  {
   "cell_type": "code",
   "execution_count": 42,
   "metadata": {},
   "outputs": [
    {
     "name": "stdout",
     "output_type": "stream",
     "text": [
      "La temperatura de hoy es de 35°C equivalente a 308.15K y 95°F\n"
     ]
    }
   ],
   "source": [
    "celsius = float(input('La temperatura de hoy en celsios es de: '))\n",
    "\n",
    "kelvin = celsius + 273.15\n",
    "fahrenheit = (celsius * 9/5) + 32\n",
    "\n",
    "print('La temperatura de hoy es de %d°C equivalente a %.2fK y %d°F' % (celsius,kelvin,fahrenheit))"
   ]
  },
  {
   "cell_type": "code",
   "execution_count": 43,
   "metadata": {},
   "outputs": [
    {
     "name": "stdout",
     "output_type": "stream",
     "text": [
      "3\n"
     ]
    }
   ],
   "source": [
    "num= 7\n",
    "if num >3:\n",
    "    print(\"3\")\n",
    "    if num < 5: \n",
    "        print(\"7\")\n",
    "        if num == 7 :\n",
    "            print(\"7\")"
   ]
  },
  {
   "cell_type": "code",
   "execution_count": 44,
   "metadata": {},
   "outputs": [
    {
     "name": "stdout",
     "output_type": "stream",
     "text": [
      "else\n"
     ]
    }
   ],
   "source": [
    "if 1+1==2:\n",
    "    if 2*2 < 3: \n",
    "        print(\"if\")\n",
    "    else:\n",
    "            print(\"else\")"
   ]
  }
 ],
 "metadata": {
  "kernelspec": {
   "display_name": "Python 3",
   "language": "python",
   "name": "python3"
  },
  "language_info": {
   "codemirror_mode": {
    "name": "ipython",
    "version": 3
   },
   "file_extension": ".py",
   "mimetype": "text/x-python",
   "name": "python",
   "nbconvert_exporter": "python",
   "pygments_lexer": "ipython3",
   "version": "3.9.13"
  },
  "orig_nbformat": 4,
  "vscode": {
   "interpreter": {
    "hash": "24b34aafbd53adba058252c385dd0e7e3899fe22cfe46aa7b7cf3b02665efd00"
   }
  }
 },
 "nbformat": 4,
 "nbformat_minor": 2
}
