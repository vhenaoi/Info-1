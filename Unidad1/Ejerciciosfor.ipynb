{
 "cells": [
  {
   "attachments": {},
   "cell_type": "markdown",
   "metadata": {},
   "source": [
    "# Ejercicio 1\n",
    "Dados tres números, deducir cuál está en medio:\n",
    "\n",
    "1. Diseño del algoritmo \n",
    "2. Definir las variables  a, b, c y central como numéricas.\n",
    "3. Ingrese los valores de las variables a, b, c y guárdelos en a,b,c respectivamente."
   ]
  },
  {
   "cell_type": "code",
   "execution_count": 4,
   "metadata": {},
   "outputs": [
    {
     "name": "stdout",
     "output_type": "stream",
     "text": [
      "10\n"
     ]
    }
   ],
   "source": [
    "a = int(input('Ingrese el valor de a: '))\n",
    "b = int(input('Ingrese el valor de b: '))\n",
    "c = int(input('Ingrese el valor de c: '))\n",
    "central = 0\n",
    "if (a < b) and (b < c):\n",
    "    central = b   \n",
    "elif (a < c) and (c < b):\n",
    "    central = c  \n",
    "elif (b < a) and (a < c):\n",
    "    central = a  \n",
    "elif (b < c) and (c < a):\n",
    "    central = c  \n",
    "elif (c < a) and (a < b):\n",
    "    central = a  \n",
    "elif (c < b) and (b < a):\n",
    "    central = b\n",
    "print(central)"
   ]
  },
  {
   "attachments": {},
   "cell_type": "markdown",
   "metadata": {},
   "source": [
    "# Ejercicio 2\n",
    "\n",
    "Diseñar un algoritmo para imprimir el resultado de la prueba Hormona Luteinizante (LH). Tome en cuenta las siguientes condiciones para tomar decisiones.\n",
    "\n",
    "\n",
    "* Un resultado normal para una mujer adulta es:\n",
    "    - Antes de la menopausia: 5 a 25 UI/L.\n",
    "    - El nivel llega a ser luego más alto en mujeres después de la menopausia: 14.2 a 52.3 UI/L.\n",
    "    - Los niveles de LH son normalmente bajos durante la infancia.\n",
    "\n",
    "* El resultado normal para los hombres mayores de 18 años de edad está alrededor de 1.8 a 8.6 UI/L."
   ]
  },
  {
   "cell_type": "code",
   "execution_count": 2,
   "metadata": {},
   "outputs": [
    {
     "name": "stdout",
     "output_type": "stream",
     "text": [
      "Resultado fuera de rango, solicitar examen complementario\n"
     ]
    }
   ],
   "source": [
    "lh = float(input(\"Ingrese el valor de Hormona Luteinizante (LH): \"))\n",
    "edad = int(input(\"Ingrese la edad del paciente: \"))\n",
    "sexo = int(input(\"Ingrese el género del paciente. 1- Hombre o 2- Mujer: \"))\n",
    "if sexo == 1:\n",
    "     if edad >= 18:\n",
    "          if lh >= 1.8 and lh <= 8.6:\n",
    "            print(\"Paciente normal\")\n",
    "          else:\n",
    "            print(\"Resultado fuera de rango, solicitar examen complementario.\")\n",
    "elif sexo == 2:\n",
    "    if edad >= 18:\n",
    "        menopausia = input(\"Ingresar 'si' o 'no' si a la mujer le ha llegado la menopausia: \")\n",
    "        if menopausia == \"no\":\n",
    "            if lh >= 5.0 and lh <= 25.0:\n",
    "                    print(\"Paciente normal\")\n",
    "            else:\n",
    "                    print(\"Resultado fuera de rango, solicitar examen complementario\")\n",
    "        elif menopausia == \"si\":\n",
    "            if lh >= 14.2 and lh <= 52.3:\n",
    "                print(\"Paciente normal\")\n",
    "            else:\n",
    "                print(\"Resultado fuera de rango, solicitar examen complementario\")\n",
    "        else:\n",
    "            print('Ingrese unicamente \"si\" o \"no\" en minuscula')\n",
    "    else:\n",
    "        print(\"Los niveles de HL son normalmente bajos durante la infancia.\")\n",
    "else:\n",
    "    print('Ese número no está en las opciones')"
   ]
  },
  {
   "attachments": {},
   "cell_type": "markdown",
   "metadata": {},
   "source": [
    "¿Cómo hago un arreglo cuadrado de 3 x 3 espacios?"
   ]
  },
  {
   "cell_type": "code",
   "execution_count": null,
   "metadata": {},
   "outputs": [],
   "source": [
    "M1 = [[8, 14, -6], [12,7,4], [-11,3,21]]\n",
    "M1"
   ]
  },
  {
   "cell_type": "code",
   "execution_count": 5,
   "metadata": {},
   "outputs": [
    {
     "name": "stdout",
     "output_type": "stream",
     "text": [
      "Mi matriz tiene  3 listas y cada lista tiene internamente 3 elementos\n"
     ]
    }
   ],
   "source": [
    "M=[[None,None,None],[None,None,None],[None,None,None]]\n",
    "print(\"Mi matriz tiene \", len(M),\"listas y cada lista tiene internamente\", len(M[0]), \"elementos\")"
   ]
  },
  {
   "attachments": {},
   "cell_type": "markdown",
   "metadata": {},
   "source": [
    "¿Cómo hago un arreglo cuadrado de 3 x 3 espacios?"
   ]
  },
  {
   "cell_type": "code",
   "execution_count": 6,
   "metadata": {},
   "outputs": [
    {
     "name": "stdout",
     "output_type": "stream",
     "text": [
      "Este espacio no esta vacío, este espacio tiene el contenido de  Hola\n"
     ]
    },
    {
     "data": {
      "text/plain": [
       "[['Hola', None, None], [None, None, None], [None, None, None]]"
      ]
     },
     "execution_count": 6,
     "metadata": {},
     "output_type": "execute_result"
    }
   ],
   "source": [
    "M[0][0]='Hola'\n",
    "\n",
    "if M[0][0]== None:\n",
    "    print(\"Este espacio esta vacío\")\n",
    "else:\n",
    "    print(\"Este espacio no esta vacío, este espacio tiene el contenido de \", M[0][0])\n",
    "M"
   ]
  },
  {
   "cell_type": "code",
   "execution_count": null,
   "metadata": {},
   "outputs": [],
   "source": [
    "numeros = list (range(10))\n",
    "print(numeros)\n",
    "print(numeros[1])"
   ]
  },
  {
   "cell_type": "code",
   "execution_count": null,
   "metadata": {},
   "outputs": [],
   "source": [
    "numeros = list (range(3,8))\n",
    "print(numeros)\n",
    "print (range(20) == range(0,20))\n"
   ]
  },
  {
   "cell_type": "code",
   "execution_count": null,
   "metadata": {},
   "outputs": [],
   "source": [
    "nums = list (range(5,8))\n",
    "print (len(nums))"
   ]
  },
  {
   "attachments": {},
   "cell_type": "markdown",
   "metadata": {},
   "source": [
    "nums = list (range(5,8))\n",
    "print (len(nums))"
   ]
  },
  {
   "cell_type": "code",
   "execution_count": null,
   "metadata": {},
   "outputs": [],
   "source": [
    "numeros = list (range(5,20,2))\n",
    "print(numeros)"
   ]
  },
  {
   "cell_type": "code",
   "execution_count": null,
   "metadata": {},
   "outputs": [],
   "source": [
    "palabras = [\"Hola\",\"Bioingenieros\", \"de la\", \"UdeA\"]\n",
    "cont = 0\n",
    "max_index = len (palabras) - 1\n",
    "while cont <= max_index:\n",
    "        a = palabras[cont]\n",
    "        print (a + \"!\")\n",
    "        cont += 1"
   ]
  },
  {
   "cell_type": "code",
   "execution_count": null,
   "metadata": {},
   "outputs": [],
   "source": [
    "palabras = [\"Hola\",\"Bioingenieros\", \"de la\", \"UdeA\"]\n",
    "for palabra in palabras:\n",
    "    print (palabra + \"!\")"
   ]
  },
  {
   "cell_type": "code",
   "execution_count": null,
   "metadata": {},
   "outputs": [],
   "source": [
    "palabras = [\"Hola\",\"Bioingenieros\", \"de la\", \"UdeA\"]\n",
    "for i,palabra in enumerate(palabras):\n",
    "    print (palabra + \" esta en la posicion \" + str(i))"
   ]
  },
  {
   "cell_type": "code",
   "execution_count": null,
   "metadata": {},
   "outputs": [],
   "source": [
    "for i in range(5):\n",
    "    print (\"Hola mundo!\")\n"
   ]
  },
  {
   "cell_type": "code",
   "execution_count": null,
   "metadata": {},
   "outputs": [],
   "source": [
    "j=0\n",
    "for i in list(range(10)):\n",
    "    if i%3==0:\n",
    "        continue\n",
    "    if i>=8:\n",
    "        break\n",
    "    print(\"i ciclo {i}\".format(i))\n",
    "    j+=1\n",
    "print(\"Fin de programa %d\"%(j))"
   ]
  },
  {
   "attachments": {},
   "cell_type": "markdown",
   "metadata": {},
   "source": [
    "# Ejercicio- HCE\n",
    "\n",
    "Crear una Historia Clínica Electrónica donde se puedan almacenar los datos de \n",
    "Nombre, identificación, edad y EPS de los pacientes.\n",
    "1. Realice este algoritmo utilizando un ciclo for y las sentencias que este utiliza.\n",
    "2. Crear un rango de tamaño 1000, los cuales serán los ciclos del for.\n",
    "3. Almacene la información del paciente utilizando listas anidadas.\n",
    "4. Las listas anidadas deben empezar vacías.\n",
    "5. El algoritmo deberá preguntar al usuario si desea ingresar más pacientes o \n",
    "salir, en caso de salir, deberá imprimir la información almacenada de los \n",
    "pacientes"
   ]
  },
  {
   "cell_type": "code",
   "execution_count": 1,
   "metadata": {},
   "outputs": [
    {
     "name": "stdout",
     "output_type": "stream",
     "text": [
      "Nombre: luisa\n",
      " ID: 123\n",
      " Edad: 24\n",
      " EPS: sura\n",
      "--------------------------\n",
      "Nombre: camila\n",
      " ID: 2\n",
      " Edad: 23\n",
      " EPS: confama\n",
      "--------------------------\n"
     ]
    }
   ],
   "source": [
    "### Requerimiento 4\n",
    "hce=[]\n",
    "paciente=[]\n",
    "\n",
    "for pac in range(1000):\n",
    "    nombre=input(\"Ingrese el nombre del paciente: \")\n",
    "    apellido=input(\"Ingrese el apellido del paciente: \")\n",
    "    id=input(\"Ingrese el ID: \")\n",
    "    edad=input(\"Ingrese la edad: \")\n",
    "    eps=input(\"Ingrese la EPS: \")\n",
    "    # Requerimiento 3\n",
    "    paciente=[nombre, apellido,id, edad, eps]\n",
    "    hce.append(paciente)\n",
    "    x= int(input(\"¿Desea ingresar otro paciente?\\n 1.Si\\n 2. No\"))\n",
    "    if x==1:\n",
    "        continue\n",
    "    else:\n",
    "        break\n",
    "for p in hce:\n",
    "    print(\"Nombre: {}\\n Apellido: {}\\n ID: {}\\n Edad: {}\\n EPS: {}\".format(p[0],p[1],p[2],p[3],p[4]))\n",
    "    print(\"--------------------------\")"
   ]
  }
 ],
 "metadata": {
  "kernelspec": {
   "display_name": "Python 3",
   "language": "python",
   "name": "python3"
  },
  "language_info": {
   "codemirror_mode": {
    "name": "ipython",
    "version": 3
   },
   "file_extension": ".py",
   "mimetype": "text/x-python",
   "name": "python",
   "nbconvert_exporter": "python",
   "pygments_lexer": "ipython3",
   "version": "3.10.9"
  },
  "orig_nbformat": 4,
  "vscode": {
   "interpreter": {
    "hash": "24b34aafbd53adba058252c385dd0e7e3899fe22cfe46aa7b7cf3b02665efd00"
   }
  }
 },
 "nbformat": 4,
 "nbformat_minor": 2
}
