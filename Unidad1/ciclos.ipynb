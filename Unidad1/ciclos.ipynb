{
 "cells": [
  {
   "cell_type": "code",
   "execution_count": 3,
   "metadata": {},
   "outputs": [
    {
     "name": "stdout",
     "output_type": "stream",
     "text": [
      "El valor de A: 1 y el valor de B: 5\n",
      "El valor de A: 2 y el valor de B: 5\n",
      "El valor de A: 3 y el valor de B: 5\n",
      "El valor de A: 4 y el valor de B: 5\n",
      "El valor de A: 5 y el valor de B: 5\n",
      "El valor de A: 6 y el valor de B: 5\n"
     ]
    }
   ],
   "source": [
    "A = 0\n",
    "B = 5\n",
    "while A<=B:\n",
    "    A+=1\n",
    "    print('El valor de A: %s y el valor de B: %s'%(A,B))"
   ]
  },
  {
   "cell_type": "code",
   "execution_count": 4,
   "metadata": {},
   "outputs": [
    {
     "name": "stdout",
     "output_type": "stream",
     "text": [
      "1\n",
      "2\n",
      "3\n",
      "4\n",
      "5\n"
     ]
    }
   ],
   "source": [
    "i = 1\n",
    "while i < 6:\n",
    "    print(i)\n",
    "    i+=1"
   ]
  },
  {
   "cell_type": "code",
   "execution_count": 5,
   "metadata": {},
   "outputs": [
    {
     "name": "stdout",
     "output_type": "stream",
     "text": [
      "1\n",
      "2\n",
      "3\n"
     ]
    }
   ],
   "source": [
    "i = 1\n",
    "while i < 6:\n",
    "    print(i)\n",
    "    if i == 3:\n",
    "        break\n",
    "    i+=1"
   ]
  },
  {
   "cell_type": "code",
   "execution_count": 2,
   "metadata": {},
   "outputs": [
    {
     "name": "stdout",
     "output_type": "stream",
     "text": [
      "1\n",
      "2\n",
      "Vamos en 3\n",
      "4\n",
      "5\n",
      "6\n"
     ]
    }
   ],
   "source": [
    "i = 0\n",
    "while i < 6:\n",
    "    i+=1\n",
    "    if i == 3:\n",
    "        print('Vamos en 3')\n",
    "        continue\n",
    "    print(i)\n",
    "    "
   ]
  },
  {
   "cell_type": "code",
   "execution_count": 3,
   "metadata": {},
   "outputs": [
    {
     "name": "stdout",
     "output_type": "stream",
     "text": [
      "1\n",
      "2\n",
      "3\n",
      "4\n",
      "5\n",
      "6 no es menor que 6\n"
     ]
    }
   ],
   "source": [
    "i = 1\n",
    "while i < 6:\n",
    "    print(i)\n",
    "    i+=1\n",
    "else:    \n",
    "    print('%d no es menor que 6'%i)"
   ]
  },
  {
   "cell_type": "code",
   "execution_count": 4,
   "metadata": {},
   "outputs": [
    {
     "name": "stdout",
     "output_type": "stream",
     "text": [
      "3\n",
      "2\n",
      "1\n",
      "0\n"
     ]
    }
   ],
   "source": [
    "i=3\n",
    "while i>=0:\n",
    "    print(i)\n",
    "    i = i-1"
   ]
  },
  {
   "cell_type": "code",
   "execution_count": 5,
   "metadata": {},
   "outputs": [
    {
     "name": "stdout",
     "output_type": "stream",
     "text": [
      "5\n",
      "4\n",
      "3\n"
     ]
    }
   ],
   "source": [
    "i = 5\n",
    "while True:\n",
    " print(i)\n",
    " i = i -1\n",
    " if i <= 2:\n",
    "  break"
   ]
  },
  {
   "attachments": {},
   "cell_type": "markdown",
   "metadata": {},
   "source": [
    "# Ejercicios"
   ]
  },
  {
   "attachments": {},
   "cell_type": "markdown",
   "metadata": {},
   "source": [
    "1. Realice un algoritmo que permita calcular la multiplicación de dos números enteros solo usando sumas."
   ]
  },
  {
   "cell_type": "code",
   "execution_count": 3,
   "metadata": {},
   "outputs": [
    {
     "name": "stdout",
     "output_type": "stream",
     "text": [
      "PROCESO 0\n",
      "PROCESO 0\n",
      "PROCESO 0\n",
      "PROCESO 0\n",
      "PROCESO 0\n",
      "Valor de producto: 0\n"
     ]
    }
   ],
   "source": [
    "Entero1 = int(input('Ingrese un número entero: '))\n",
    "Entero2 = int(input('Ingrese otro número entero: '))\n",
    "producto = 0\n",
    "repeticiones = 0\n",
    "while repeticiones < Entero1:\n",
    "    producto=producto+Entero2\n",
    "    print ('PROCESO ' + str(producto))\n",
    "    repeticiones+=1\n",
    "print ('Valor de producto: ' +str(producto))"
   ]
  },
  {
   "attachments": {},
   "cell_type": "markdown",
   "metadata": {},
   "source": [
    "2. Desarrollar un algoritmo que escriba en pantalla, uno después del otro, los resultados de la función n^x desde 0 hasta n, con n entero positivo máximo 9 y x positivo máximo de 9."
   ]
  },
  {
   "cell_type": "code",
   "execution_count": 5,
   "metadata": {},
   "outputs": [
    {
     "name": "stdout",
     "output_type": "stream",
     "text": [
      "Recuerde que x y n son números enteros\n",
      "Recuerde que x y n son números enteros\n",
      "Recuerde que x y n son números enteros\n",
      "El resultado de la función n^x es: 81\n"
     ]
    }
   ],
   "source": [
    "while True:\n",
    "    try:\n",
    "        n = int(input('Valor de n, entre 0 y 9: '))\n",
    "        x = int(input('Valor de x, entre 0 y 9: '))\n",
    "    except:\n",
    "        print('Recuerde que x y n son números enteros')\n",
    "        continue\n",
    "        \n",
    "    if n <= 9 and n >= 0 and x <= 9 and x >= 0:\n",
    "        funcion = n**x\n",
    "        print('El resultado de la función n^x es: %d'%funcion)\n",
    "        break\n",
    "    elif n > 9 or n < 0:\n",
    "        print('Ingrese correctamente el valor de n, entre 0 y 9')\n",
    "    elif x > 9 or x < 0:\n",
    "        print('Ingrese correctamente el valor de x, entre 0 y 9')\n",
    "        \n",
    "    "
   ]
  },
  {
   "cell_type": "code",
   "execution_count": 4,
   "metadata": {},
   "outputs": [
    {
     "name": "stdout",
     "output_type": "stream",
     "text": [
      "1\n",
      "2\n",
      "4\n",
      "8\n",
      "16\n"
     ]
    }
   ],
   "source": [
    "n=int(input(\"Ingrese un numero de 0 a 9\"))\n",
    "x=int(input(\"Ingrese un numero de 0 a 9\"))\n",
    "funcion=0\n",
    "while True:\n",
    "    if x<0 or x>9 or n<0 or n>9:\n",
    "        print(\"Ingrese numeros SOLO de 0 a 9\")\n",
    "    else:\n",
    "        while funcion<=x:\n",
    "             print(n**funcion)\n",
    "             funcion+=1\n",
    "    break\n",
    "\n",
    "        \n"
   ]
  },
  {
   "attachments": {},
   "cell_type": "markdown",
   "metadata": {},
   "source": [
    "3. Hacer un algoritmo que encuentre la suma de los números impares comprendidos entre 1 y N."
   ]
  },
  {
   "cell_type": "code",
   "execution_count": 4,
   "metadata": {},
   "outputs": [
    {
     "name": "stdout",
     "output_type": "stream",
     "text": [
      "El resultado de la suma es: 9\n"
     ]
    }
   ],
   "source": [
    "while True:\n",
    "    try:\n",
    "        N = int(input('Ingrese un número: ')) #Verifico que sea un número (Validación por tipo)\n",
    "    except:\n",
    "        print('Recuerde que N debe ser un número')\n",
    "        continue\n",
    "\n",
    "    n= 0   \n",
    "    suma = 0   \n",
    "    while n< N:  \n",
    "        n+=1\n",
    "        if n % 2 == 1: #Verifico que el número sea impar (Validación por valor)\n",
    "            suma+=n\n",
    "            #print(suma,n)\n",
    "            \n",
    "    print('El resultado de la suma es: %d'%suma)\n",
    "    break\n"
   ]
  },
  {
   "attachments": {},
   "cell_type": "markdown",
   "metadata": {},
   "source": [
    "4. Elaborar un algoritmo que encuentre el factorial de un número comprendido entre 0 y 20. En caso de que se cometa un error o se haya terminado de realizar la tarea solicitada, que el programa de la opción de volver a empezar."
   ]
  },
  {
   "cell_type": "code",
   "execution_count": 13,
   "metadata": {},
   "outputs": [
    {
     "name": "stdout",
     "output_type": "stream",
     "text": [
      "Menú:\n",
      "1. Encontrar factorial\n",
      "2. Regresar al menú\n",
      "3. Salir\n",
      "El factorial de 6 es 21\n",
      "Finalizo el programa, puede volver a elegir una opcion del menú\n"
     ]
    }
   ],
   "source": [
    "bandera = 0\n",
    "print('Menú:')\n",
    "print('1. Encontrar factorial')\n",
    "print('2. Regresar al menú')\n",
    "print('3. Salir')\n",
    "while True:\n",
    "    if bandera == 0:\n",
    "        opcion = int(input('Ingrese el número de la ocpion que desea en el menú: '))\n",
    "        if opcion == 1:\n",
    "            try:\n",
    "                numero = int(input('Número del 0 al 20'))\n",
    "            except:\n",
    "                bandera = 0\n",
    "                print('Error, debe volver a elegir una opcion del menú')\n",
    "                continue\n",
    "\n",
    "            if numero <= 20:\n",
    "                num = numero\n",
    "                factorial = num + 1\n",
    "                while numero>=0:\n",
    "                    factorial += contador \n",
    "                    contador = numero - 1\n",
    "                    numero -= 1\n",
    "                print('El factorial de %d es %d'%(num,factorial))\n",
    "                print('Finalizo el programa, puede volver a elegir una opcion del menú')\n",
    "            else:\n",
    "                bandera = 0\n",
    "                print('Error, debe volver a elegir una opcion del menú')\n",
    "            bandera = 0\n",
    "        elif opcion ==2:\n",
    "            bandera = 0\n",
    "        elif opcion ==3:\n",
    "            break\n",
    "        else:\n",
    "            print('Error, debe elegir una opcion del menú')"
   ]
  },
  {
   "attachments": {},
   "cell_type": "markdown",
   "metadata": {},
   "source": [
    "5. Elaborar un algoritmo que calcule el valor de la siguiente sumatoria para n términos:"
   ]
  },
  {
   "cell_type": "code",
   "execution_count": 6,
   "metadata": {},
   "outputs": [
    {
     "name": "stdout",
     "output_type": "stream",
     "text": [
      "0.5\n",
      "0.75\n",
      "0.875\n",
      "El resultado de la sumatoria es: 0.88\n"
     ]
    }
   ],
   "source": [
    "while True:\n",
    "    try:\n",
    "        n = int(input('Número n: '))\n",
    "        a = int(input('Número a: '))\n",
    "    except:\n",
    "        print('Ingrese un número para n y para a')\n",
    "        continue\n",
    "\n",
    "    i=0\n",
    "    sum=0\n",
    "    while i<n:\n",
    "        i += 1\n",
    "        sum += (1/a)**i\n",
    "        #print(sum)\n",
    "    print('El resultado de la sumatoria es: %.2f'%sum)\n",
    "    break"
   ]
  },
  {
   "cell_type": "code",
   "execution_count": 4,
   "metadata": {},
   "outputs": [
    {
     "name": "stdout",
     "output_type": "stream",
     "text": [
      "5 ! =  120\n",
      "5 ! =  120\n"
     ]
    }
   ],
   "source": [
    "#Elaborar un algoritmo que encuentre el factorial de un número comprendido entre 0 y 20. En caso de que se cometa un error o se haya terminado de realizar la tarea solicitada, que el programa de la opción de volver a empezar.\n",
    "while True:\n",
    "    try:\n",
    "        X = int(input(\"Ingrese un valor entre 0 y 20: \"))\n",
    "        if X < 0 or X > 20:\n",
    "            print(\"Error al ingresar el valor\")\n",
    "            continue\n",
    "        else:\n",
    "            factorial = 1\n",
    "            for h in range(1,X+1):\n",
    "                factorial *= h\n",
    "\n",
    "            print(X, \"! = \", factorial)\n",
    "            opcion = str(input(\"¿Quiere determinar otro factorial? (Si/No): \"))\n",
    "            if opcion == \"Si\":\n",
    "                continue\n",
    "            elif opcion == \"No\":\n",
    "                break\n",
    "            else:\n",
    "                print(\"Error\")\n",
    "                break\n",
    "    except ValueError:\n",
    "        print(\"Error al ingresar el valor.\")\n",
    "        continue\n",
    "\n",
    "\n",
    "    "
   ]
  },
  {
   "cell_type": "code",
   "execution_count": null,
   "metadata": {},
   "outputs": [],
   "source": []
  }
 ],
 "metadata": {
  "kernelspec": {
   "display_name": "Python 3",
   "language": "python",
   "name": "python3"
  },
  "language_info": {
   "codemirror_mode": {
    "name": "ipython",
    "version": 3
   },
   "file_extension": ".py",
   "mimetype": "text/x-python",
   "name": "python",
   "nbconvert_exporter": "python",
   "pygments_lexer": "ipython3",
   "version": "3.9.13"
  },
  "orig_nbformat": 4,
  "vscode": {
   "interpreter": {
    "hash": "24b34aafbd53adba058252c385dd0e7e3899fe22cfe46aa7b7cf3b02665efd00"
   }
  }
 },
 "nbformat": 4,
 "nbformat_minor": 2
}
