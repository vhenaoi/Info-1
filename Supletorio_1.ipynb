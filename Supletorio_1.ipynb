{
  "cells": [
    {
      "attachments": {},
      "cell_type": "markdown",
      "metadata": {
        "id": "DQCQFLgIgUSx"
      },
      "source": [
        "\n",
        "<p><img alt=\"udeA logo\" height=\"120px\" src=\"https://github.com/freddyduitama/images/blob/master/logo.png?raw=true\" align=\"left\" hspace=\"10px\" vspace=\"0px\" style=\"width:107px;height:152px;\"></p>\n",
        "\n",
        "# <center> <font color='0B5345'>INFORMATICA I - EVALUACIÓN 1</font> </center>\n",
        "\n"
      ]
    },
    {
      "attachments": {},
      "cell_type": "markdown",
      "metadata": {
        "id": "nWEW6jW0DYeb"
      },
      "source": [
        "Crear una Historia Clínica Electrónica donde se puedan almacenar los datos de Nombre, identificación, edad, peso y EPS de los pacientes.\n",
        "\n",
        "1. Realice este algoritmo utilizando su ciclo de preferencia y las sentencias que este utiliza.\n",
        "2. Almacene la información del paciente utilizando listas anidadas en listas.\n",
        "3. La lista, considerada la base de datos, debe empezar vacía.\n",
        "4. El algoritmo deberá preguntar al usuario si desea ingresar más pacientes, buscar algún paciente, ver cantidad de pacientes, eliminar un paciente o salir.\n",
        "5. Para el caso de buscar el paciente, debe utilizar las funciones in para preguntar si \n",
        "el paciente está en la lista y de ser así, mostrar los datos en pantalla. \n",
        "\n",
        "Condiciones: \n",
        "* Solo se puede salir si el usuario ingresa la opción Salir\n",
        "* No puede utilizar librerías diferentes a las vistas clase\n",
        "* No puede utilizar funciones propias\n",
        "* El nombre y EPS deben ser tipo string, la identificación y la edad tipo entero y el peso tipo flotante.  \n",
        "\n",
        "\n",
        "Recursos:\n",
        "* Puede utilizar las diapositivas y scripts utilizados en el curso.\n",
        "* Puede realizar búsquedas sencillas en internet, pero no se puede tratar de buscar el ejercicio completo en internet.\n",
        "* Si utiliza algo diferente a lo visto en el curso se debe justificar o sustentar en la revisión del examen.\n",
        "\n",
        "Nota: No se permite interactuar con los compañeros de clase o con una persona externa a la clase.\n"
      ]
    },
    {
      "attachments": {},
      "cell_type": "markdown",
      "metadata": {
        "id": "DXSpx62zS9qC"
      },
      "source": [
        "1. (5%) Describa brevemente el diseño del código, especifique cuantos ciclos necesita utilizar y justifique. "
      ]
    },
    {
      "cell_type": "markdown",
      "metadata": {},
      "source": []
    },
    {
      "attachments": {},
      "cell_type": "markdown",
      "metadata": {},
      "source": [
        "2. (5%) Elaboración e impresión del menú"
      ]
    },
    {
      "attachments": {},
      "cell_type": "markdown",
      "metadata": {
        "id": "q3RBgfu5S9qC"
      },
      "source": [
        "3. (5%) Elaboración de las listas anidadas. "
      ]
    },
    {
      "attachments": {},
      "cell_type": "markdown",
      "metadata": {},
      "source": [
        "4. (10%) Almacenar los pacientes"
      ]
    },
    {
      "attachments": {},
      "cell_type": "markdown",
      "metadata": {
        "id": "UZqiwHeAS9qD"
      },
      "source": [
        "5. (10%) Eliminar una paciente en memoria. "
      ]
    },
    {
      "attachments": {},
      "cell_type": "markdown",
      "metadata": {},
      "source": [
        "6. (10%) Ver los pacientes un paciente encontrado"
      ]
    },
    {
      "attachments": {},
      "cell_type": "markdown",
      "metadata": {},
      "source": [
        "7. (10%) Ver el total de pacientes"
      ]
    },
    {
      "attachments": {},
      "cell_type": "markdown",
      "metadata": {
        "id": "I2wCIDCyS9qE"
      },
      "source": [
        "9. (10%) Salir solo al presionar la opción salir"
      ]
    },
    {
      "attachments": {},
      "cell_type": "markdown",
      "metadata": {},
      "source": [
        "10. (20%) Entregar el código funcional sin errores, es decir que se ejecute correctamente"
      ]
    },
    {
      "attachments": {},
      "cell_type": "markdown",
      "metadata": {},
      "source": [
        "11. (15%) Realizar correctamente las validaciones de las variables"
      ]
    }
  ],
  "metadata": {
    "colab": {
      "provenance": []
    },
    "kernelspec": {
      "display_name": "Python 3",
      "name": "python3"
    }
  },
  "nbformat": 4,
  "nbformat_minor": 0
}
