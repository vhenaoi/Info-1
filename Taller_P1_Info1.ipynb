{
  "cells": [
    {
      "cell_type": "markdown",
      "metadata": {
        "id": "CzLTYLb8Cu5W"
      },
      "source": [
        "# Taller parcial 01- Informática 01 2023-01"
      ]
    },
    {
      "attachments": {},
      "cell_type": "markdown",
      "metadata": {
        "id": "ewnI7q_mA8QZ"
      },
      "source": [
        "Desarrolle un algoritmo que permita al usuario seleccionar de un menú, la opción de ingresar un activo de un hospital a un sistema de gestión de inventarios, la persona deberá poder escoger en el menu el área a la que pertenecerá el activo así; (1) Biomédica, (2) Sistemas y (3) Infraestructura y posterior a esto, ingresar los parámetros correspondientes a la Hoja de Vida del equipo. El desarrollo debe cumplir con las\n",
        "siguientes condiciones.\n",
        "\n",
        "1. Permita al usuario seleccionar el área a la que va a pertencer el activo, así: Biomédica\n",
        "(Equipos biomédicos), Sistemas (Equipos de ofimática), Infraestructura (mesas, plantas\n",
        "de energía, etc.).\n",
        "\n",
        "2. Posterior a la selección del área a la que va a pertenecer el activo, debe pedir la información que se relaciona en la tabla siguiente y cumpliendo con la clasificación de\n",
        "tipo de inventario.\n",
        "\n",
        "|IT|Elemento|Tipo de inventario|\n",
        "|-------|--------|-------|\n",
        "|1|Número de activos|Todos|\n",
        "|2|Módelo/Número de catalogo|Todos|\n",
        "|3|Número de serie|Todos|\n",
        "|4|Ubicación física en el centro de atención sanitaria|Todos|\n",
        "|5|Fecha próxima de mantenimiento|Equipos médicos|\n",
        "\n",
        "\n",
        "3. IMPORTANTE: para el caso del Número de indentificación de inventario (Número de Activo), el algoritmo debe poder asignarlo automáticamente de tal forma que cumpla con\n",
        "la siguiente condición: El código debe cumplir con la siguiente estructura **B-2023-0001**,donde **B** es el área a la que pertenece, en este caso, **Biomédica**, para el caso de **Sistemas** la letra será **S** y para los activos de **Infraestructura** será **I**, 2023 es el año en que es ingresado el equipo al inventario y 0001 es el consecutivo. NOTA: Este número de activo **NO** debe ser pedido al usuario y el año debe adicionarse automáticamente también.\n",
        "\n",
        "4. El módelo puede ser alfanúmerico, el número de serie es unicamente númerico, la ubicación física no puede ser númerico, pidale al usuario que ingrese la fecha con el formato DD/MM/AAAA.\n",
        "\n",
        "5. Para los elementos que no tienen fecha de mantenimiento el sistema debe agregar automaticamene 'NaN' y no solicitar la fecha al usuario.\n",
        "\n",
        "6. El algoritmo debe ser diseñado para ingresar **TRES** activos y luego de esto debe pedir al usuario si desea volver a ingresar otro activo o salirse del algoritmo.\n",
        "\n",
        "7. Cuando decida salir, el algoritmo deberá mostrar la información de los activos ingresados.\n",
        "\n",
        "8. Añada el inventario de cada equipo al inventario general del hospital, como se muestra en la siguiente matriz.\n",
        "\n",
        "|Equipo|Área|Número del activo|Modelo|Serie|Ubicación|Calendario|\n",
        "|----|----|----|----|----|----|----|\n",
        "|1|Área|Número del activo|Modelo|Serie|Ubicación|Calendario|\n",
        "|2|Área|Número del activo|Modelo|Serie|Ubicación|Calendario|\n",
        "|3|Área|Número del activo|Modelo|Serie|Ubicación|Calendario|\n"
      ]
    },
    {
      "cell_type": "code",
      "execution_count": 13,
      "metadata": {
        "colab": {
          "base_uri": "https://localhost:8080/"
        },
        "id": "Qu7dJbh85fyv",
        "outputId": "ae9fab0f-7c11-48da-bc1e-6bd20d620c65"
      },
      "outputs": [
        {
          "name": "stdout",
          "output_type": "stream",
          "text": [
            "BIENVENIDOS AL SISTEMA DE GESTIÓN DE INVENTATIOS DEL HOSPITAL ALMA MÁTER DE ANTIOQUIA\n",
            "12/08/2023\n",
            "BIENVENIDOS AL SISTEMA DE GESTIÓN DE INVENTATIOS DEL HOSPITAL ALMA MÁTER DE ANTIOQUIA\n",
            "2\n",
            "Ingrese correctamente los campos solicitados\n",
            "BIENVENIDOS AL SISTEMA DE GESTIÓN DE INVENTATIOS DEL HOSPITAL ALMA MÁTER DE ANTIOQUIA\n",
            "BIENVENIDOS AL SISTEMA DE GESTIÓN DE INVENTATIOS DEL HOSPITAL ALMA MÁTER DE ANTIOQUIA\n"
          ]
        }
      ],
      "source": [
        "import datetime\n",
        "equipos=[]\n",
        "cont_activos=0\n",
        "hora_actual = datetime.datetime.now()\n",
        "ano = str(hora_actual.year)\n",
        "while True:  \n",
        "  print(\"BIENVENIDOS AL SISTEMA DE GESTIÓN DE INVENTATIOS DEL HOSPITAL ALMA MÁTER DE ANTIOQUIA\")\n",
        "  if cont_activos<=3:\n",
        "    menu=int(input('1.Biomédica \\n2.Sistemas \\n3.Infraestructura\\n'))\n",
        "    cont_b=1\n",
        "    cont_s=1\n",
        "    cont_i=1\n",
        "    if menu==1:\n",
        "      area='Biomédica'\n",
        "      cont_activos+=1\n",
        "      num_activo=area[0]+'-'+ano+'-'+str(cont_b).zfill(4)\n",
        "      cont_b+=1\n",
        "    elif menu==2:\n",
        "      area='Sistemas'\n",
        "      cont_activos+=1\n",
        "      num_activo=area[0]+'-'+ano+'-'+str(cont_b).zfill(4)\n",
        "      cont_s+=1\n",
        "    elif menu==3:\n",
        "      area='Infraestructura'\n",
        "      cont_activos+=1\n",
        "      num_activo=area[0]+'-'+ano+'-'+str(cont_b).zfill(4)\n",
        "      cont_i+=1\n",
        "    \n",
        "    try:\n",
        "      modelo=input('Ingrese el modelo del equipo')\n",
        "      serie=int(input('Ingrese la serie del equipo'))\n",
        "      ubicacion=str(input('Ingrese la ubicación del equipo'))\n",
        "      if menu==1:\n",
        "          while True:\n",
        "            calendario=str(input('Ingrese la próxima fecha programada de mantenimiento con el formato DD/MM/AAAA'))\n",
        "            print(calendario)\n",
        "            if (int(calendario[:2]) <= 31 and calendario[2] == '/' and int(calendario[3:5]) <= 12 and calendario[5] == '/' and len(calendario[6:]) == 4) == True:\n",
        "                break\n",
        "            else:\n",
        "                print('Error al ingresar la fecha, vuelva a intentarlo')\n",
        "      else:\n",
        "        calendario = 'NaN'\n",
        "      equipo=[area,num_activo,modelo,serie,ubicacion,calendario]\n",
        "      equipos.append(equipo)\n",
        "      if cont_activos==3:\n",
        "        opt=int(input('1.Ingrese otro activo \\n2.salir\\n'))\n",
        "        if opt==1:\n",
        "          cont_activos-=1\n",
        "        elif opt==2:\n",
        "          break\n",
        "    except:\n",
        "      print(cont_activos)\n",
        "      cont_activos-=1\n",
        "      print('Ingrese correctamente los campos solicitados')\n",
        "\n",
        "\n",
        "\n"
      ]
    },
    {
      "cell_type": "code",
      "execution_count": 14,
      "metadata": {
        "colab": {
          "base_uri": "https://localhost:8080/"
        },
        "id": "bA9ADXymUyh5",
        "outputId": "531b6bf8-c35a-43bc-8c6e-bacde5d708ee"
      },
      "outputs": [
        {
          "name": "stdout",
          "output_type": "stream",
          "text": [
            "+--------------------------------------------------------------------------------------------------------------------------------------------------+\n",
            "\u001b[1m|Equipo              |Área                |Número de activo    |Modelo              |Serie               |Ubicación           |Calendario          |\u001b[0m\n",
            "+--------------------------------------------------------------------------------------------------------------------------------------------------+\n",
            "|                   1|Biomédica           |B-2023-0001         |primero             |                   1|p                   |12/08/2023          |\n",
            "+--------------------------------------------------------------------------------------------------------------------------------------------------+\n",
            "|                   2|Sistemas            |S-2023-0001         |segundo             |                   2|p                   |NaN                 |\n",
            "+--------------------------------------------------------------------------------------------------------------------------------------------------+\n",
            "|                   3|Infraestructura     |I-2023-0001         |tercero             |                   3|p                   |NaN                 |\n",
            "+--------------------------------------------------------------------------------------------------------------------------------------------------+\n"
          ]
        }
      ],
      "source": [
        "print (\"+--------------------------------------------------------------------------------------------------------------------------------------------------+\")\n",
        "print ('\\033[1m' + \"|{:20}|{:20}|{:20}|{:20}|{:20}|{:20}|{:20}|\".format('Equipo','Área','Número de activo','Modelo','Serie','Ubicación','Calendario')+ '\\033[0m')\n",
        "print (\"+--------------------------------------------------------------------------------------------------------------------------------------------------+\")\n",
        "for equipo,columna in enumerate(equipos):\n",
        "    print (\"|{:20}|{:20}|{:20}|{:20}|{:20}|{:20}|{:20}|\".format(equipo+1,columna[0],columna[1],columna[2],columna[3],columna[4],columna[5]))\n",
        "    print (\"+--------------------------------------------------------------------------------------------------------------------------------------------------+\")\n",
        "\n",
        "\n"
      ]
    }
  ],
  "metadata": {
    "colab": {
      "provenance": []
    },
    "kernelspec": {
      "display_name": "Python 3",
      "name": "python3"
    },
    "language_info": {
      "codemirror_mode": {
        "name": "ipython",
        "version": 3
      },
      "file_extension": ".py",
      "mimetype": "text/x-python",
      "name": "python",
      "nbconvert_exporter": "python",
      "pygments_lexer": "ipython3",
      "version": "3.9.13"
    }
  },
  "nbformat": 4,
  "nbformat_minor": 0
}
