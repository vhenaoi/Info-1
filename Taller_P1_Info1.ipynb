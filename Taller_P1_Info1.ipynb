{
  "nbformat": 4,
  "nbformat_minor": 0,
  "metadata": {
    "colab": {
      "provenance": []
    },
    "kernelspec": {
      "name": "python3",
      "display_name": "Python 3"
    },
    "language_info": {
      "name": "python"
    }
  },
  "cells": [
    {
      "cell_type": "markdown",
      "source": [
        "# Taller parcial 01- Informática 01 2023-01"
      ],
      "metadata": {
        "id": "CzLTYLb8Cu5W"
      }
    },
    {
      "cell_type": "markdown",
      "source": [
        "Desarrolle un algoritmo que permita al usuario seleccionar de un menú, la opción de ingresar un activo de un hospital a un sistema de gestión de inventarios, la persona deberá poder escoger en el menu el área a la que pertenecerá el activo así; (1) Biomédica, (2) Sistemas y (3) Infraestructura y posterior a esto, ingresar los parámetros correspondientes a la Hoja de Vida del equipo. El desarrollo debe cumplir con las\n",
        "siguientes condiciones.\n",
        "\n",
        "1. Permita al usuario seleccionar el área a la que va a pertencer el activo, así: Biomédica\n",
        "(Equipos biomédicos), Sistemas (Equipos de ofimática), Infraestructura (mesas, plantas\n",
        "de energía, etc.).\n",
        "\n",
        "2. Posterior a la selección del área a la que va a pertenecer el activo, debe pedir la información que se relaciona en la tabla siguiente y cumpliendo con la clasificación de\n",
        "tipo de inventario.\n",
        "\n",
        "|IT|Elemento|Tipo de inventario|\n",
        "|-------|--------|-------|\n",
        "|1|Número de activos|Todos|\n",
        "|2|Módelo/Número de catalogo|Todos|\n",
        "|3|Número de serie|Todos|\n",
        "|4|Ubicación física en el centro de atención sanitaria|Todos|\n",
        "|5|Fecha próxima de mantenimiento|Equipos médicos y de medición|\n",
        "\n",
        "\n",
        "3. IMPORTANTE: para el caso del Número de indentificación de inventario (Número de Activo), el algoritmo debe poder asignarlo automáticamente de tal forma que cumpla con\n",
        "la siguiente condición: El código debe cumplir con la siguiente estructura **B-2023-0001**,donde **B** es el área a la que pertenece, en este caso, **Biomédica**, para el caso de **Sistemas** la letra será **S** y para los activos de **Infraestructura** será **I**, 2023 es el año en que es\n",
        "ingresado el equipo al inventario y 0001 es el consecutivo. NOTA: Este número de activo **NO** debe ser pedido al usuario y el año debe adicionarse automáticamente también.\n",
        "\n",
        "4. El algoritmo debe ser diseñado para ingresar **TRES** activos y luego de esto debe pedir al usuario si desea volver a ingresar otro activo o salirse del algoritmo.\n",
        "\n",
        "5. Cuando decida salir, el algoritmo deberá mostrar la información de los activos ingresados.\n",
        "\n",
        "6. Añada el inventario de cada equipo al inventario general del hospital, como se muestra en la siguiente matriz.\n",
        "\n",
        "|Equipo 1|area|Número del activo|modelo|serie|ubicacion|calendario|\n",
        "|----|----|----|----|----|----|----|\n",
        "|Equipo 2|area|Número del activo|modelo|serie|ubicacion|calendario|\n",
        "|Equipo 3|area|Número del activo|modelo|serie|ubicacion|calendario|\n",
        "|Equipo n|area|Número del activo|modelo|serie|ubicacion|calendario|\n"
      ],
      "metadata": {
        "id": "ewnI7q_mA8QZ"
      }
    },
    {
      "cell_type": "code",
      "execution_count": 4,
      "metadata": {
        "id": "Qu7dJbh85fyv",
        "colab": {
          "base_uri": "https://localhost:8080/"
        },
        "outputId": "ae9fab0f-7c11-48da-bc1e-6bd20d620c65"
      },
      "outputs": [
        {
          "name": "stdout",
          "output_type": "stream",
          "text": [
            "BIENVENIDOS AL SISTEMA DE GESTIÓN DE INVENTATIOS DEL HOSPITAL ALMA MÁTER DE ANTIOQUIA\n",
            "1.Biomédica \n",
            "2.Sistemas \n",
            "3.Infraestructura\n",
            "3\n",
            "Ingrese el modelo del equipofiphillis\n",
            "Ingrese la serie del equipo123\n",
            "Ingrese la ubicación del equipohospitalización\n",
            "Ingrese la próxima fecha programada de mantenimiento12/02/2023\n",
            "BIENVENIDOS AL SISTEMA DE GESTIÓN DE INVENTATIOS DEL HOSPITAL ALMA MÁTER DE ANTIOQUIA\n",
            "1.Biomédica \n",
            "2.Sistemas \n",
            "3.Infraestructura\n",
            "2\n",
            "Ingrese el modelo del equiposiemens\n",
            "Ingrese la serie del equipo1234\n",
            "Ingrese la ubicación del equipouci\n",
            "Ingrese la próxima fecha programada de mantenimiento12/9/2025\n",
            "BIENVENIDOS AL SISTEMA DE GESTIÓN DE INVENTATIOS DEL HOSPITAL ALMA MÁTER DE ANTIOQUIA\n",
            "1.Biomédica \n",
            "2.Sistemas \n",
            "3.Infraestructura\n",
            "1\n",
            "Ingrese el modelo del equipoLG\n",
            "Ingrese la serie del equipo456\n",
            "Ingrese la ubicación del equipoConsulta externa\n",
            "Ingrese la próxima fecha programada de mantenimiento9/8/2063\n",
            "1.Ingrese otro activo \n",
            "2.salir\n",
            "2\n"
          ]
        }
      ],
      "source": [
        "equipos=[]\n",
        "cont_activos=0\n",
        "ano='2023'\n",
        "while True:  \n",
        "  print(\"BIENVENIDOS AL SISTEMA DE GESTIÓN DE INVENTATIOS DEL HOSPITAL ALMA MÁTER DE ANTIOQUIA\")\n",
        "  if cont_activos<=3:\n",
        "    menu=int(input('1.Biomédica \\n2.Sistemas \\n3.Infraestructura\\n'))\n",
        "    cont_b=1\n",
        "    cont_s=1\n",
        "    cont_i=1\n",
        "    if menu==1:\n",
        "      area='Biomédica'\n",
        "      cont_activos+=1\n",
        "      num_activo=area[0]+ano+str(cont_b).zfill(4)\n",
        "      cont_b+=1\n",
        "    elif menu==2:\n",
        "      area='Sistemas'\n",
        "      cont_activos+=1\n",
        "      num_activo=area[0]+ano+str(cont_s).zfill(4)\n",
        "      cont_s+=1\n",
        "    elif menu==3:\n",
        "      area='Infraestructura'\n",
        "      cont_activos+=1\n",
        "      num_activo=area[0]+ano+str(cont_i).zfill(4)\n",
        "      cont_i+=1\n",
        "    \n",
        "    modelo=input('Ingrese el modelo del equipo')\n",
        "    serie=input('Ingrese la serie del equipo')\n",
        "    ubicacion=input('Ingrese la ubicación del equipo')\n",
        "    calendario=input('Ingrese la próxima fecha programada de mantenimiento')\n",
        "    equipo=[area,num_activo,modelo,serie,ubicacion,calendario]\n",
        "    equipos.append(equipo)\n",
        "    if cont_activos==3:\n",
        "      opt=int(input('1.Ingrese otro activo \\n2.salir\\n'))\n",
        "      if opt==1:\n",
        "        cont_activos-=1\n",
        "      elif opt==2:\n",
        "        break\n",
        "\n",
        "\n"
      ]
    },
    {
      "cell_type": "code",
      "source": [
        "equipos"
      ],
      "metadata": {
        "colab": {
          "base_uri": "https://localhost:8080/"
        },
        "id": "bA9ADXymUyh5",
        "outputId": "531b6bf8-c35a-43bc-8c6e-bacde5d708ee"
      },
      "execution_count": 5,
      "outputs": [
        {
          "output_type": "execute_result",
          "data": {
            "text/plain": [
              "[['Infraestructura',\n",
              "  'I20230000',\n",
              "  'fiphillis',\n",
              "  '123',\n",
              "  'hospitalización',\n",
              "  '12/02/2023'],\n",
              " ['Sistemas', 'S20230000', 'siemens', '1234', 'uci', '12/9/2025'],\n",
              " ['Biomédica', 'B20230000', 'LG', '456', 'Consulta externa', '9/8/2063']]"
            ]
          },
          "metadata": {},
          "execution_count": 5
        }
      ]
    }
  ]
}