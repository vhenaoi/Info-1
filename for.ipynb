{
 "cells": [
  {
   "cell_type": "code",
   "execution_count": null,
   "metadata": {},
   "outputs": [],
   "source": [
    "a = int(input('Ingrese el valor de a: '))\n",
    "b = int(input('Ingrese el valor de b: '))\n",
    "c = int(input('Ingrese el valor de c: '))\n",
    "central = 0\n",
    "if (a < b) and (b < c):\n",
    "    central = b   \n",
    "elif (a < c) and (c < b):\n",
    "    central = c  \n",
    "elif (b < a) and (a < c):\n",
    "    central = a  \n",
    "elif (b < c) and (c < a):\n",
    "    central = c  \n",
    "elif (c < a) and (a < b):\n",
    "    central = a  \n",
    "elif (c < b) and (b < a):\n",
    "    central = b\n",
    "print(central)"
   ]
  },
  {
   "cell_type": "code",
   "execution_count": null,
   "metadata": {},
   "outputs": [],
   "source": [
    "menopausia = \"\"\n",
    "lh = float(input(\"Ingrese el valor de Hormona Luteinizante (LH): \"))\n",
    "edad = int(input(\"Ingrese la edad del paciente: \"))\n",
    "sexo = int(input(\"Ingrese el género del paciente. 1- Hombre o 2- Mujer: \"))\n",
    "if sexo == 1:\n",
    " \tif edad >= 18:\n",
    "        if lh >= 1.8 and lh <= 8.6:\n",
    "            print(\"Paciente normal\")\n",
    "        else:\n",
    "            print(\"Resultado fuera de rango, solicitar examen complementario.\")\n",
    "    else:\n",
    "        print(\"Los niveles de HL son normalmente bajos durante la infancia.\")\n",
    "else:\n",
    "    if edad >= 18:\n",
    "        menopausia = input(\"Ingresar 'si' o 'no' si a la mujer le ha llegado la menopausia: \")\n",
    "        if menopausia == \"no\":\n",
    "            if lh >= 5.0 and lh <= 25.0:\n",
    "                    print(\"Paciente normal\")\n",
    "            else:\n",
    "                    print(\"Resultado fuera de rango, solicitar examen complementario\")\n",
    "        else:\n",
    "            if lh >= 14.2 and lh <= 52.3:\n",
    "                print(\"Paciente normal\")\n",
    "            else:\n",
    "                print(\"Resultado fuera de rango, solicitar examen complementario\")\n",
    "    else:\n",
    "        print(\"Los niveles de HL son normalmente bajos durante la infancia.\")"
   ]
  }
 ],
 "metadata": {
  "kernelspec": {
   "display_name": "Python 3",
   "language": "python",
   "name": "python3"
  },
  "language_info": {
   "name": "python",
   "version": "3.9.13"
  },
  "orig_nbformat": 4,
  "vscode": {
   "interpreter": {
    "hash": "24b34aafbd53adba058252c385dd0e7e3899fe22cfe46aa7b7cf3b02665efd00"
   }
  }
 },
 "nbformat": 4,
 "nbformat_minor": 2
}
