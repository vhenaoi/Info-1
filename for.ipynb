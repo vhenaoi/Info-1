{
 "cells": [
  {
   "cell_type": "code",
   "execution_count": null,
   "metadata": {},
   "outputs": [],
   "source": [
    "a = int(input('Ingrese el valor de a: '))\n",
    "b = int(input('Ingrese el valor de b: '))\n",
    "c = int(input('Ingrese el valor de c: '))\n",
    "central = 0\n",
    "if (a < b) and (b < c):\n",
    "    central = b   \n",
    "elif (a < c) and (c < b):\n",
    "    central = c  \n",
    "elif (b < a) and (a < c):\n",
    "    central = a  \n",
    "elif (b < c) and (c < a):\n",
    "    central = c  \n",
    "elif (c < a) and (a < b):\n",
    "    central = a  \n",
    "elif (c < b) and (b < a):\n",
    "    central = b\n",
    "print(central)"
   ]
  },
  {
   "cell_type": "code",
   "execution_count": null,
   "metadata": {},
   "outputs": [],
   "source": [
    "menopausia = \"\"\n",
    "lh = float(input(\"Ingrese el valor de Hormona Luteinizante (LH): \"))\n",
    "edad = int(input(\"Ingrese la edad del paciente: \"))\n",
    "sexo = int(input(\"Ingrese el género del paciente. 1- Hombre o 2- Mujer: \"))\n",
    "if sexo == 1:\n",
    "     if edad >= 18:\n",
    "          if lh >= 1.8 and lh <= 8.6:\n",
    "            print(\"Paciente normal\")\n",
    "          else:\n",
    "            print(\"Resultado fuera de rango, solicitar examen complementario.\")\n",
    "elif sexo == 2:\n",
    "    if edad >= 18:\n",
    "        menopausia = input(\"Ingresar 'si' o 'no' si a la mujer le ha llegado la menopausia: \")\n",
    "        if menopausia == \"no\":\n",
    "            if lh >= 5.0 and lh <= 25.0:\n",
    "                    print(\"Paciente normal\")\n",
    "            else:\n",
    "                    print(\"Resultado fuera de rango, solicitar examen complementario\")\n",
    "        elif menopausia == \"si\":\n",
    "            if lh >= 14.2 and lh <= 52.3:\n",
    "                print(\"Paciente normal\")\n",
    "            else:\n",
    "                print(\"Resultado fuera de rango, solicitar examen complementario\")\n",
    "        else:\n",
    "            print('Ingrese unicamente \"si\" o \"no\" en minuscula')\n",
    "    else:\n",
    "        print(\"Los niveles de HL son normalmente bajos durante la infancia.\")\n",
    "else:\n",
    "    print('Ese número no está en las opciones')"
   ]
  },
  {
   "cell_type": "code",
   "execution_count": 1,
   "metadata": {},
   "outputs": [
    {
     "name": "stdout",
     "output_type": "stream",
     "text": [
      "[[8, 14, -6], [12, 7, 4], [-11, 3, 21]]\n"
     ]
    }
   ],
   "source": [
    "M1 = [[8, 14, -6], [12,7,4], [-11,3,21]]\n",
    "print(M1)"
   ]
  },
  {
   "cell_type": "code",
   "execution_count": 1,
   "metadata": {},
   "outputs": [],
   "source": [
    "M = [[None,0,None],[None,'',None],[None,None,[]]]"
   ]
  },
  {
   "cell_type": "code",
   "execution_count": 25,
   "metadata": {},
   "outputs": [
    {
     "name": "stdout",
     "output_type": "stream",
     "text": [
      "Mi matriz tiene 3 listas y cada lista tiene internamente 3 elementos\n"
     ]
    }
   ],
   "source": [
    "print('Mi matriz tiene',len(M),'listas','y cada lista tiene internamente',len(M[0]),'elementos')"
   ]
  },
  {
   "cell_type": "code",
   "execution_count": 6,
   "metadata": {},
   "outputs": [
    {
     "name": "stdout",
     "output_type": "stream",
     "text": [
      "[[None, 0, None], [None, 3, None], [None, None, []]]\n"
     ]
    }
   ],
   "source": [
    "print(M)"
   ]
  },
  {
   "cell_type": "code",
   "execution_count": 4,
   "metadata": {},
   "outputs": [
    {
     "name": "stdout",
     "output_type": "stream",
     "text": [
      "Este espacio esta vacio\n"
     ]
    }
   ],
   "source": [
    "if M[1][1] == None or M[1][1] == '': \n",
    "    print('Este espacio esta vacio')\n",
    "else:\n",
    "    print('Este espacio no esta vacio, este espacio tiene el contenido de: ', M[1][1])"
   ]
  },
  {
   "cell_type": "code",
   "execution_count": 5,
   "metadata": {},
   "outputs": [],
   "source": [
    "M[1][1] = 3"
   ]
  },
  {
   "cell_type": "code",
   "execution_count": 17,
   "metadata": {},
   "outputs": [
    {
     "name": "stdout",
     "output_type": "stream",
     "text": [
      "Hola esta en la posicion 0\n",
      "Bioingenieros esta en la posicion 1\n",
      "de la esta en la posicion 2\n",
      "UdeA esta en la posicion 3\n"
     ]
    }
   ],
   "source": [
    "palabras = [\"Hola\",\"Bioingenieros\", \"de la\", \"UdeA\"]\n",
    "for i,palabra in enumerate(palabras):\n",
    "    print (palabra + \" esta en la posicion \" + str(i))"
   ]
  },
  {
   "cell_type": "code",
   "execution_count": 7,
   "metadata": {},
   "outputs": [
    {
     "name": "stdout",
     "output_type": "stream",
     "text": [
      "0\n",
      "Hola mundo!\n",
      "1\n",
      "Hola mundo!\n",
      "2\n",
      "Hola mundo!\n",
      "3\n",
      "Hola mundo!\n",
      "4\n",
      "Hola mundo!\n"
     ]
    }
   ],
   "source": [
    "for i in range(5):\n",
    " print(i)\n",
    " print (\"Hola mundo!\")\n"
   ]
  },
  {
   "cell_type": "code",
   "execution_count": null,
   "metadata": {},
   "outputs": [],
   "source": []
  }
 ],
 "metadata": {
  "kernelspec": {
   "display_name": "Python 3",
   "language": "python",
   "name": "python3"
  },
  "language_info": {
   "codemirror_mode": {
    "name": "ipython",
    "version": 3
   },
   "file_extension": ".py",
   "mimetype": "text/x-python",
   "name": "python",
   "nbconvert_exporter": "python",
   "pygments_lexer": "ipython3",
   "version": "3.9.13"
  },
  "orig_nbformat": 4,
  "vscode": {
   "interpreter": {
    "hash": "24b34aafbd53adba058252c385dd0e7e3899fe22cfe46aa7b7cf3b02665efd00"
   }
  }
 },
 "nbformat": 4,
 "nbformat_minor": 2
}
