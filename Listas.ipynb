{
 "cells": [
  {
   "attachments": {},
   "cell_type": "markdown",
   "metadata": {},
   "source": [
    "# Repaso"
   ]
  },
  {
   "cell_type": "code",
   "execution_count": null,
   "metadata": {},
   "outputs": [],
   "source": [
    "a = int(input('Ingrese el valor de a: '))\n",
    "b = int(input('Ingrese el valor de b: '))\n",
    "c = int(input('Ingrese el valor de c: '))\n",
    "central = 0\n",
    "if (a < b) and (b < c):\n",
    "    central = b   \n",
    "elif (a < c) and (c < b):\n",
    "    central = c  \n",
    "elif (b < a) and (a < c):\n",
    "    central = a  \n",
    "elif (b < c) and (c < a):\n",
    "    central = c  \n",
    "elif (c < a) and (a < b):\n",
    "    central = a  \n",
    "elif (c < b) and (b < a):\n",
    "    central = b\n",
    "print(central)\n"
   ]
  },
  {
   "cell_type": "code",
   "execution_count": null,
   "metadata": {},
   "outputs": [],
   "source": [
    "menopausia = \"\"\n",
    "lh = float(input(\"Ingrese el valor de Hormona Luteinizante (LH): \"))\n",
    "edad = int(input(\"Ingrese la edad del paciente: \"))\n",
    "sexo = int(input(\"Ingrese el género del paciente. 1- Hombre o 2- Mujer: \"))\n",
    "if sexo == 1:\n",
    " \tif edad >= 18:\n",
    "        if lh >= 1.8 and lh <= 8.6:\n",
    "            print(\"Paciente normal\")\n",
    "        else:\n",
    "            print(\"Resultado fuera de rango, solicitar examen complementario.\")\n",
    "    else:\n",
    "        print(\"Los niveles de HL son normalmente bajos durante la infancia.\")\n",
    "else:\n",
    "    if edad >= 18:\n",
    "        menopausia = input(\"Ingresar 'si' o 'no' si a la mujer le ha llegado la menopausia: \")\n",
    "        if menopausia == \"no\":\n",
    "            if lh >= 5.0 and lh <= 25.0:\n",
    "                    print(\"Paciente normal\")\n",
    "            else:\n",
    "                    print(\"Resultado fuera de rango, solicitar examen complementario\")\n",
    "        else:\n",
    "            if lh >= 14.2 and lh <= 52.3:\n",
    "                print(\"Paciente normal\")\n",
    "            else:\n",
    "                print(\"Resultado fuera de rango, solicitar examen complementario\")\n",
    "    else:\n",
    "        print(\"Los niveles de HL son normalmente bajos durante la infancia.\")\n"
   ]
  },
  {
   "attachments": {},
   "cell_type": "markdown",
   "metadata": {},
   "source": [
    "# Ejemplos clase"
   ]
  },
  {
   "cell_type": "code",
   "execution_count": 1,
   "metadata": {},
   "outputs": [
    {
     "name": "stdout",
     "output_type": "stream",
     "text": [
      "Hola\n",
      "mundo\n",
      "!\n"
     ]
    }
   ],
   "source": [
    "words = [\"Hola\",\"mundo\",\"!\"]\n",
    "print(words[0])\n",
    "print(words[1])\n",
    "print(words[2])"
   ]
  },
  {
   "cell_type": "code",
   "execution_count": null,
   "metadata": {},
   "outputs": [],
   "source": [
    "nums = [5,4,3,2,1]\n",
    "print(nums[1])"
   ]
  },
  {
   "cell_type": "code",
   "execution_count": 2,
   "metadata": {},
   "outputs": [
    {
     "name": "stdout",
     "output_type": "stream",
     "text": [
      "cadena\n",
      "0\n",
      "[1, 2, 3]\n",
      "3\n",
      "4.56\n"
     ]
    }
   ],
   "source": [
    "numero = 3\n",
    "cosas = [\"cadena\",0,[1,2,numero],4.56]\n",
    "print(cosas[0])\n",
    "print(cosas[1])\n",
    "print(cosas[2])\n",
    "print(cosas[2][2])\n",
    "print(cosas[3])"
   ]
  },
  {
   "cell_type": "code",
   "execution_count": null,
   "metadata": {},
   "outputs": [],
   "source": [
    "var = \"Hola mundo!\"\n",
    "print(var[6])"
   ]
  },
  {
   "cell_type": "code",
   "execution_count": null,
   "metadata": {},
   "outputs": [],
   "source": [
    "num = [ 5 , 4 , 3 , [ 2 ] , 1 ]\n",
    "print (num[0])\n",
    "print (num[3][0])\n",
    "print (num[5])"
   ]
  },
  {
   "cell_type": "code",
   "execution_count": null,
   "metadata": {},
   "outputs": [],
   "source": [
    "words = [\"hola\",\"mundo\",\"Bio\",\"UdeA\"]\n",
    "print(\"hola\" in words)\n",
    "print(\"Bio\" in words)\n",
    "print(\"Ingeniería\" in words)\n",
    "print(\"udea\" in words)"
   ]
  },
  {
   "cell_type": "code",
   "execution_count": null,
   "metadata": {},
   "outputs": [],
   "source": [
    "nums = [1,2,3]\n",
    "print(not 4 in nums)\n",
    "print(4 not in nums)\n",
    "print(not 3 in nums)\n",
    "print(3 not in nums)"
   ]
  },
  {
   "cell_type": "code",
   "execution_count": null,
   "metadata": {},
   "outputs": [],
   "source": [
    "nums = [1,2,3]\n",
    "nums.append(4)\n",
    "print(nums)"
   ]
  },
  {
   "cell_type": "code",
   "execution_count": 3,
   "metadata": {},
   "outputs": [
    {
     "name": "stdout",
     "output_type": "stream",
     "text": [
      "mundo\n"
     ]
    }
   ],
   "source": [
    "word = ['hola']\n",
    "word.append('mundo')\n",
    "print(word[1])"
   ]
  },
  {
   "cell_type": "code",
   "execution_count": 4,
   "metadata": {},
   "outputs": [
    {
     "name": "stdout",
     "output_type": "stream",
     "text": [
      "5\n"
     ]
    }
   ],
   "source": [
    "nums = [1,3,5,2,4]\n",
    "print(len(nums))"
   ]
  },
  {
   "cell_type": "code",
   "execution_count": null,
   "metadata": {},
   "outputs": [],
   "source": [
    "palabras = [\"Python\",\"Funciones\"]\n",
    "index = 1\n",
    "palabras.insert(index,\"Método\")\n",
    "print (palabras)"
   ]
  },
  {
   "cell_type": "code",
   "execution_count": null,
   "metadata": {},
   "outputs": [],
   "source": [
    "palabras = [\"Python\",\"Funciones\"]\n",
    "index = 1\n",
    "palabras.insert(index,\"Método\")\n",
    "print (palabras)"
   ]
  },
  {
   "cell_type": "code",
   "execution_count": 5,
   "metadata": {},
   "outputs": [
    {
     "name": "stdout",
     "output_type": "stream",
     "text": [
      "4\n"
     ]
    }
   ],
   "source": [
    "letras = [\"a\",\"b\",\"c\"]\n",
    "letras.append(\"d\") \n",
    "print(len(letras))"
   ]
  },
  {
   "cell_type": "code",
   "execution_count": null,
   "metadata": {},
   "outputs": [],
   "source": [
    "nums = [9,8,7,6,5]\n",
    "nums.append(4)\n",
    "nums.insert(2,11)\n",
    "print(len(nums))"
   ]
  },
  {
   "cell_type": "code",
   "execution_count": null,
   "metadata": {},
   "outputs": [],
   "source": [
    "letras = ['p','q','r','s','p','u']\n",
    "print(letras.index('r'))\n",
    "print(letras.index('p'))\n",
    "print(letras.index('z'))\n",
    "print(letras.index('Q'))"
   ]
  },
  {
   "cell_type": "code",
   "execution_count": 6,
   "metadata": {},
   "outputs": [
    {
     "name": "stdout",
     "output_type": "stream",
     "text": [
      "9\n",
      "u\n",
      "0\n",
      "p\n",
      "3\n",
      "2\n",
      "None\n",
      "[2, 8, 9, 4, 5, 1, 0, 5]\n",
      "None\n",
      "['p', 'q', 's', 'p', 'u']\n",
      "None\n",
      "[5, 0, 1, 5, 4, 9, 8, 2]\n",
      "None\n",
      "['u', 'p', 's', 'q', 'p']\n"
     ]
    }
   ],
   "source": [
    "letras = ['p','q','r','s','p','u']\n",
    "numeros = [2,5,8,9,4,5,1,0,5]\n",
    "print(max(numeros))\n",
    "print(max(letras))\n",
    "print(min(numeros))\n",
    "print(min(letras))\n",
    "print(numeros.count(5))\n",
    "print(letras.count('p'))\n",
    "print(numeros.remove(5))\n",
    "#print(numeros.remove(3))\n",
    "print(numeros)\n",
    "print(letras.remove('r'))\n",
    "print(letras)\n",
    "print(numeros.reverse())\n",
    "print(numeros)\n",
    "print(letras.reverse())\n",
    "print(letras)"
   ]
  },
  {
   "attachments": {},
   "cell_type": "markdown",
   "metadata": {},
   "source": [
    "# Quizizz"
   ]
  },
  {
   "attachments": {},
   "cell_type": "markdown",
   "metadata": {},
   "source": [
    "### Cuál es el orden de las palabras que van en los espacios en blanco para agregar 'z' al final de una lista e imprimir la longitud de una lista."
   ]
  },
  {
   "cell_type": "code",
   "execution_count": 8,
   "metadata": {},
   "outputs": [
    {
     "name": "stdout",
     "output_type": "stream",
     "text": [
      "3\n"
     ]
    }
   ],
   "source": [
    "lista = ['x','y']\n",
    "lista.append('z')\n",
    "print(len(lista))"
   ]
  },
  {
   "attachments": {},
   "cell_type": "markdown",
   "metadata": {},
   "source": [
    "### ¿Cuáles de los siguientes son verdaderos de las listas de Python?"
   ]
  },
  {
   "cell_type": "code",
   "execution_count": 9,
   "metadata": {},
   "outputs": [
    {
     "name": "stdout",
     "output_type": "stream",
     "text": [
      "['a', 1]\n"
     ]
    }
   ],
   "source": [
    "lista = ['a',1]\n",
    "print(lista)"
   ]
  },
  {
   "attachments": {},
   "cell_type": "markdown",
   "metadata": {},
   "source": [
    "### Supongamos la siguiente definición de lista:\n",
    "\n",
    "a = ['foo', 'bar', 'baz', 'qux', 'quux', 'corge']\n",
    "\n",
    "¿Cuál muestra la salida correcta?"
   ]
  },
  {
   "cell_type": "code",
   "execution_count": 10,
   "metadata": {},
   "outputs": [],
   "source": [
    "a = ['foo', 'bar', 'baz', 'qux', 'quux', 'corge']"
   ]
  },
  {
   "cell_type": "code",
   "execution_count": 13,
   "metadata": {},
   "outputs": [
    {
     "data": {
      "text/plain": [
       "'foocorge'"
      ]
     },
     "execution_count": 13,
     "metadata": {},
     "output_type": "execute_result"
    }
   ],
   "source": [
    "a[0]+a[5]"
   ]
  },
  {
   "cell_type": "code",
   "execution_count": 14,
   "metadata": {},
   "outputs": [
    {
     "data": {
      "text/plain": [
       "'corge'"
      ]
     },
     "execution_count": 14,
     "metadata": {},
     "output_type": "execute_result"
    }
   ],
   "source": [
    "a[-1]"
   ]
  },
  {
   "cell_type": "code",
   "execution_count": 17,
   "metadata": {},
   "outputs": [
    {
     "name": "stdout",
     "output_type": "stream",
     "text": [
      "['foo', 'bar', 'baz', 'qux', 'quux', 'corge', 'hola', 'hola']\n"
     ]
    }
   ],
   "source": [
    "a.append('hola')\n",
    "print(a)"
   ]
  },
  {
   "cell_type": "code",
   "execution_count": 18,
   "metadata": {},
   "outputs": [
    {
     "ename": "TypeError",
     "evalue": "can only concatenate list (not \"str\") to list",
     "output_type": "error",
     "traceback": [
      "\u001b[1;31m---------------------------------------------------------------------------\u001b[0m",
      "\u001b[1;31mTypeError\u001b[0m                                 Traceback (most recent call last)",
      "Cell \u001b[1;32mIn[18], line 1\u001b[0m\n\u001b[1;32m----> 1\u001b[0m a\u001b[39m+\u001b[39;49m\u001b[39m'\u001b[39;49m\u001b[39mhola\u001b[39;49m\u001b[39m'\u001b[39;49m\n",
      "\u001b[1;31mTypeError\u001b[0m: can only concatenate list (not \"str\") to list"
     ]
    }
   ],
   "source": [
    "a+'hola'"
   ]
  },
  {
   "attachments": {},
   "cell_type": "markdown",
   "metadata": {},
   "source": [
    "### Cuál es la expresión para imprimir la 'z' del 'baz' que se encuentra en x\n",
    "\n",
    "x = [10, [3.141, 20, [30, 'baz', 2.718]], 'foo']"
   ]
  },
  {
   "cell_type": "code",
   "execution_count": 19,
   "metadata": {},
   "outputs": [],
   "source": [
    "x = [10, [3.141, 20, [30, 'baz', 2.718]], 'foo']"
   ]
  },
  {
   "cell_type": "code",
   "execution_count": 20,
   "metadata": {},
   "outputs": [
    {
     "data": {
      "text/plain": [
       "'z'"
      ]
     },
     "execution_count": 20,
     "metadata": {},
     "output_type": "execute_result"
    }
   ],
   "source": [
    "x[1][2][1][-1]"
   ]
  },
  {
   "cell_type": "code",
   "execution_count": 21,
   "metadata": {},
   "outputs": [
    {
     "data": {
      "text/plain": [
       "['baz', 2.718]"
      ]
     },
     "execution_count": 21,
     "metadata": {},
     "output_type": "execute_result"
    }
   ],
   "source": [
    "x[1][2][1:]"
   ]
  },
  {
   "attachments": {},
   "cell_type": "markdown",
   "metadata": {},
   "source": [
    "### a = [1, 2, 3, 4, 5]\n",
    "\n",
    "Seleccione todas las declaraciones siguientes que eliminen el elemento 3 del medio apara que sea igual a [1, 2, 4, 5]:"
   ]
  },
  {
   "cell_type": "code",
   "execution_count": 35,
   "metadata": {},
   "outputs": [],
   "source": [
    "a = [1,2,3,4,5]"
   ]
  },
  {
   "cell_type": "code",
   "execution_count": 32,
   "metadata": {},
   "outputs": [
    {
     "name": "stdout",
     "output_type": "stream",
     "text": [
      "[1, 2, [], 4, 5]\n"
     ]
    }
   ],
   "source": [
    "a[2] = []\n",
    "print(a)"
   ]
  },
  {
   "cell_type": "code",
   "execution_count": 30,
   "metadata": {},
   "outputs": [
    {
     "name": "stdout",
     "output_type": "stream",
     "text": [
      "[1, 2, 4, 5]\n"
     ]
    }
   ],
   "source": [
    "a[2:3] = []\n",
    "print(a)"
   ]
  },
  {
   "cell_type": "code",
   "execution_count": 34,
   "metadata": {},
   "outputs": [
    {
     "name": "stdout",
     "output_type": "stream",
     "text": [
      "[1, 2, 4, 5]\n"
     ]
    }
   ],
   "source": [
    "del a[2]\n",
    "print(a)"
   ]
  },
  {
   "cell_type": "code",
   "execution_count": 36,
   "metadata": {},
   "outputs": [
    {
     "name": "stdout",
     "output_type": "stream",
     "text": [
      "[1, 2, 4, 5]\n"
     ]
    }
   ],
   "source": [
    "a.remove(3)\n",
    "print(a)"
   ]
  },
  {
   "attachments": {},
   "cell_type": "markdown",
   "metadata": {},
   "source": [
    "### La lista a se define de la siguiente manera:\n",
    "\n",
    "a = ['a', 'b', 'c']\n",
    "\n",
    "¿Cuál de las siguientes afirmaciones suma 'd'y 'e'al final de a, de modo que entonces es igual a ['a', 'b', 'c', 'd', 'e']"
   ]
  },
  {
   "cell_type": "code",
   "execution_count": 51,
   "metadata": {},
   "outputs": [],
   "source": [
    "a = ['a', 'b', 'c']"
   ]
  },
  {
   "cell_type": "code",
   "execution_count": 40,
   "metadata": {},
   "outputs": [
    {
     "name": "stdout",
     "output_type": "stream",
     "text": [
      "['a', 'b', 'c', 'd', 'e']\n"
     ]
    }
   ],
   "source": [
    "a.extend(['d','e'])\n",
    "print(a)"
   ]
  },
  {
   "cell_type": "code",
   "execution_count": 42,
   "metadata": {},
   "outputs": [
    {
     "name": "stdout",
     "output_type": "stream",
     "text": [
      "['a', 'b', 'c', 'd', 'e']\n"
     ]
    }
   ],
   "source": [
    "a += 'de'\n",
    "print(a)"
   ]
  },
  {
   "cell_type": "code",
   "execution_count": 45,
   "metadata": {},
   "outputs": [
    {
     "name": "stdout",
     "output_type": "stream",
     "text": [
      "['a', 'b', 'c', 'd', 'e']\n"
     ]
    }
   ],
   "source": [
    "a += ['d','e']\n",
    "print(a)"
   ]
  },
  {
   "cell_type": "code",
   "execution_count": 47,
   "metadata": {},
   "outputs": [
    {
     "name": "stdout",
     "output_type": "stream",
     "text": [
      "['a', 'b', 'c', ['d', 'e']]\n"
     ]
    }
   ],
   "source": [
    "a.append(['d','e'])\n",
    "print(a)"
   ]
  },
  {
   "cell_type": "code",
   "execution_count": 52,
   "metadata": {},
   "outputs": [
    {
     "name": "stdout",
     "output_type": "stream",
     "text": [
      "['a', 'b', 'c', 'd', 'e']\n"
     ]
    }
   ],
   "source": [
    "a.append('d')\n",
    "a.append('e')\n",
    "print(a)"
   ]
  }
 ],
 "metadata": {
  "kernelspec": {
   "display_name": "Python 3",
   "language": "python",
   "name": "python3"
  },
  "language_info": {
   "codemirror_mode": {
    "name": "ipython",
    "version": 3
   },
   "file_extension": ".py",
   "mimetype": "text/x-python",
   "name": "python",
   "nbconvert_exporter": "python",
   "pygments_lexer": "ipython3",
   "version": "3.9.13"
  },
  "orig_nbformat": 4,
  "vscode": {
   "interpreter": {
    "hash": "24b34aafbd53adba058252c385dd0e7e3899fe22cfe46aa7b7cf3b02665efd00"
   }
  }
 },
 "nbformat": 4,
 "nbformat_minor": 2
}
