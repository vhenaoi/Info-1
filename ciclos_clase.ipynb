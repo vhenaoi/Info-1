{
 "cells": [
  {
   "attachments": {},
   "cell_type": "markdown",
   "metadata": {},
   "source": [
    "# Ejercicios"
   ]
  },
  {
   "attachments": {},
   "cell_type": "markdown",
   "metadata": {},
   "source": [
    "1. Realice un algoritmo que permita calcular la multiplicación de dos números enteros solo usando sumas."
   ]
  },
  {
   "cell_type": "code",
   "execution_count": 13,
   "metadata": {},
   "outputs": [
    {
     "name": "stdout",
     "output_type": "stream",
     "text": [
      "0.5\n",
      "1.00 X 2.00 = 2.00\n",
      "1.00 X 2.00 = 2.00\n",
      "1.00 X 2.00 = 2.00\n"
     ]
    }
   ],
   "source": [
    "while True:\n",
    "\n",
    "    # Validación por tipo (int)\n",
    "    try:\n",
    "        A = int(input('Ingrese el primer número: '))\n",
    "        B = int(input('Ingrese el segundo número: '))\n",
    "    except:\n",
    "        continue\n",
    "\n",
    "\n",
    "    repeticiones = 0\n",
    "    valor = 0\n",
    "    while A>repeticiones:\n",
    "        repeticiones = repeticiones + 1 \n",
    "        valor = valor + B\n",
    "    print('%.2f X %.2f = %.2f'%(A,B,valor))\n",
    "    print('{0:.2f} X {1:.2f} = {2:.2f}'.format(A,B,valor))\n",
    "    print(f'{A:.2f} X {B:.2f} = {valor:.2f}')\n",
    "    break\n",
    "\n",
    "\n",
    "\n",
    "\n"
   ]
  },
  {
   "cell_type": "code",
   "execution_count": 17,
   "metadata": {},
   "outputs": [
    {
     "name": "stdout",
     "output_type": "stream",
     "text": [
      "No se puede dividir por cero\n"
     ]
    }
   ],
   "source": [
    "A=2\n",
    "B=0\n",
    "try:\n",
    "    assert A/B  # Validación por valor (no se puede dividir por cero)\n",
    "except:\n",
    "    print('No se puede dividir por cero')"
   ]
  },
  {
   "attachments": {},
   "cell_type": "markdown",
   "metadata": {},
   "source": [
    "2. Desarrollar un algoritmo que escriba en pantalla, uno después del otro, los resultados de la función n^x desde 0 hasta n, con n entero positivo máximo 9 y x positivo máximo de 9."
   ]
  },
  {
   "cell_type": "code",
   "execution_count": null,
   "metadata": {},
   "outputs": [],
   "source": []
  }
 ],
 "metadata": {
  "kernelspec": {
   "display_name": "Python 3",
   "language": "python",
   "name": "python3"
  },
  "language_info": {
   "codemirror_mode": {
    "name": "ipython",
    "version": 3
   },
   "file_extension": ".py",
   "mimetype": "text/x-python",
   "name": "python",
   "nbconvert_exporter": "python",
   "pygments_lexer": "ipython3",
   "version": "3.9.13"
  },
  "orig_nbformat": 4,
  "vscode": {
   "interpreter": {
    "hash": "24b34aafbd53adba058252c385dd0e7e3899fe22cfe46aa7b7cf3b02665efd00"
   }
  }
 },
 "nbformat": 4,
 "nbformat_minor": 2
}
