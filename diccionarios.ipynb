{
 "cells": [
  {
   "cell_type": "code",
   "execution_count": 1,
   "metadata": {},
   "outputs": [
    {
     "name": "stdout",
     "output_type": "stream",
     "text": [
      "[4, 9, 16, 25]\n",
      "[9, 16, 25, 36, 49]\n",
      "[0]\n"
     ]
    }
   ],
   "source": [
    "cuadrados = [0, 1, 4, 9, 16, 25, 36, 49, 64, 81]\n",
    "print (cuadrados[2:6])\n",
    "print (cuadrados[3:8])\n",
    "print (cuadrados[0:1])"
   ]
  },
  {
   "cell_type": "code",
   "execution_count": 2,
   "metadata": {},
   "outputs": [
    {
     "name": "stdout",
     "output_type": "stream",
     "text": [
      "[0, 1, 4, 9, 16, 25, 36]\n",
      "[49, 64, 81]\n"
     ]
    }
   ],
   "source": [
    "cuadrados = [0, 1, 4, 9, 16, 25, 36, 49, 64, 81]\n",
    "print (cuadrados[:7])\n",
    "print (cuadrados[7:])"
   ]
  },
  {
   "cell_type": "code",
   "execution_count": 3,
   "metadata": {},
   "outputs": [
    {
     "name": "stdout",
     "output_type": "stream",
     "text": [
      "[0, 4, 16, 36, 64]\n",
      "[4, 25]\n"
     ]
    }
   ],
   "source": [
    "cuadrados = [0, 1, 4, 9, 16, 25, 36, 49, 64, 81]\n",
    "print (cuadrados[::2])\n",
    "print (cuadrados[2:8:3])"
   ]
  },
  {
   "cell_type": "code",
   "execution_count": 4,
   "metadata": {},
   "outputs": [
    {
     "name": "stdout",
     "output_type": "stream",
     "text": [
      "spam, eggs, ham\n"
     ]
    }
   ],
   "source": [
    "print(', '.join(['spam','eggs','ham']))\n"
   ]
  },
  {
   "cell_type": "code",
   "execution_count": 5,
   "metadata": {},
   "outputs": [
    {
     "name": "stdout",
     "output_type": "stream",
     "text": [
      "Hola mundo\n"
     ]
    }
   ],
   "source": [
    "print ('Hola Bio'.replace('Bio','mundo'))\n"
   ]
  },
  {
   "cell_type": "code",
   "execution_count": 6,
   "metadata": {},
   "outputs": [
    {
     "name": "stdout",
     "output_type": "stream",
     "text": [
      "True\n",
      "False\n",
      "True\n",
      "True\n",
      "False\n"
     ]
    }
   ],
   "source": [
    "print ('Esta es una oración'.startswith('Esta'))\n",
    "\n",
    "print ('Esta es una oración'.startswith('Estaes'))\n",
    "\n",
    "print ('Esta es una oración'.startswith('Esta es un'))\n",
    "\n",
    "print ('Esta es una oración'.endswith('oración'))\n",
    "\n",
    "print ('Esta es una oración'.endswith('oracion'))"
   ]
  },
  {
   "cell_type": "code",
   "execution_count": 7,
   "metadata": {},
   "outputs": [
    {
     "name": "stdout",
     "output_type": "stream",
     "text": [
      "esto es una oración\n"
     ]
    }
   ],
   "source": [
    "print ('ESTO ES UNA ORACIÓN'.lower())\n"
   ]
  },
  {
   "cell_type": "code",
   "execution_count": 8,
   "metadata": {},
   "outputs": [
    {
     "name": "stdout",
     "output_type": "stream",
     "text": [
      "ESTO ES UNA ORACIÓN\n"
     ]
    }
   ],
   "source": [
    "print ('Esto es una oración'.upper())\n"
   ]
  },
  {
   "cell_type": "code",
   "execution_count": 9,
   "metadata": {},
   "outputs": [
    {
     "name": "stdout",
     "output_type": "stream",
     "text": [
      "['spam', 'eggs', 'ham']\n"
     ]
    }
   ],
   "source": [
    "print ('spam, eggs, ham'.split(', '))\n"
   ]
  },
  {
   "cell_type": "code",
   "execution_count": 10,
   "metadata": {},
   "outputs": [
    {
     "name": "stdout",
     "output_type": "stream",
     "text": [
      "24\n",
      "58\n"
     ]
    }
   ],
   "source": [
    "edades = {'Andrés':24, 'María':42, 'Jorge':58}\n",
    "print(edades['Andrés'])\n",
    "print(edades['Jorge'])"
   ]
  },
  {
   "cell_type": "code",
   "execution_count": 11,
   "metadata": {},
   "outputs": [
    {
     "name": "stdout",
     "output_type": "stream",
     "text": [
      "[255, 0, 0]\n"
     ]
    },
    {
     "ename": "KeyError",
     "evalue": "'amarillo'",
     "output_type": "error",
     "traceback": [
      "\u001b[1;31m---------------------------------------------------------------------------\u001b[0m",
      "\u001b[1;31mKeyError\u001b[0m                                  Traceback (most recent call last)",
      "Cell \u001b[1;32mIn[11], line 3\u001b[0m\n\u001b[0;32m      1\u001b[0m colores \u001b[39m=\u001b[39m {\u001b[39m'\u001b[39m\u001b[39mrojo\u001b[39m\u001b[39m'\u001b[39m:[\u001b[39m255\u001b[39m,\u001b[39m0\u001b[39m,\u001b[39m0\u001b[39m], \u001b[39m'\u001b[39m\u001b[39mverde\u001b[39m\u001b[39m'\u001b[39m:[\u001b[39m0\u001b[39m,\u001b[39m255\u001b[39m,\u001b[39m0\u001b[39m], \u001b[39m'\u001b[39m\u001b[39mazul\u001b[39m\u001b[39m'\u001b[39m:[\u001b[39m0\u001b[39m,\u001b[39m0\u001b[39m,\u001b[39m255\u001b[39m]}\n\u001b[0;32m      2\u001b[0m \u001b[39mprint\u001b[39m(colores[\u001b[39m'\u001b[39m\u001b[39mrojo\u001b[39m\u001b[39m'\u001b[39m])\n\u001b[1;32m----> 3\u001b[0m \u001b[39mprint\u001b[39m(colores[\u001b[39m'\u001b[39;49m\u001b[39mamarillo\u001b[39;49m\u001b[39m'\u001b[39;49m])\n",
      "\u001b[1;31mKeyError\u001b[0m: 'amarillo'"
     ]
    }
   ],
   "source": [
    "colores = {'rojo':[255,0,0], 'verde':[0,255,0], 'azul':[0,0,255]}\n",
    "print(colores['rojo'])\n",
    "print(colores['amarillo'])"
   ]
  },
  {
   "cell_type": "code",
   "execution_count": 12,
   "metadata": {},
   "outputs": [
    {
     "name": "stdout",
     "output_type": "stream",
     "text": [
      "{1: 1, 2: 4, 3: 9, 4: 16, 8: 64}\n"
     ]
    }
   ],
   "source": [
    "raiz = {1:1, 2:4, 3:'Bio', 4:16}\n",
    "raiz[8] = 64\n",
    "raiz[3] = 9\n",
    "print (raiz)"
   ]
  },
  {
   "cell_type": "code",
   "execution_count": 13,
   "metadata": {},
   "outputs": [
    {
     "name": "stdout",
     "output_type": "stream",
     "text": [
      "True\n",
      "False\n",
      "True\n"
     ]
    }
   ],
   "source": [
    "nums = {\n",
    "   1:'Uno', \n",
    "   2:'Dos', \n",
    "   3:'Tres'\n",
    "}\n",
    "print (1 in nums)\n",
    "print ('Tres' in nums)\n",
    "print (4 not in nums)"
   ]
  },
  {
   "cell_type": "code",
   "execution_count": 14,
   "metadata": {},
   "outputs": [
    {
     "name": "stdout",
     "output_type": "stream",
     "text": [
      "[2, 3, 4]\n",
      "None\n",
      "No está en el diccionario\n"
     ]
    }
   ],
   "source": [
    "pares = { 1: 'manzana', \n",
    "   'naranja': [2,3,4], \n",
    "   None: 'True'\n",
    "}\n",
    "print (pares.get('naranja'))\n",
    "print (pares.get(7))\n",
    "print (pares.get(12345,'No está en el diccionario'))"
   ]
  },
  {
   "cell_type": "code",
   "execution_count": 16,
   "metadata": {},
   "outputs": [
    {
     "name": "stdout",
     "output_type": "stream",
     "text": [
      "{'color': 'violeta', 'talla': 'XS', 'precio': 174.25}\n",
      "{}\n"
     ]
    }
   ],
   "source": [
    "diccionario={'color':'violeta','talla':'XS','precio': 174.25} \n",
    "print (diccionario )\n",
    "\n",
    " \n",
    "diccionario.clear() \n",
    "print (diccionario) \n",
    "\n"
   ]
  },
  {
   "cell_type": "code",
   "execution_count": 20,
   "metadata": {},
   "outputs": [
    {
     "name": "stdout",
     "output_type": "stream",
     "text": [
      "{'color': 'violeta', 'talla': 'XS', 'precio': 174.25}\n",
      "{'color': 'violeta', 'talla': 'XS', 'precio': 174.25}\n"
     ]
    }
   ],
   "source": [
    "diccionario = {'color': 'violeta', 'talla': 'XS', 'precio': 174.25}\n",
    "camiseta = diccionario.copy()  \n",
    "print (diccionario)\n",
    "print (camiseta )"
   ]
  },
  {
   "cell_type": "code",
   "execution_count": 21,
   "metadata": {},
   "outputs": [
    {
     "name": "stdout",
     "output_type": "stream",
     "text": [
      "{'color': 'violeta', 'talla': 'XS', 'precio': 174.25}\n",
      "{'color': 'violeta', 'talla': 'XS', 'precio': 174.25}\n",
      "{}\n",
      "{}\n",
      "{'color': 'violeta', 'talla': 'XS', 'precio': 174.25}\n"
     ]
    }
   ],
   "source": [
    "ropa = camiseta \n",
    "print(camiseta) \n",
    "print(ropa) \n",
    "camiseta.clear() \n",
    "print(camiseta) \n",
    "print(ropa)\n",
    "print(diccionario)\n",
    "\n"
   ]
  },
  {
   "cell_type": "code",
   "execution_count": 23,
   "metadata": {},
   "outputs": [
    {
     "name": "stdout",
     "output_type": "stream",
     "text": [
      "{'color': 'verde', 'precio': 45, 'talla': 'M', 'marca': 'Lacoste'}\n",
      "{'color': 'verde', 'precio': 45, 'marca': 'Lacoste', 'talla': 'M'}\n"
     ]
    }
   ],
   "source": [
    "diccionario1 = {'color': 'verde', 'precio': 45}\n",
    "diccionario2 = {'talla': 'M', 'marca': 'Lacoste'}\n",
    "diccionario1.update(diccionario2)\n",
    "print(diccionario1)\n",
    "\n",
    "diccionario1={'color':'verde', 'precio':45, 'marca':'Gef'}\n",
    "diccionario2 = {'talla': 'M', 'marca': 'Lacoste'}\n",
    "diccionario1.update(diccionario2)\n",
    "print(diccionario1)\n"
   ]
  },
  {
   "cell_type": "code",
   "execution_count": 24,
   "metadata": {},
   "outputs": [
    {
     "name": "stdout",
     "output_type": "stream",
     "text": [
      "['color', 'marca', 'talla']\n",
      "('color', 'marca', 'talla')\n"
     ]
    }
   ],
   "source": [
    "diccionario = {'color': 'rosa', 'marca': 'Zara', 'talla': 'U'}\n",
    "claves = list(diccionario.keys())\n",
    "print(claves)\n",
    "claves = tuple(diccionario.keys())\n",
    "print(claves)\n"
   ]
  },
  {
   "cell_type": "code",
   "execution_count": 25,
   "metadata": {},
   "outputs": [
    {
     "data": {
      "text/plain": [
       "['rosa', 'Zara', 'U']"
      ]
     },
     "execution_count": 25,
     "metadata": {},
     "output_type": "execute_result"
    }
   ],
   "source": [
    "diccionario = {'color': 'rosa', 'marca': 'Zara', 'talla': 'U'}\n",
    "valores = list(diccionario.values())\n",
    "valores"
   ]
  }
 ],
 "metadata": {
  "kernelspec": {
   "display_name": "Python 3",
   "language": "python",
   "name": "python3"
  },
  "language_info": {
   "codemirror_mode": {
    "name": "ipython",
    "version": 3
   },
   "file_extension": ".py",
   "mimetype": "text/x-python",
   "name": "python",
   "nbconvert_exporter": "python",
   "pygments_lexer": "ipython3",
   "version": "3.9.13"
  },
  "orig_nbformat": 4
 },
 "nbformat": 4,
 "nbformat_minor": 2
}
